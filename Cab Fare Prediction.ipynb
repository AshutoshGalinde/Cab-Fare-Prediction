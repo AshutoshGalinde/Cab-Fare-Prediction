{
 "cells": [
  {
   "cell_type": "markdown",
   "id": "7fbc1be8",
   "metadata": {},
   "source": [
    "# Problem Statement -"
   ]
  },
  {
   "cell_type": "markdown",
   "id": "4daaf5f8",
   "metadata": {},
   "source": [
    "You are a cab rental start up company. You have successfully run the pilot project and now want to launch your cab service across the country. You have collected the historical data from your pilot porject and have a requirement to apply for analytics for fare prediction. you need to desigh a system that predicts the fare amount for a cab ride in the city. "
   ]
  },
  {
   "cell_type": "markdown",
   "id": "d8c55399",
   "metadata": {},
   "source": [
    "# importing required libraries"
   ]
  },
  {
   "cell_type": "code",
   "execution_count": 151,
   "id": "3163afd7",
   "metadata": {},
   "outputs": [],
   "source": [
    "import os #for input output operations\n",
    "import pandas as pd #for manipulating datastructures and tabular data\n",
    "import numpy as np\n",
    "import matplotlib.pyplot as plt #for data visualization like histogram , linechart, barchart, heatmap\n",
    "import seaborn as sns #for data visualization for interactive images\n",
    "from collections import Counter\n",
    "from sklearn.tree import DecisionTreeRegressor\n",
    "from sklearn.ensemble import RandomForestRegressor\n",
    "from sklearn.ensemble import GradientBoostingRegressor\n",
    "from sklearn.linear_model import LinearRegression #ML algorithm\n",
    "from sklearn.model_selection import train_test_split #splitting dataset\n",
    "from sklearn.metrics import mean_squared_error\n",
    "from sklearn.metrics import r2_score\n",
    "from pprint import pprint\n",
    "from sklearn.model_selection import RandomizedSearchCV\n",
    "from sklearn.model_selection import GridSearchCV\n",
    "\n",
    "%matplotlib inline"
   ]
  },
  {
   "cell_type": "markdown",
   "id": "9000ecfd",
   "metadata": {},
   "source": [
    "# Setting the working directory"
   ]
  },
  {
   "cell_type": "code",
   "execution_count": 4,
   "id": "ed2bf622",
   "metadata": {},
   "outputs": [
    {
     "name": "stdout",
     "output_type": "stream",
     "text": [
      "C:\\Users\\ASHUTOSH\\Desktop\\edu-versity-Projects\\Cab_Fare_Prediction\n"
     ]
    }
   ],
   "source": [
    "os.chdir(\"C:/Users\\ASHUTOSH\\Desktop\\edu-versity-Projects\\Cab_Fare_Prediction\")\n",
    "print(os.getcwd())"
   ]
  },
  {
   "cell_type": "markdown",
   "id": "383cc9a1",
   "metadata": {},
   "source": [
    "# loading the data"
   ]
  },
  {
   "cell_type": "code",
   "execution_count": 5,
   "id": "71c5e6f8",
   "metadata": {},
   "outputs": [],
   "source": [
    "train = pd.read_csv(\"train.csv\")\n",
    "test = pd.read_csv(\"test.csv\")"
   ]
  },
  {
   "cell_type": "code",
   "execution_count": 6,
   "id": "6da5aaee",
   "metadata": {},
   "outputs": [
    {
     "data": {
      "text/html": [
       "<div>\n",
       "<style scoped>\n",
       "    .dataframe tbody tr th:only-of-type {\n",
       "        vertical-align: middle;\n",
       "    }\n",
       "\n",
       "    .dataframe tbody tr th {\n",
       "        vertical-align: top;\n",
       "    }\n",
       "\n",
       "    .dataframe thead th {\n",
       "        text-align: right;\n",
       "    }\n",
       "</style>\n",
       "<table border=\"1\" class=\"dataframe\">\n",
       "  <thead>\n",
       "    <tr style=\"text-align: right;\">\n",
       "      <th></th>\n",
       "      <th>key</th>\n",
       "      <th>fare_amount</th>\n",
       "      <th>pickup_datetime</th>\n",
       "      <th>pickup_longitude</th>\n",
       "      <th>pickup_latitude</th>\n",
       "      <th>dropoff_longitude</th>\n",
       "      <th>dropoff_latitude</th>\n",
       "      <th>passenger_count</th>\n",
       "    </tr>\n",
       "  </thead>\n",
       "  <tbody>\n",
       "    <tr>\n",
       "      <th>0</th>\n",
       "      <td>2010-04-23 15:12:00.000000132</td>\n",
       "      <td>4.10</td>\n",
       "      <td>2010-04-23 15:12:00 UTC</td>\n",
       "      <td>-73.973925</td>\n",
       "      <td>40.748950</td>\n",
       "      <td>-73.966458</td>\n",
       "      <td>40.753695</td>\n",
       "      <td>1</td>\n",
       "    </tr>\n",
       "    <tr>\n",
       "      <th>1</th>\n",
       "      <td>2009-06-15 17:26:21.0000001</td>\n",
       "      <td>4.50</td>\n",
       "      <td>2009-06-15 17:26:21 UTC</td>\n",
       "      <td>-73.844311</td>\n",
       "      <td>40.721319</td>\n",
       "      <td>-73.841610</td>\n",
       "      <td>40.712278</td>\n",
       "      <td>1</td>\n",
       "    </tr>\n",
       "    <tr>\n",
       "      <th>2</th>\n",
       "      <td>2010-01-05 16:52:16.0000002</td>\n",
       "      <td>16.90</td>\n",
       "      <td>2010-01-05 16:52:16 UTC</td>\n",
       "      <td>-74.016048</td>\n",
       "      <td>40.711303</td>\n",
       "      <td>-73.979268</td>\n",
       "      <td>40.782004</td>\n",
       "      <td>1</td>\n",
       "    </tr>\n",
       "    <tr>\n",
       "      <th>3</th>\n",
       "      <td>2011-08-18 00:35:00.00000049</td>\n",
       "      <td>5.70</td>\n",
       "      <td>2011-08-18 00:35:00 UTC</td>\n",
       "      <td>-73.982738</td>\n",
       "      <td>40.761270</td>\n",
       "      <td>-73.991242</td>\n",
       "      <td>40.750562</td>\n",
       "      <td>2</td>\n",
       "    </tr>\n",
       "    <tr>\n",
       "      <th>4</th>\n",
       "      <td>2012-04-21 04:30:42.0000001</td>\n",
       "      <td>7.70</td>\n",
       "      <td>2012-04-21 04:30:42 UTC</td>\n",
       "      <td>-73.987130</td>\n",
       "      <td>40.733143</td>\n",
       "      <td>-73.991567</td>\n",
       "      <td>40.758092</td>\n",
       "      <td>1</td>\n",
       "    </tr>\n",
       "    <tr>\n",
       "      <th>...</th>\n",
       "      <td>...</td>\n",
       "      <td>...</td>\n",
       "      <td>...</td>\n",
       "      <td>...</td>\n",
       "      <td>...</td>\n",
       "      <td>...</td>\n",
       "      <td>...</td>\n",
       "      <td>...</td>\n",
       "    </tr>\n",
       "    <tr>\n",
       "      <th>102822</th>\n",
       "      <td>2015-03-22 06:38:44.0000001</td>\n",
       "      <td>6.00</td>\n",
       "      <td>2015-03-22 06:38:44 UTC</td>\n",
       "      <td>-73.952019</td>\n",
       "      <td>40.824009</td>\n",
       "      <td>-73.940926</td>\n",
       "      <td>40.839195</td>\n",
       "      <td>1</td>\n",
       "    </tr>\n",
       "    <tr>\n",
       "      <th>102823</th>\n",
       "      <td>2014-07-30 18:12:21.0000007</td>\n",
       "      <td>5.50</td>\n",
       "      <td>2014-07-30 18:12:21 UTC</td>\n",
       "      <td>-73.953338</td>\n",
       "      <td>40.767686</td>\n",
       "      <td>-73.963136</td>\n",
       "      <td>40.775248</td>\n",
       "      <td>1</td>\n",
       "    </tr>\n",
       "    <tr>\n",
       "      <th>102824</th>\n",
       "      <td>2011-09-23 04:20:00.00000027</td>\n",
       "      <td>7.30</td>\n",
       "      <td>2011-09-23 04:20:00 UTC</td>\n",
       "      <td>-73.953740</td>\n",
       "      <td>40.779777</td>\n",
       "      <td>-73.940107</td>\n",
       "      <td>40.806462</td>\n",
       "      <td>1</td>\n",
       "    </tr>\n",
       "    <tr>\n",
       "      <th>102825</th>\n",
       "      <td>2013-12-03 21:35:05.0000003</td>\n",
       "      <td>5.00</td>\n",
       "      <td>2013-12-03 21:35:05 UTC</td>\n",
       "      <td>-73.986612</td>\n",
       "      <td>40.719474</td>\n",
       "      <td>-73.984908</td>\n",
       "      <td>40.728074</td>\n",
       "      <td>1</td>\n",
       "    </tr>\n",
       "    <tr>\n",
       "      <th>102826</th>\n",
       "      <td>2010-09-08 16:19:05.0000002</td>\n",
       "      <td>49.57</td>\n",
       "      <td>2010-09-08 16:19:05 UTC</td>\n",
       "      <td>-73.973255</td>\n",
       "      <td>40.763775</td>\n",
       "      <td>-73.956262</td>\n",
       "      <td>40.776293</td>\n",
       "      <td>1</td>\n",
       "    </tr>\n",
       "  </tbody>\n",
       "</table>\n",
       "<p>102827 rows × 8 columns</p>\n",
       "</div>"
      ],
      "text/plain": [
       "                                  key  fare_amount          pickup_datetime  \\\n",
       "0       2010-04-23 15:12:00.000000132         4.10  2010-04-23 15:12:00 UTC   \n",
       "1         2009-06-15 17:26:21.0000001         4.50  2009-06-15 17:26:21 UTC   \n",
       "2         2010-01-05 16:52:16.0000002        16.90  2010-01-05 16:52:16 UTC   \n",
       "3        2011-08-18 00:35:00.00000049         5.70  2011-08-18 00:35:00 UTC   \n",
       "4         2012-04-21 04:30:42.0000001         7.70  2012-04-21 04:30:42 UTC   \n",
       "...                               ...          ...                      ...   \n",
       "102822    2015-03-22 06:38:44.0000001         6.00  2015-03-22 06:38:44 UTC   \n",
       "102823    2014-07-30 18:12:21.0000007         5.50  2014-07-30 18:12:21 UTC   \n",
       "102824   2011-09-23 04:20:00.00000027         7.30  2011-09-23 04:20:00 UTC   \n",
       "102825    2013-12-03 21:35:05.0000003         5.00  2013-12-03 21:35:05 UTC   \n",
       "102826    2010-09-08 16:19:05.0000002        49.57  2010-09-08 16:19:05 UTC   \n",
       "\n",
       "        pickup_longitude  pickup_latitude  dropoff_longitude  \\\n",
       "0             -73.973925        40.748950         -73.966458   \n",
       "1             -73.844311        40.721319         -73.841610   \n",
       "2             -74.016048        40.711303         -73.979268   \n",
       "3             -73.982738        40.761270         -73.991242   \n",
       "4             -73.987130        40.733143         -73.991567   \n",
       "...                  ...              ...                ...   \n",
       "102822        -73.952019        40.824009         -73.940926   \n",
       "102823        -73.953338        40.767686         -73.963136   \n",
       "102824        -73.953740        40.779777         -73.940107   \n",
       "102825        -73.986612        40.719474         -73.984908   \n",
       "102826        -73.973255        40.763775         -73.956262   \n",
       "\n",
       "        dropoff_latitude  passenger_count  \n",
       "0              40.753695                1  \n",
       "1              40.712278                1  \n",
       "2              40.782004                1  \n",
       "3              40.750562                2  \n",
       "4              40.758092                1  \n",
       "...                  ...              ...  \n",
       "102822         40.839195                1  \n",
       "102823         40.775248                1  \n",
       "102824         40.806462                1  \n",
       "102825         40.728074                1  \n",
       "102826         40.776293                1  \n",
       "\n",
       "[102827 rows x 8 columns]"
      ]
     },
     "execution_count": 6,
     "metadata": {},
     "output_type": "execute_result"
    }
   ],
   "source": [
    "train"
   ]
  },
  {
   "cell_type": "code",
   "execution_count": 7,
   "id": "e3dca13d",
   "metadata": {},
   "outputs": [
    {
     "data": {
      "text/html": [
       "<div>\n",
       "<style scoped>\n",
       "    .dataframe tbody tr th:only-of-type {\n",
       "        vertical-align: middle;\n",
       "    }\n",
       "\n",
       "    .dataframe tbody tr th {\n",
       "        vertical-align: top;\n",
       "    }\n",
       "\n",
       "    .dataframe thead th {\n",
       "        text-align: right;\n",
       "    }\n",
       "</style>\n",
       "<table border=\"1\" class=\"dataframe\">\n",
       "  <thead>\n",
       "    <tr style=\"text-align: right;\">\n",
       "      <th></th>\n",
       "      <th>key</th>\n",
       "      <th>pickup_datetime</th>\n",
       "      <th>pickup_longitude</th>\n",
       "      <th>pickup_latitude</th>\n",
       "      <th>dropoff_longitude</th>\n",
       "      <th>dropoff_latitude</th>\n",
       "      <th>passenger_count</th>\n",
       "    </tr>\n",
       "  </thead>\n",
       "  <tbody>\n",
       "    <tr>\n",
       "      <th>0</th>\n",
       "      <td>2015-01-27 13:08:24.0000002</td>\n",
       "      <td>2015-01-27 13:08:24 UTC</td>\n",
       "      <td>-73.973320</td>\n",
       "      <td>40.763805</td>\n",
       "      <td>-73.981430</td>\n",
       "      <td>40.743835</td>\n",
       "      <td>1</td>\n",
       "    </tr>\n",
       "    <tr>\n",
       "      <th>1</th>\n",
       "      <td>2015-01-27 13:08:24.0000003</td>\n",
       "      <td>2015-01-27 13:08:24 UTC</td>\n",
       "      <td>-73.986862</td>\n",
       "      <td>40.719383</td>\n",
       "      <td>-73.998886</td>\n",
       "      <td>40.739201</td>\n",
       "      <td>1</td>\n",
       "    </tr>\n",
       "    <tr>\n",
       "      <th>2</th>\n",
       "      <td>2011-10-08 11:53:44.0000002</td>\n",
       "      <td>2011-10-08 11:53:44 UTC</td>\n",
       "      <td>-73.982524</td>\n",
       "      <td>40.751260</td>\n",
       "      <td>-73.979654</td>\n",
       "      <td>40.746139</td>\n",
       "      <td>1</td>\n",
       "    </tr>\n",
       "    <tr>\n",
       "      <th>3</th>\n",
       "      <td>2012-12-01 21:12:12.0000002</td>\n",
       "      <td>2012-12-01 21:12:12 UTC</td>\n",
       "      <td>-73.981160</td>\n",
       "      <td>40.767807</td>\n",
       "      <td>-73.990448</td>\n",
       "      <td>40.751635</td>\n",
       "      <td>1</td>\n",
       "    </tr>\n",
       "    <tr>\n",
       "      <th>4</th>\n",
       "      <td>2012-12-01 21:12:12.0000003</td>\n",
       "      <td>2012-12-01 21:12:12 UTC</td>\n",
       "      <td>-73.966046</td>\n",
       "      <td>40.789775</td>\n",
       "      <td>-73.988565</td>\n",
       "      <td>40.744427</td>\n",
       "      <td>1</td>\n",
       "    </tr>\n",
       "    <tr>\n",
       "      <th>...</th>\n",
       "      <td>...</td>\n",
       "      <td>...</td>\n",
       "      <td>...</td>\n",
       "      <td>...</td>\n",
       "      <td>...</td>\n",
       "      <td>...</td>\n",
       "      <td>...</td>\n",
       "    </tr>\n",
       "    <tr>\n",
       "      <th>9909</th>\n",
       "      <td>2015-05-10 12:37:51.0000002</td>\n",
       "      <td>2015-05-10 12:37:51 UTC</td>\n",
       "      <td>-73.968124</td>\n",
       "      <td>40.796997</td>\n",
       "      <td>-73.955643</td>\n",
       "      <td>40.780388</td>\n",
       "      <td>6</td>\n",
       "    </tr>\n",
       "    <tr>\n",
       "      <th>9910</th>\n",
       "      <td>2015-01-12 17:05:51.0000001</td>\n",
       "      <td>2015-01-12 17:05:51 UTC</td>\n",
       "      <td>-73.945511</td>\n",
       "      <td>40.803600</td>\n",
       "      <td>-73.960213</td>\n",
       "      <td>40.776371</td>\n",
       "      <td>6</td>\n",
       "    </tr>\n",
       "    <tr>\n",
       "      <th>9911</th>\n",
       "      <td>2015-04-19 20:44:15.0000001</td>\n",
       "      <td>2015-04-19 20:44:15 UTC</td>\n",
       "      <td>-73.991600</td>\n",
       "      <td>40.726608</td>\n",
       "      <td>-73.789742</td>\n",
       "      <td>40.647011</td>\n",
       "      <td>6</td>\n",
       "    </tr>\n",
       "    <tr>\n",
       "      <th>9912</th>\n",
       "      <td>2015-01-31 01:05:19.0000005</td>\n",
       "      <td>2015-01-31 01:05:19 UTC</td>\n",
       "      <td>-73.985573</td>\n",
       "      <td>40.735432</td>\n",
       "      <td>-73.939178</td>\n",
       "      <td>40.801731</td>\n",
       "      <td>6</td>\n",
       "    </tr>\n",
       "    <tr>\n",
       "      <th>9913</th>\n",
       "      <td>2015-01-18 14:06:23.0000006</td>\n",
       "      <td>2015-01-18 14:06:23 UTC</td>\n",
       "      <td>-73.988022</td>\n",
       "      <td>40.754070</td>\n",
       "      <td>-74.000282</td>\n",
       "      <td>40.759220</td>\n",
       "      <td>6</td>\n",
       "    </tr>\n",
       "  </tbody>\n",
       "</table>\n",
       "<p>9914 rows × 7 columns</p>\n",
       "</div>"
      ],
      "text/plain": [
       "                              key          pickup_datetime  pickup_longitude  \\\n",
       "0     2015-01-27 13:08:24.0000002  2015-01-27 13:08:24 UTC        -73.973320   \n",
       "1     2015-01-27 13:08:24.0000003  2015-01-27 13:08:24 UTC        -73.986862   \n",
       "2     2011-10-08 11:53:44.0000002  2011-10-08 11:53:44 UTC        -73.982524   \n",
       "3     2012-12-01 21:12:12.0000002  2012-12-01 21:12:12 UTC        -73.981160   \n",
       "4     2012-12-01 21:12:12.0000003  2012-12-01 21:12:12 UTC        -73.966046   \n",
       "...                           ...                      ...               ...   \n",
       "9909  2015-05-10 12:37:51.0000002  2015-05-10 12:37:51 UTC        -73.968124   \n",
       "9910  2015-01-12 17:05:51.0000001  2015-01-12 17:05:51 UTC        -73.945511   \n",
       "9911  2015-04-19 20:44:15.0000001  2015-04-19 20:44:15 UTC        -73.991600   \n",
       "9912  2015-01-31 01:05:19.0000005  2015-01-31 01:05:19 UTC        -73.985573   \n",
       "9913  2015-01-18 14:06:23.0000006  2015-01-18 14:06:23 UTC        -73.988022   \n",
       "\n",
       "      pickup_latitude  dropoff_longitude  dropoff_latitude  passenger_count  \n",
       "0           40.763805         -73.981430         40.743835                1  \n",
       "1           40.719383         -73.998886         40.739201                1  \n",
       "2           40.751260         -73.979654         40.746139                1  \n",
       "3           40.767807         -73.990448         40.751635                1  \n",
       "4           40.789775         -73.988565         40.744427                1  \n",
       "...               ...                ...               ...              ...  \n",
       "9909        40.796997         -73.955643         40.780388                6  \n",
       "9910        40.803600         -73.960213         40.776371                6  \n",
       "9911        40.726608         -73.789742         40.647011                6  \n",
       "9912        40.735432         -73.939178         40.801731                6  \n",
       "9913        40.754070         -74.000282         40.759220                6  \n",
       "\n",
       "[9914 rows x 7 columns]"
      ]
     },
     "execution_count": 7,
     "metadata": {},
     "output_type": "execute_result"
    }
   ],
   "source": [
    "test"
   ]
  },
  {
   "cell_type": "markdown",
   "id": "bc111877",
   "metadata": {},
   "source": [
    "# Understanding the data"
   ]
  },
  {
   "cell_type": "code",
   "execution_count": 8,
   "id": "fe378d5c",
   "metadata": {},
   "outputs": [
    {
     "data": {
      "text/html": [
       "<div>\n",
       "<style scoped>\n",
       "    .dataframe tbody tr th:only-of-type {\n",
       "        vertical-align: middle;\n",
       "    }\n",
       "\n",
       "    .dataframe tbody tr th {\n",
       "        vertical-align: top;\n",
       "    }\n",
       "\n",
       "    .dataframe thead th {\n",
       "        text-align: right;\n",
       "    }\n",
       "</style>\n",
       "<table border=\"1\" class=\"dataframe\">\n",
       "  <thead>\n",
       "    <tr style=\"text-align: right;\">\n",
       "      <th></th>\n",
       "      <th>key</th>\n",
       "      <th>fare_amount</th>\n",
       "      <th>pickup_datetime</th>\n",
       "      <th>pickup_longitude</th>\n",
       "      <th>pickup_latitude</th>\n",
       "      <th>dropoff_longitude</th>\n",
       "      <th>dropoff_latitude</th>\n",
       "      <th>passenger_count</th>\n",
       "    </tr>\n",
       "  </thead>\n",
       "  <tbody>\n",
       "    <tr>\n",
       "      <th>0</th>\n",
       "      <td>2010-04-23 15:12:00.000000132</td>\n",
       "      <td>4.1</td>\n",
       "      <td>2010-04-23 15:12:00 UTC</td>\n",
       "      <td>-73.973925</td>\n",
       "      <td>40.748950</td>\n",
       "      <td>-73.966458</td>\n",
       "      <td>40.753695</td>\n",
       "      <td>1</td>\n",
       "    </tr>\n",
       "    <tr>\n",
       "      <th>1</th>\n",
       "      <td>2009-06-15 17:26:21.0000001</td>\n",
       "      <td>4.5</td>\n",
       "      <td>2009-06-15 17:26:21 UTC</td>\n",
       "      <td>-73.844311</td>\n",
       "      <td>40.721319</td>\n",
       "      <td>-73.841610</td>\n",
       "      <td>40.712278</td>\n",
       "      <td>1</td>\n",
       "    </tr>\n",
       "    <tr>\n",
       "      <th>2</th>\n",
       "      <td>2010-01-05 16:52:16.0000002</td>\n",
       "      <td>16.9</td>\n",
       "      <td>2010-01-05 16:52:16 UTC</td>\n",
       "      <td>-74.016048</td>\n",
       "      <td>40.711303</td>\n",
       "      <td>-73.979268</td>\n",
       "      <td>40.782004</td>\n",
       "      <td>1</td>\n",
       "    </tr>\n",
       "    <tr>\n",
       "      <th>3</th>\n",
       "      <td>2011-08-18 00:35:00.00000049</td>\n",
       "      <td>5.7</td>\n",
       "      <td>2011-08-18 00:35:00 UTC</td>\n",
       "      <td>-73.982738</td>\n",
       "      <td>40.761270</td>\n",
       "      <td>-73.991242</td>\n",
       "      <td>40.750562</td>\n",
       "      <td>2</td>\n",
       "    </tr>\n",
       "    <tr>\n",
       "      <th>4</th>\n",
       "      <td>2012-04-21 04:30:42.0000001</td>\n",
       "      <td>7.7</td>\n",
       "      <td>2012-04-21 04:30:42 UTC</td>\n",
       "      <td>-73.987130</td>\n",
       "      <td>40.733143</td>\n",
       "      <td>-73.991567</td>\n",
       "      <td>40.758092</td>\n",
       "      <td>1</td>\n",
       "    </tr>\n",
       "  </tbody>\n",
       "</table>\n",
       "</div>"
      ],
      "text/plain": [
       "                             key  fare_amount          pickup_datetime  \\\n",
       "0  2010-04-23 15:12:00.000000132          4.1  2010-04-23 15:12:00 UTC   \n",
       "1    2009-06-15 17:26:21.0000001          4.5  2009-06-15 17:26:21 UTC   \n",
       "2    2010-01-05 16:52:16.0000002         16.9  2010-01-05 16:52:16 UTC   \n",
       "3   2011-08-18 00:35:00.00000049          5.7  2011-08-18 00:35:00 UTC   \n",
       "4    2012-04-21 04:30:42.0000001          7.7  2012-04-21 04:30:42 UTC   \n",
       "\n",
       "   pickup_longitude  pickup_latitude  dropoff_longitude  dropoff_latitude  \\\n",
       "0        -73.973925        40.748950         -73.966458         40.753695   \n",
       "1        -73.844311        40.721319         -73.841610         40.712278   \n",
       "2        -74.016048        40.711303         -73.979268         40.782004   \n",
       "3        -73.982738        40.761270         -73.991242         40.750562   \n",
       "4        -73.987130        40.733143         -73.991567         40.758092   \n",
       "\n",
       "   passenger_count  \n",
       "0                1  \n",
       "1                1  \n",
       "2                1  \n",
       "3                2  \n",
       "4                1  "
      ]
     },
     "execution_count": 8,
     "metadata": {},
     "output_type": "execute_result"
    }
   ],
   "source": [
    "train.head() #checking first five rows of the training dataset"
   ]
  },
  {
   "cell_type": "code",
   "execution_count": 9,
   "id": "b14e0bd7",
   "metadata": {},
   "outputs": [
    {
     "data": {
      "text/html": [
       "<div>\n",
       "<style scoped>\n",
       "    .dataframe tbody tr th:only-of-type {\n",
       "        vertical-align: middle;\n",
       "    }\n",
       "\n",
       "    .dataframe tbody tr th {\n",
       "        vertical-align: top;\n",
       "    }\n",
       "\n",
       "    .dataframe thead th {\n",
       "        text-align: right;\n",
       "    }\n",
       "</style>\n",
       "<table border=\"1\" class=\"dataframe\">\n",
       "  <thead>\n",
       "    <tr style=\"text-align: right;\">\n",
       "      <th></th>\n",
       "      <th>key</th>\n",
       "      <th>fare_amount</th>\n",
       "      <th>pickup_datetime</th>\n",
       "      <th>pickup_longitude</th>\n",
       "      <th>pickup_latitude</th>\n",
       "      <th>dropoff_longitude</th>\n",
       "      <th>dropoff_latitude</th>\n",
       "      <th>passenger_count</th>\n",
       "    </tr>\n",
       "  </thead>\n",
       "  <tbody>\n",
       "    <tr>\n",
       "      <th>102822</th>\n",
       "      <td>2015-03-22 06:38:44.0000001</td>\n",
       "      <td>6.00</td>\n",
       "      <td>2015-03-22 06:38:44 UTC</td>\n",
       "      <td>-73.952019</td>\n",
       "      <td>40.824009</td>\n",
       "      <td>-73.940926</td>\n",
       "      <td>40.839195</td>\n",
       "      <td>1</td>\n",
       "    </tr>\n",
       "    <tr>\n",
       "      <th>102823</th>\n",
       "      <td>2014-07-30 18:12:21.0000007</td>\n",
       "      <td>5.50</td>\n",
       "      <td>2014-07-30 18:12:21 UTC</td>\n",
       "      <td>-73.953338</td>\n",
       "      <td>40.767686</td>\n",
       "      <td>-73.963136</td>\n",
       "      <td>40.775248</td>\n",
       "      <td>1</td>\n",
       "    </tr>\n",
       "    <tr>\n",
       "      <th>102824</th>\n",
       "      <td>2011-09-23 04:20:00.00000027</td>\n",
       "      <td>7.30</td>\n",
       "      <td>2011-09-23 04:20:00 UTC</td>\n",
       "      <td>-73.953740</td>\n",
       "      <td>40.779777</td>\n",
       "      <td>-73.940107</td>\n",
       "      <td>40.806462</td>\n",
       "      <td>1</td>\n",
       "    </tr>\n",
       "    <tr>\n",
       "      <th>102825</th>\n",
       "      <td>2013-12-03 21:35:05.0000003</td>\n",
       "      <td>5.00</td>\n",
       "      <td>2013-12-03 21:35:05 UTC</td>\n",
       "      <td>-73.986612</td>\n",
       "      <td>40.719474</td>\n",
       "      <td>-73.984908</td>\n",
       "      <td>40.728074</td>\n",
       "      <td>1</td>\n",
       "    </tr>\n",
       "    <tr>\n",
       "      <th>102826</th>\n",
       "      <td>2010-09-08 16:19:05.0000002</td>\n",
       "      <td>49.57</td>\n",
       "      <td>2010-09-08 16:19:05 UTC</td>\n",
       "      <td>-73.973255</td>\n",
       "      <td>40.763775</td>\n",
       "      <td>-73.956262</td>\n",
       "      <td>40.776293</td>\n",
       "      <td>1</td>\n",
       "    </tr>\n",
       "  </tbody>\n",
       "</table>\n",
       "</div>"
      ],
      "text/plain": [
       "                                 key  fare_amount          pickup_datetime  \\\n",
       "102822   2015-03-22 06:38:44.0000001         6.00  2015-03-22 06:38:44 UTC   \n",
       "102823   2014-07-30 18:12:21.0000007         5.50  2014-07-30 18:12:21 UTC   \n",
       "102824  2011-09-23 04:20:00.00000027         7.30  2011-09-23 04:20:00 UTC   \n",
       "102825   2013-12-03 21:35:05.0000003         5.00  2013-12-03 21:35:05 UTC   \n",
       "102826   2010-09-08 16:19:05.0000002        49.57  2010-09-08 16:19:05 UTC   \n",
       "\n",
       "        pickup_longitude  pickup_latitude  dropoff_longitude  \\\n",
       "102822        -73.952019        40.824009         -73.940926   \n",
       "102823        -73.953338        40.767686         -73.963136   \n",
       "102824        -73.953740        40.779777         -73.940107   \n",
       "102825        -73.986612        40.719474         -73.984908   \n",
       "102826        -73.973255        40.763775         -73.956262   \n",
       "\n",
       "        dropoff_latitude  passenger_count  \n",
       "102822         40.839195                1  \n",
       "102823         40.775248                1  \n",
       "102824         40.806462                1  \n",
       "102825         40.728074                1  \n",
       "102826         40.776293                1  "
      ]
     },
     "execution_count": 9,
     "metadata": {},
     "output_type": "execute_result"
    }
   ],
   "source": [
    "train.tail()"
   ]
  },
  {
   "cell_type": "code",
   "execution_count": 10,
   "id": "40fd921f",
   "metadata": {},
   "outputs": [
    {
     "data": {
      "text/html": [
       "<div>\n",
       "<style scoped>\n",
       "    .dataframe tbody tr th:only-of-type {\n",
       "        vertical-align: middle;\n",
       "    }\n",
       "\n",
       "    .dataframe tbody tr th {\n",
       "        vertical-align: top;\n",
       "    }\n",
       "\n",
       "    .dataframe thead th {\n",
       "        text-align: right;\n",
       "    }\n",
       "</style>\n",
       "<table border=\"1\" class=\"dataframe\">\n",
       "  <thead>\n",
       "    <tr style=\"text-align: right;\">\n",
       "      <th></th>\n",
       "      <th>key</th>\n",
       "      <th>pickup_datetime</th>\n",
       "      <th>pickup_longitude</th>\n",
       "      <th>pickup_latitude</th>\n",
       "      <th>dropoff_longitude</th>\n",
       "      <th>dropoff_latitude</th>\n",
       "      <th>passenger_count</th>\n",
       "    </tr>\n",
       "  </thead>\n",
       "  <tbody>\n",
       "    <tr>\n",
       "      <th>0</th>\n",
       "      <td>2015-01-27 13:08:24.0000002</td>\n",
       "      <td>2015-01-27 13:08:24 UTC</td>\n",
       "      <td>-73.973320</td>\n",
       "      <td>40.763805</td>\n",
       "      <td>-73.981430</td>\n",
       "      <td>40.743835</td>\n",
       "      <td>1</td>\n",
       "    </tr>\n",
       "    <tr>\n",
       "      <th>1</th>\n",
       "      <td>2015-01-27 13:08:24.0000003</td>\n",
       "      <td>2015-01-27 13:08:24 UTC</td>\n",
       "      <td>-73.986862</td>\n",
       "      <td>40.719383</td>\n",
       "      <td>-73.998886</td>\n",
       "      <td>40.739201</td>\n",
       "      <td>1</td>\n",
       "    </tr>\n",
       "    <tr>\n",
       "      <th>2</th>\n",
       "      <td>2011-10-08 11:53:44.0000002</td>\n",
       "      <td>2011-10-08 11:53:44 UTC</td>\n",
       "      <td>-73.982524</td>\n",
       "      <td>40.751260</td>\n",
       "      <td>-73.979654</td>\n",
       "      <td>40.746139</td>\n",
       "      <td>1</td>\n",
       "    </tr>\n",
       "    <tr>\n",
       "      <th>3</th>\n",
       "      <td>2012-12-01 21:12:12.0000002</td>\n",
       "      <td>2012-12-01 21:12:12 UTC</td>\n",
       "      <td>-73.981160</td>\n",
       "      <td>40.767807</td>\n",
       "      <td>-73.990448</td>\n",
       "      <td>40.751635</td>\n",
       "      <td>1</td>\n",
       "    </tr>\n",
       "    <tr>\n",
       "      <th>4</th>\n",
       "      <td>2012-12-01 21:12:12.0000003</td>\n",
       "      <td>2012-12-01 21:12:12 UTC</td>\n",
       "      <td>-73.966046</td>\n",
       "      <td>40.789775</td>\n",
       "      <td>-73.988565</td>\n",
       "      <td>40.744427</td>\n",
       "      <td>1</td>\n",
       "    </tr>\n",
       "  </tbody>\n",
       "</table>\n",
       "</div>"
      ],
      "text/plain": [
       "                           key          pickup_datetime  pickup_longitude  \\\n",
       "0  2015-01-27 13:08:24.0000002  2015-01-27 13:08:24 UTC        -73.973320   \n",
       "1  2015-01-27 13:08:24.0000003  2015-01-27 13:08:24 UTC        -73.986862   \n",
       "2  2011-10-08 11:53:44.0000002  2011-10-08 11:53:44 UTC        -73.982524   \n",
       "3  2012-12-01 21:12:12.0000002  2012-12-01 21:12:12 UTC        -73.981160   \n",
       "4  2012-12-01 21:12:12.0000003  2012-12-01 21:12:12 UTC        -73.966046   \n",
       "\n",
       "   pickup_latitude  dropoff_longitude  dropoff_latitude  passenger_count  \n",
       "0        40.763805         -73.981430         40.743835                1  \n",
       "1        40.719383         -73.998886         40.739201                1  \n",
       "2        40.751260         -73.979654         40.746139                1  \n",
       "3        40.767807         -73.990448         40.751635                1  \n",
       "4        40.789775         -73.988565         40.744427                1  "
      ]
     },
     "execution_count": 10,
     "metadata": {},
     "output_type": "execute_result"
    }
   ],
   "source": [
    "test.head()"
   ]
  },
  {
   "cell_type": "markdown",
   "id": "f8a40ad1",
   "metadata": {},
   "source": [
    "# Shape of datasets"
   ]
  },
  {
   "cell_type": "code",
   "execution_count": 11,
   "id": "d0d4ab82",
   "metadata": {},
   "outputs": [
    {
     "name": "stdout",
     "output_type": "stream",
     "text": [
      "shape of training data is:  (102827, 8)\n"
     ]
    }
   ],
   "source": [
    "print(\"shape of training data is: \",train.shape)"
   ]
  },
  {
   "cell_type": "code",
   "execution_count": 12,
   "id": "08c7aff1",
   "metadata": {},
   "outputs": [
    {
     "name": "stdout",
     "output_type": "stream",
     "text": [
      "shape of training data is:  (9914, 7)\n"
     ]
    }
   ],
   "source": [
    "print(\"shape of training data is: \",test.shape)"
   ]
  },
  {
   "cell_type": "markdown",
   "id": "24516d9b",
   "metadata": {},
   "source": [
    "# check the data-types"
   ]
  },
  {
   "cell_type": "code",
   "execution_count": 13,
   "id": "b30bb849",
   "metadata": {},
   "outputs": [
    {
     "data": {
      "text/plain": [
       "key                   object\n",
       "fare_amount          float64\n",
       "pickup_datetime       object\n",
       "pickup_longitude     float64\n",
       "pickup_latitude      float64\n",
       "dropoff_longitude    float64\n",
       "dropoff_latitude     float64\n",
       "passenger_count        int64\n",
       "dtype: object"
      ]
     },
     "execution_count": 13,
     "metadata": {},
     "output_type": "execute_result"
    }
   ],
   "source": [
    "train.dtypes"
   ]
  },
  {
   "cell_type": "code",
   "execution_count": 14,
   "id": "e95c23fe",
   "metadata": {},
   "outputs": [
    {
     "data": {
      "text/plain": [
       "key                   object\n",
       "pickup_datetime       object\n",
       "pickup_longitude     float64\n",
       "pickup_latitude      float64\n",
       "dropoff_longitude    float64\n",
       "dropoff_latitude     float64\n",
       "passenger_count        int64\n",
       "dtype: object"
      ]
     },
     "execution_count": 14,
     "metadata": {},
     "output_type": "execute_result"
    }
   ],
   "source": [
    "test.dtypes"
   ]
  },
  {
   "cell_type": "code",
   "execution_count": 15,
   "id": "e8615661",
   "metadata": {},
   "outputs": [
    {
     "data": {
      "text/html": [
       "<div>\n",
       "<style scoped>\n",
       "    .dataframe tbody tr th:only-of-type {\n",
       "        vertical-align: middle;\n",
       "    }\n",
       "\n",
       "    .dataframe tbody tr th {\n",
       "        vertical-align: top;\n",
       "    }\n",
       "\n",
       "    .dataframe thead th {\n",
       "        text-align: right;\n",
       "    }\n",
       "</style>\n",
       "<table border=\"1\" class=\"dataframe\">\n",
       "  <thead>\n",
       "    <tr style=\"text-align: right;\">\n",
       "      <th></th>\n",
       "      <th>fare_amount</th>\n",
       "      <th>pickup_longitude</th>\n",
       "      <th>pickup_latitude</th>\n",
       "      <th>dropoff_longitude</th>\n",
       "      <th>dropoff_latitude</th>\n",
       "      <th>passenger_count</th>\n",
       "    </tr>\n",
       "  </thead>\n",
       "  <tbody>\n",
       "    <tr>\n",
       "      <th>count</th>\n",
       "      <td>102827.000000</td>\n",
       "      <td>102827.000000</td>\n",
       "      <td>102827.000000</td>\n",
       "      <td>102827.000000</td>\n",
       "      <td>102827.000000</td>\n",
       "      <td>102827.000000</td>\n",
       "    </tr>\n",
       "    <tr>\n",
       "      <th>mean</th>\n",
       "      <td>11.356321</td>\n",
       "      <td>-72.508252</td>\n",
       "      <td>39.931850</td>\n",
       "      <td>-72.505382</td>\n",
       "      <td>39.926097</td>\n",
       "      <td>1.668151</td>\n",
       "    </tr>\n",
       "    <tr>\n",
       "      <th>std</th>\n",
       "      <td>9.685669</td>\n",
       "      <td>10.401009</td>\n",
       "      <td>6.230492</td>\n",
       "      <td>10.406964</td>\n",
       "      <td>6.021548</td>\n",
       "      <td>1.289520</td>\n",
       "    </tr>\n",
       "    <tr>\n",
       "      <th>min</th>\n",
       "      <td>-5.000000</td>\n",
       "      <td>-75.423848</td>\n",
       "      <td>-74.006893</td>\n",
       "      <td>-84.654241</td>\n",
       "      <td>-74.006377</td>\n",
       "      <td>0.000000</td>\n",
       "    </tr>\n",
       "    <tr>\n",
       "      <th>25%</th>\n",
       "      <td>6.000000</td>\n",
       "      <td>-73.992055</td>\n",
       "      <td>40.734898</td>\n",
       "      <td>-73.991158</td>\n",
       "      <td>40.734351</td>\n",
       "      <td>1.000000</td>\n",
       "    </tr>\n",
       "    <tr>\n",
       "      <th>50%</th>\n",
       "      <td>8.500000</td>\n",
       "      <td>-73.981813</td>\n",
       "      <td>40.752689</td>\n",
       "      <td>-73.980085</td>\n",
       "      <td>40.753360</td>\n",
       "      <td>1.000000</td>\n",
       "    </tr>\n",
       "    <tr>\n",
       "      <th>75%</th>\n",
       "      <td>12.500000</td>\n",
       "      <td>-73.967145</td>\n",
       "      <td>40.767381</td>\n",
       "      <td>-73.963576</td>\n",
       "      <td>40.768186</td>\n",
       "      <td>2.000000</td>\n",
       "    </tr>\n",
       "    <tr>\n",
       "      <th>max</th>\n",
       "      <td>200.000000</td>\n",
       "      <td>40.783472</td>\n",
       "      <td>401.083332</td>\n",
       "      <td>40.851027</td>\n",
       "      <td>43.415190</td>\n",
       "      <td>6.000000</td>\n",
       "    </tr>\n",
       "  </tbody>\n",
       "</table>\n",
       "</div>"
      ],
      "text/plain": [
       "         fare_amount  pickup_longitude  pickup_latitude  dropoff_longitude  \\\n",
       "count  102827.000000     102827.000000    102827.000000      102827.000000   \n",
       "mean       11.356321        -72.508252        39.931850         -72.505382   \n",
       "std         9.685669         10.401009         6.230492          10.406964   \n",
       "min        -5.000000        -75.423848       -74.006893         -84.654241   \n",
       "25%         6.000000        -73.992055        40.734898         -73.991158   \n",
       "50%         8.500000        -73.981813        40.752689         -73.980085   \n",
       "75%        12.500000        -73.967145        40.767381         -73.963576   \n",
       "max       200.000000         40.783472       401.083332          40.851027   \n",
       "\n",
       "       dropoff_latitude  passenger_count  \n",
       "count     102827.000000    102827.000000  \n",
       "mean          39.926097         1.668151  \n",
       "std            6.021548         1.289520  \n",
       "min          -74.006377         0.000000  \n",
       "25%           40.734351         1.000000  \n",
       "50%           40.753360         1.000000  \n",
       "75%           40.768186         2.000000  \n",
       "max           43.415190         6.000000  "
      ]
     },
     "execution_count": 15,
     "metadata": {},
     "output_type": "execute_result"
    }
   ],
   "source": [
    "train.describe()"
   ]
  },
  {
   "cell_type": "code",
   "execution_count": 16,
   "id": "b9023047",
   "metadata": {},
   "outputs": [
    {
     "data": {
      "text/html": [
       "<div>\n",
       "<style scoped>\n",
       "    .dataframe tbody tr th:only-of-type {\n",
       "        vertical-align: middle;\n",
       "    }\n",
       "\n",
       "    .dataframe tbody tr th {\n",
       "        vertical-align: top;\n",
       "    }\n",
       "\n",
       "    .dataframe thead th {\n",
       "        text-align: right;\n",
       "    }\n",
       "</style>\n",
       "<table border=\"1\" class=\"dataframe\">\n",
       "  <thead>\n",
       "    <tr style=\"text-align: right;\">\n",
       "      <th></th>\n",
       "      <th>pickup_longitude</th>\n",
       "      <th>pickup_latitude</th>\n",
       "      <th>dropoff_longitude</th>\n",
       "      <th>dropoff_latitude</th>\n",
       "      <th>passenger_count</th>\n",
       "    </tr>\n",
       "  </thead>\n",
       "  <tbody>\n",
       "    <tr>\n",
       "      <th>count</th>\n",
       "      <td>9914.000000</td>\n",
       "      <td>9914.000000</td>\n",
       "      <td>9914.000000</td>\n",
       "      <td>9914.000000</td>\n",
       "      <td>9914.000000</td>\n",
       "    </tr>\n",
       "    <tr>\n",
       "      <th>mean</th>\n",
       "      <td>-73.974722</td>\n",
       "      <td>40.751041</td>\n",
       "      <td>-73.973657</td>\n",
       "      <td>40.751743</td>\n",
       "      <td>1.671273</td>\n",
       "    </tr>\n",
       "    <tr>\n",
       "      <th>std</th>\n",
       "      <td>0.042774</td>\n",
       "      <td>0.033541</td>\n",
       "      <td>0.039072</td>\n",
       "      <td>0.035435</td>\n",
       "      <td>1.278747</td>\n",
       "    </tr>\n",
       "    <tr>\n",
       "      <th>min</th>\n",
       "      <td>-74.252193</td>\n",
       "      <td>40.573143</td>\n",
       "      <td>-74.263242</td>\n",
       "      <td>40.568973</td>\n",
       "      <td>1.000000</td>\n",
       "    </tr>\n",
       "    <tr>\n",
       "      <th>25%</th>\n",
       "      <td>-73.992501</td>\n",
       "      <td>40.736125</td>\n",
       "      <td>-73.991247</td>\n",
       "      <td>40.735254</td>\n",
       "      <td>1.000000</td>\n",
       "    </tr>\n",
       "    <tr>\n",
       "      <th>50%</th>\n",
       "      <td>-73.982326</td>\n",
       "      <td>40.753051</td>\n",
       "      <td>-73.980015</td>\n",
       "      <td>40.754065</td>\n",
       "      <td>1.000000</td>\n",
       "    </tr>\n",
       "    <tr>\n",
       "      <th>75%</th>\n",
       "      <td>-73.968013</td>\n",
       "      <td>40.767113</td>\n",
       "      <td>-73.964059</td>\n",
       "      <td>40.768757</td>\n",
       "      <td>2.000000</td>\n",
       "    </tr>\n",
       "    <tr>\n",
       "      <th>max</th>\n",
       "      <td>-72.986532</td>\n",
       "      <td>41.709555</td>\n",
       "      <td>-72.990963</td>\n",
       "      <td>41.696683</td>\n",
       "      <td>6.000000</td>\n",
       "    </tr>\n",
       "  </tbody>\n",
       "</table>\n",
       "</div>"
      ],
      "text/plain": [
       "       pickup_longitude  pickup_latitude  dropoff_longitude  dropoff_latitude  \\\n",
       "count       9914.000000      9914.000000        9914.000000       9914.000000   \n",
       "mean         -73.974722        40.751041         -73.973657         40.751743   \n",
       "std            0.042774         0.033541           0.039072          0.035435   \n",
       "min          -74.252193        40.573143         -74.263242         40.568973   \n",
       "25%          -73.992501        40.736125         -73.991247         40.735254   \n",
       "50%          -73.982326        40.753051         -73.980015         40.754065   \n",
       "75%          -73.968013        40.767113         -73.964059         40.768757   \n",
       "max          -72.986532        41.709555         -72.990963         41.696683   \n",
       "\n",
       "       passenger_count  \n",
       "count      9914.000000  \n",
       "mean          1.671273  \n",
       "std           1.278747  \n",
       "min           1.000000  \n",
       "25%           1.000000  \n",
       "50%           1.000000  \n",
       "75%           2.000000  \n",
       "max           6.000000  "
      ]
     },
     "execution_count": 16,
     "metadata": {},
     "output_type": "execute_result"
    }
   ],
   "source": [
    "test.describe()"
   ]
  },
  {
   "cell_type": "markdown",
   "id": "a944ec35",
   "metadata": {},
   "source": [
    "# Data Pre-processing"
   ]
  },
  {
   "cell_type": "markdown",
   "id": "8103c88e",
   "metadata": {},
   "source": [
    "### Data Exploring and Missing Analysis"
   ]
  },
  {
   "cell_type": "markdown",
   "id": "e4862b27",
   "metadata": {},
   "source": [
    "(if our fare amount is in object dtype we should change it to float dtype) "
   ]
  },
  {
   "cell_type": "code",
   "execution_count": 17,
   "id": "7d7313ea",
   "metadata": {},
   "outputs": [],
   "source": [
    "# train[\"fair_amount\"] = pd.to_numeric(train[\"fare_amount\"], errors = \"coerce\")"
   ]
  },
  {
   "cell_type": "code",
   "execution_count": 18,
   "id": "8eb6bb8c",
   "metadata": {},
   "outputs": [
    {
     "data": {
      "text/plain": [
       "key                   object\n",
       "fare_amount          float64\n",
       "pickup_datetime       object\n",
       "pickup_longitude     float64\n",
       "pickup_latitude      float64\n",
       "dropoff_longitude    float64\n",
       "dropoff_latitude     float64\n",
       "passenger_count        int64\n",
       "dtype: object"
      ]
     },
     "execution_count": 18,
     "metadata": {},
     "output_type": "execute_result"
    }
   ],
   "source": [
    "train.dtypes"
   ]
  },
  {
   "cell_type": "code",
   "execution_count": 19,
   "id": "322f7469",
   "metadata": {},
   "outputs": [
    {
     "data": {
      "text/plain": [
       "(102827, 8)"
      ]
     },
     "execution_count": 19,
     "metadata": {},
     "output_type": "execute_result"
    }
   ],
   "source": [
    "train.shape"
   ]
  },
  {
   "cell_type": "markdown",
   "id": "5d4e9d65",
   "metadata": {},
   "source": [
    "## Dropping NA values in datetime column"
   ]
  },
  {
   "cell_type": "code",
   "execution_count": 20,
   "id": "70467686",
   "metadata": {},
   "outputs": [
    {
     "data": {
      "text/html": [
       "<div>\n",
       "<style scoped>\n",
       "    .dataframe tbody tr th:only-of-type {\n",
       "        vertical-align: middle;\n",
       "    }\n",
       "\n",
       "    .dataframe tbody tr th {\n",
       "        vertical-align: top;\n",
       "    }\n",
       "\n",
       "    .dataframe thead th {\n",
       "        text-align: right;\n",
       "    }\n",
       "</style>\n",
       "<table border=\"1\" class=\"dataframe\">\n",
       "  <thead>\n",
       "    <tr style=\"text-align: right;\">\n",
       "      <th></th>\n",
       "      <th>key</th>\n",
       "      <th>fare_amount</th>\n",
       "      <th>pickup_datetime</th>\n",
       "      <th>pickup_longitude</th>\n",
       "      <th>pickup_latitude</th>\n",
       "      <th>dropoff_longitude</th>\n",
       "      <th>dropoff_latitude</th>\n",
       "      <th>passenger_count</th>\n",
       "    </tr>\n",
       "  </thead>\n",
       "  <tbody>\n",
       "    <tr>\n",
       "      <th>0</th>\n",
       "      <td>2010-04-23 15:12:00.000000132</td>\n",
       "      <td>4.10</td>\n",
       "      <td>2010-04-23 15:12:00 UTC</td>\n",
       "      <td>-73.973925</td>\n",
       "      <td>40.748950</td>\n",
       "      <td>-73.966458</td>\n",
       "      <td>40.753695</td>\n",
       "      <td>1</td>\n",
       "    </tr>\n",
       "    <tr>\n",
       "      <th>1</th>\n",
       "      <td>2009-06-15 17:26:21.0000001</td>\n",
       "      <td>4.50</td>\n",
       "      <td>2009-06-15 17:26:21 UTC</td>\n",
       "      <td>-73.844311</td>\n",
       "      <td>40.721319</td>\n",
       "      <td>-73.841610</td>\n",
       "      <td>40.712278</td>\n",
       "      <td>1</td>\n",
       "    </tr>\n",
       "    <tr>\n",
       "      <th>2</th>\n",
       "      <td>2010-01-05 16:52:16.0000002</td>\n",
       "      <td>16.90</td>\n",
       "      <td>2010-01-05 16:52:16 UTC</td>\n",
       "      <td>-74.016048</td>\n",
       "      <td>40.711303</td>\n",
       "      <td>-73.979268</td>\n",
       "      <td>40.782004</td>\n",
       "      <td>1</td>\n",
       "    </tr>\n",
       "    <tr>\n",
       "      <th>3</th>\n",
       "      <td>2011-08-18 00:35:00.00000049</td>\n",
       "      <td>5.70</td>\n",
       "      <td>2011-08-18 00:35:00 UTC</td>\n",
       "      <td>-73.982738</td>\n",
       "      <td>40.761270</td>\n",
       "      <td>-73.991242</td>\n",
       "      <td>40.750562</td>\n",
       "      <td>2</td>\n",
       "    </tr>\n",
       "    <tr>\n",
       "      <th>4</th>\n",
       "      <td>2012-04-21 04:30:42.0000001</td>\n",
       "      <td>7.70</td>\n",
       "      <td>2012-04-21 04:30:42 UTC</td>\n",
       "      <td>-73.987130</td>\n",
       "      <td>40.733143</td>\n",
       "      <td>-73.991567</td>\n",
       "      <td>40.758092</td>\n",
       "      <td>1</td>\n",
       "    </tr>\n",
       "    <tr>\n",
       "      <th>...</th>\n",
       "      <td>...</td>\n",
       "      <td>...</td>\n",
       "      <td>...</td>\n",
       "      <td>...</td>\n",
       "      <td>...</td>\n",
       "      <td>...</td>\n",
       "      <td>...</td>\n",
       "      <td>...</td>\n",
       "    </tr>\n",
       "    <tr>\n",
       "      <th>102822</th>\n",
       "      <td>2015-03-22 06:38:44.0000001</td>\n",
       "      <td>6.00</td>\n",
       "      <td>2015-03-22 06:38:44 UTC</td>\n",
       "      <td>-73.952019</td>\n",
       "      <td>40.824009</td>\n",
       "      <td>-73.940926</td>\n",
       "      <td>40.839195</td>\n",
       "      <td>1</td>\n",
       "    </tr>\n",
       "    <tr>\n",
       "      <th>102823</th>\n",
       "      <td>2014-07-30 18:12:21.0000007</td>\n",
       "      <td>5.50</td>\n",
       "      <td>2014-07-30 18:12:21 UTC</td>\n",
       "      <td>-73.953338</td>\n",
       "      <td>40.767686</td>\n",
       "      <td>-73.963136</td>\n",
       "      <td>40.775248</td>\n",
       "      <td>1</td>\n",
       "    </tr>\n",
       "    <tr>\n",
       "      <th>102824</th>\n",
       "      <td>2011-09-23 04:20:00.00000027</td>\n",
       "      <td>7.30</td>\n",
       "      <td>2011-09-23 04:20:00 UTC</td>\n",
       "      <td>-73.953740</td>\n",
       "      <td>40.779777</td>\n",
       "      <td>-73.940107</td>\n",
       "      <td>40.806462</td>\n",
       "      <td>1</td>\n",
       "    </tr>\n",
       "    <tr>\n",
       "      <th>102825</th>\n",
       "      <td>2013-12-03 21:35:05.0000003</td>\n",
       "      <td>5.00</td>\n",
       "      <td>2013-12-03 21:35:05 UTC</td>\n",
       "      <td>-73.986612</td>\n",
       "      <td>40.719474</td>\n",
       "      <td>-73.984908</td>\n",
       "      <td>40.728074</td>\n",
       "      <td>1</td>\n",
       "    </tr>\n",
       "    <tr>\n",
       "      <th>102826</th>\n",
       "      <td>2010-09-08 16:19:05.0000002</td>\n",
       "      <td>49.57</td>\n",
       "      <td>2010-09-08 16:19:05 UTC</td>\n",
       "      <td>-73.973255</td>\n",
       "      <td>40.763775</td>\n",
       "      <td>-73.956262</td>\n",
       "      <td>40.776293</td>\n",
       "      <td>1</td>\n",
       "    </tr>\n",
       "  </tbody>\n",
       "</table>\n",
       "<p>102827 rows × 8 columns</p>\n",
       "</div>"
      ],
      "text/plain": [
       "                                  key  fare_amount          pickup_datetime  \\\n",
       "0       2010-04-23 15:12:00.000000132         4.10  2010-04-23 15:12:00 UTC   \n",
       "1         2009-06-15 17:26:21.0000001         4.50  2009-06-15 17:26:21 UTC   \n",
       "2         2010-01-05 16:52:16.0000002        16.90  2010-01-05 16:52:16 UTC   \n",
       "3        2011-08-18 00:35:00.00000049         5.70  2011-08-18 00:35:00 UTC   \n",
       "4         2012-04-21 04:30:42.0000001         7.70  2012-04-21 04:30:42 UTC   \n",
       "...                               ...          ...                      ...   \n",
       "102822    2015-03-22 06:38:44.0000001         6.00  2015-03-22 06:38:44 UTC   \n",
       "102823    2014-07-30 18:12:21.0000007         5.50  2014-07-30 18:12:21 UTC   \n",
       "102824   2011-09-23 04:20:00.00000027         7.30  2011-09-23 04:20:00 UTC   \n",
       "102825    2013-12-03 21:35:05.0000003         5.00  2013-12-03 21:35:05 UTC   \n",
       "102826    2010-09-08 16:19:05.0000002        49.57  2010-09-08 16:19:05 UTC   \n",
       "\n",
       "        pickup_longitude  pickup_latitude  dropoff_longitude  \\\n",
       "0             -73.973925        40.748950         -73.966458   \n",
       "1             -73.844311        40.721319         -73.841610   \n",
       "2             -74.016048        40.711303         -73.979268   \n",
       "3             -73.982738        40.761270         -73.991242   \n",
       "4             -73.987130        40.733143         -73.991567   \n",
       "...                  ...              ...                ...   \n",
       "102822        -73.952019        40.824009         -73.940926   \n",
       "102823        -73.953338        40.767686         -73.963136   \n",
       "102824        -73.953740        40.779777         -73.940107   \n",
       "102825        -73.986612        40.719474         -73.984908   \n",
       "102826        -73.973255        40.763775         -73.956262   \n",
       "\n",
       "        dropoff_latitude  passenger_count  \n",
       "0              40.753695                1  \n",
       "1              40.712278                1  \n",
       "2              40.782004                1  \n",
       "3              40.750562                2  \n",
       "4              40.758092                1  \n",
       "...                  ...              ...  \n",
       "102822         40.839195                1  \n",
       "102823         40.775248                1  \n",
       "102824         40.806462                1  \n",
       "102825         40.728074                1  \n",
       "102826         40.776293                1  \n",
       "\n",
       "[102827 rows x 8 columns]"
      ]
     },
     "execution_count": 20,
     "metadata": {},
     "output_type": "execute_result"
    }
   ],
   "source": [
    "train.dropna(subset= [\"pickup_datetime\"])"
   ]
  },
  {
   "cell_type": "markdown",
   "id": "0aa28c19",
   "metadata": {},
   "source": [
    "here pickup_datetime variable is in object so we need to change the data type to  datetime"
   ]
  },
  {
   "cell_type": "code",
   "execution_count": 21,
   "id": "745f4521",
   "metadata": {},
   "outputs": [],
   "source": [
    "train['pickup_datetime'] = pd.to_datetime(train['pickup_datetime'], format= '%Y-%m-%d %H:%M:%S UTC')"
   ]
  },
  {
   "cell_type": "markdown",
   "id": "440352bd",
   "metadata": {},
   "source": [
    "Seprating Pickup_data of train into seprate Yesr, month, Day and etc "
   ]
  },
  {
   "cell_type": "code",
   "execution_count": 22,
   "id": "de323a62",
   "metadata": {},
   "outputs": [],
   "source": [
    "train['year'] = train['pickup_datetime'].dt.year\n",
    "train['Month'] = train['pickup_datetime'].dt.month\n",
    "train['Date'] = train['pickup_datetime'].dt.day\n",
    "train['Day'] = train['pickup_datetime'].dt.dayofweek\n",
    "train['Hour'] = train['pickup_datetime'].dt.hour\n",
    "train['Minute'] = train['pickup_datetime'].dt.minute"
   ]
  },
  {
   "cell_type": "code",
   "execution_count": 23,
   "id": "7d6e643a",
   "metadata": {},
   "outputs": [
    {
     "data": {
      "text/plain": [
       "key                          object\n",
       "fare_amount                 float64\n",
       "pickup_datetime      datetime64[ns]\n",
       "pickup_longitude            float64\n",
       "pickup_latitude             float64\n",
       "dropoff_longitude           float64\n",
       "dropoff_latitude            float64\n",
       "passenger_count               int64\n",
       "year                          int64\n",
       "Month                         int64\n",
       "Date                          int64\n",
       "Day                           int64\n",
       "Hour                          int64\n",
       "Minute                        int64\n",
       "dtype: object"
      ]
     },
     "execution_count": 23,
     "metadata": {},
     "output_type": "execute_result"
    }
   ],
   "source": [
    "train.dtypes"
   ]
  },
  {
   "cell_type": "code",
   "execution_count": 24,
   "id": "4322dee9",
   "metadata": {},
   "outputs": [],
   "source": [
    "train['year'] = train['year'].astype(np.float64)\n",
    "train['Month'] = train['Month'].astype(np.float64)\n",
    "train['Date'] = train['Date'].astype(np.float64)\n",
    "train['Day'] = train['Day'].astype(np.float64)\n",
    "train['Hour'] = train['Hour'].astype(np.float64)\n",
    "train['Minute'] = train['Minute'].astype(np.float64)\n",
    "train['passenger_count'] = train['passenger_count'].astype(np.float64)"
   ]
  },
  {
   "cell_type": "code",
   "execution_count": 25,
   "id": "8793dddb",
   "metadata": {},
   "outputs": [],
   "source": [
    "test['pickup_datetime'] = pd.to_datetime(test['pickup_datetime'], format= '%Y-%m-%d %H:%M:%S UTC')"
   ]
  },
  {
   "cell_type": "markdown",
   "id": "105b5977",
   "metadata": {},
   "source": [
    "Seprating Pickup_data of test into seprate Year, month, Day and etc "
   ]
  },
  {
   "cell_type": "code",
   "execution_count": 26,
   "id": "4117593c",
   "metadata": {},
   "outputs": [],
   "source": [
    "test['year'] = test['pickup_datetime'].dt.year\n",
    "test['Month'] = test['pickup_datetime'].dt.month\n",
    "test['Date'] = test['pickup_datetime'].dt.day\n",
    "test['Day'] = test['pickup_datetime'].dt.dayofweek\n",
    "test['Hour'] = test['pickup_datetime'].dt.hour\n",
    "test['Minute'] = test['pickup_datetime'].dt.minute"
   ]
  },
  {
   "cell_type": "code",
   "execution_count": 27,
   "id": "09baa1b8",
   "metadata": {},
   "outputs": [
    {
     "data": {
      "text/plain": [
       "key                          object\n",
       "pickup_datetime      datetime64[ns]\n",
       "pickup_longitude            float64\n",
       "pickup_latitude             float64\n",
       "dropoff_longitude           float64\n",
       "dropoff_latitude            float64\n",
       "passenger_count               int64\n",
       "year                          int64\n",
       "Month                         int64\n",
       "Date                          int64\n",
       "Day                           int64\n",
       "Hour                          int64\n",
       "Minute                        int64\n",
       "dtype: object"
      ]
     },
     "execution_count": 27,
     "metadata": {},
     "output_type": "execute_result"
    }
   ],
   "source": [
    "test.dtypes"
   ]
  },
  {
   "cell_type": "markdown",
   "id": "60a64155",
   "metadata": {},
   "source": [
    "# Missing Value Analysis"
   ]
  },
  {
   "cell_type": "code",
   "execution_count": 28,
   "id": "65f3ef4a",
   "metadata": {},
   "outputs": [
    {
     "name": "stdout",
     "output_type": "stream",
     "text": [
      "(102827, 14)\n",
      "0\n"
     ]
    }
   ],
   "source": [
    "#removing datetime missing value rows\n",
    "train = train.drop(train[train['pickup_datetime'].isnull()].index, axis = 0)\n",
    "print(train.shape)\n",
    "print(train['pickup_datetime'].isnull().sum())"
   ]
  },
  {
   "cell_type": "code",
   "execution_count": 29,
   "id": "6445a6bd",
   "metadata": {},
   "outputs": [
    {
     "data": {
      "text/plain": [
       "count    102827.000000\n",
       "mean          1.668151\n",
       "std           1.289520\n",
       "min           0.000000\n",
       "25%           1.000000\n",
       "50%           1.000000\n",
       "75%           2.000000\n",
       "max           6.000000\n",
       "Name: passenger_count, dtype: float64"
      ]
     },
     "execution_count": 29,
     "metadata": {},
     "output_type": "execute_result"
    }
   ],
   "source": [
    "train[\"passenger_count\"].describe()"
   ]
  },
  {
   "cell_type": "code",
   "execution_count": 30,
   "id": "2ad586b3",
   "metadata": {},
   "outputs": [],
   "source": [
    "# train = train.drop(train[train[\"passenger_count\"]>6].index, axis=0)"
   ]
  },
  {
   "cell_type": "markdown",
   "id": "4edbd62c",
   "metadata": {},
   "source": [
    "Removing value with passenger count of 0"
   ]
  },
  {
   "cell_type": "code",
   "execution_count": 31,
   "id": "7566490d",
   "metadata": {},
   "outputs": [],
   "source": [
    "train= train.drop(train[train[\"passenger_count\"]== 0].index, axis=0)"
   ]
  },
  {
   "cell_type": "code",
   "execution_count": 32,
   "id": "9878c676",
   "metadata": {},
   "outputs": [
    {
     "data": {
      "text/plain": [
       "count    102482.000000\n",
       "mean          1.673767\n",
       "std           1.288045\n",
       "min           1.000000\n",
       "25%           1.000000\n",
       "50%           1.000000\n",
       "75%           2.000000\n",
       "max           6.000000\n",
       "Name: passenger_count, dtype: float64"
      ]
     },
     "execution_count": 32,
     "metadata": {},
     "output_type": "execute_result"
    }
   ],
   "source": [
    "train ['passenger_count'].describe()"
   ]
  },
  {
   "cell_type": "code",
   "execution_count": 33,
   "id": "62079a8f",
   "metadata": {},
   "outputs": [
    {
     "data": {
      "text/plain": [
       "0        1.0\n",
       "62284    1.0\n",
       "62282    1.0\n",
       "62281    1.0\n",
       "62280    1.0\n",
       "        ... \n",
       "74996    6.0\n",
       "51976    6.0\n",
       "74999    6.0\n",
       "74259    6.0\n",
       "7271     6.0\n",
       "Name: passenger_count, Length: 102482, dtype: float64"
      ]
     },
     "execution_count": 33,
     "metadata": {},
     "output_type": "execute_result"
    }
   ],
   "source": [
    "train[\"passenger_count\"].sort_values(ascending = True)"
   ]
  },
  {
   "cell_type": "markdown",
   "id": "d8804906",
   "metadata": {},
   "source": [
    "Removing missing value rows for passenger_count"
   ]
  },
  {
   "cell_type": "code",
   "execution_count": 34,
   "id": "e392f9b7",
   "metadata": {},
   "outputs": [
    {
     "name": "stdout",
     "output_type": "stream",
     "text": [
      "(102482, 14)\n",
      "0\n"
     ]
    }
   ],
   "source": [
    "train = train.drop(train[train['passenger_count'].isnull()].index, axis=0)\n",
    "print(train.shape)\n",
    "print(train['passenger_count'].isnull().sum())"
   ]
  },
  {
   "cell_type": "code",
   "execution_count": 35,
   "id": "c7b19bed",
   "metadata": {},
   "outputs": [
    {
     "data": {
      "text/plain": [
       "(102482, 14)"
      ]
     },
     "execution_count": 35,
     "metadata": {},
     "output_type": "execute_result"
    }
   ],
   "source": [
    "#check whether there is 0.12 values and remove it\n",
    "train= train.drop(train[train[\"passenger_count\"]== 0.12].index, axis=0)\n",
    "train.shape"
   ]
  },
  {
   "cell_type": "markdown",
   "id": "d9ab2ffb",
   "metadata": {},
   "source": [
    "# fare_amount Column"
   ]
  },
  {
   "cell_type": "markdown",
   "id": "37df7e9f",
   "metadata": {},
   "source": [
    "sort the fare_amount into descending order to find if there are any outliers or not"
   ]
  },
  {
   "cell_type": "code",
   "execution_count": 36,
   "id": "a387ad86",
   "metadata": {},
   "outputs": [
    {
     "data": {
      "text/plain": [
       "28374    200.0\n",
       "77605    200.0\n",
       "50567    180.0\n",
       "1336     180.0\n",
       "50715    165.0\n",
       "         ...  \n",
       "2040      -2.9\n",
       "62264     -3.0\n",
       "13033     -3.0\n",
       "42338     -5.0\n",
       "91569     -5.0\n",
       "Name: fare_amount, Length: 102482, dtype: float64"
      ]
     },
     "execution_count": 36,
     "metadata": {},
     "output_type": "execute_result"
    }
   ],
   "source": [
    "train[\"fare_amount\"].sort_values(ascending= False)"
   ]
  },
  {
   "cell_type": "code",
   "execution_count": 37,
   "id": "7dee665a",
   "metadata": {},
   "outputs": [
    {
     "data": {
      "text/plain": [
       "Counter({False: 102470, True: 12})"
      ]
     },
     "execution_count": 37,
     "metadata": {},
     "output_type": "execute_result"
    }
   ],
   "source": [
    "#count the number of rows where fare amount is less than 0\n",
    "Counter(train[\"fare_amount\"]<0)"
   ]
  },
  {
   "cell_type": "code",
   "execution_count": 38,
   "id": "a84747c9",
   "metadata": {},
   "outputs": [
    {
     "data": {
      "text/plain": [
       "(102470, 14)"
      ]
     },
     "execution_count": 38,
     "metadata": {},
     "output_type": "execute_result"
    }
   ],
   "source": [
    "#remove the negative values in the fare_amount value column\n",
    "train =train.drop(train[train[\"fare_amount\"]<0].index, axis= 0)\n",
    "train.shape"
   ]
  },
  {
   "cell_type": "code",
   "execution_count": 39,
   "id": "6e2d2455",
   "metadata": {},
   "outputs": [
    {
     "data": {
      "text/plain": [
       "(102462, 14)"
      ]
     },
     "execution_count": 39,
     "metadata": {},
     "output_type": "execute_result"
    }
   ],
   "source": [
    "#removing all the value of the fare amount which is closer to 0\n",
    "train =train.drop(train[train[\"fare_amount\"]<1].index, axis= 0)\n",
    "train.shape"
   ]
  },
  {
   "cell_type": "code",
   "execution_count": 40,
   "id": "3ef6d6a2",
   "metadata": {},
   "outputs": [
    {
     "data": {
      "text/plain": [
       "(102462, 14)"
      ]
     },
     "execution_count": 40,
     "metadata": {},
     "output_type": "execute_result"
    }
   ],
   "source": [
    "#removing the outliers in the fare_amount especially the values which have a huge difference\n",
    "train =train.drop(train[train[\"fare_amount\"]> 200 ].index, axis= 0)\n",
    "train.shape"
   ]
  },
  {
   "cell_type": "code",
   "execution_count": 41,
   "id": "c86e4793",
   "metadata": {},
   "outputs": [
    {
     "name": "stdout",
     "output_type": "stream",
     "text": [
      "(102462, 14)\n",
      "0\n"
     ]
    }
   ],
   "source": [
    "# removing the missing value in the fgare_amount\n",
    "train = train.drop(train[train[\"fare_amount\"].isnull()].index, axis = 0)\n",
    "print(train.shape)\n",
    "print(train[\"fare_amount\"].isnull().sum())"
   ]
  },
  {
   "cell_type": "code",
   "execution_count": 42,
   "id": "076ebb33",
   "metadata": {},
   "outputs": [
    {
     "data": {
      "text/plain": [
       "28374    200.0\n",
       "77605    200.0\n",
       "50567    180.0\n",
       "1336     180.0\n",
       "43957    165.0\n",
       "         ...  \n",
       "7729       2.5\n",
       "28710      2.5\n",
       "89417      2.5\n",
       "56630      2.5\n",
       "41799      2.5\n",
       "Name: fare_amount, Length: 102462, dtype: float64"
      ]
     },
     "execution_count": 42,
     "metadata": {},
     "output_type": "execute_result"
    }
   ],
   "source": [
    "train[\"fare_amount\"].sort_values(ascending= False)"
   ]
  },
  {
   "cell_type": "code",
   "execution_count": 43,
   "id": "cf7f52a3",
   "metadata": {},
   "outputs": [
    {
     "data": {
      "text/plain": [
       "count    102462.000000\n",
       "mean         11.365627\n",
       "std           9.693954\n",
       "min           2.500000\n",
       "25%           6.000000\n",
       "50%           8.500000\n",
       "75%          12.500000\n",
       "max         200.000000\n",
       "Name: fare_amount, dtype: float64"
      ]
     },
     "execution_count": 43,
     "metadata": {},
     "output_type": "execute_result"
    }
   ],
   "source": [
    "train ['fare_amount'].describe()"
   ]
  },
  {
   "cell_type": "markdown",
   "id": "ff6e2919",
   "metadata": {},
   "source": [
    "# Latitude & Longitude"
   ]
  },
  {
   "cell_type": "code",
   "execution_count": 44,
   "id": "b6075370",
   "metadata": {},
   "outputs": [
    {
     "data": {
      "text/html": [
       "<div>\n",
       "<style scoped>\n",
       "    .dataframe tbody tr th:only-of-type {\n",
       "        vertical-align: middle;\n",
       "    }\n",
       "\n",
       "    .dataframe tbody tr th {\n",
       "        vertical-align: top;\n",
       "    }\n",
       "\n",
       "    .dataframe thead th {\n",
       "        text-align: right;\n",
       "    }\n",
       "</style>\n",
       "<table border=\"1\" class=\"dataframe\">\n",
       "  <thead>\n",
       "    <tr style=\"text-align: right;\">\n",
       "      <th></th>\n",
       "      <th>key</th>\n",
       "      <th>fare_amount</th>\n",
       "      <th>pickup_datetime</th>\n",
       "      <th>pickup_longitude</th>\n",
       "      <th>pickup_latitude</th>\n",
       "      <th>dropoff_longitude</th>\n",
       "      <th>dropoff_latitude</th>\n",
       "      <th>passenger_count</th>\n",
       "      <th>year</th>\n",
       "      <th>Month</th>\n",
       "      <th>Date</th>\n",
       "      <th>Day</th>\n",
       "      <th>Hour</th>\n",
       "      <th>Minute</th>\n",
       "    </tr>\n",
       "  </thead>\n",
       "  <tbody>\n",
       "  </tbody>\n",
       "</table>\n",
       "</div>"
      ],
      "text/plain": [
       "Empty DataFrame\n",
       "Columns: [key, fare_amount, pickup_datetime, pickup_longitude, pickup_latitude, dropoff_longitude, dropoff_latitude, passenger_count, year, Month, Date, Day, Hour, Minute]\n",
       "Index: []"
      ]
     },
     "execution_count": 44,
     "metadata": {},
     "output_type": "execute_result"
    }
   ],
   "source": [
    "#latitude can be from -90 to 90\n",
    "#longitude can be from -180 to 180\n",
    "\n",
    "#we need to drop all the latitude values less than -90\n",
    "train[train[\"pickup_latitude\"] < -90]"
   ]
  },
  {
   "cell_type": "code",
   "execution_count": 45,
   "id": "22b09daa",
   "metadata": {},
   "outputs": [
    {
     "data": {
      "text/html": [
       "<div>\n",
       "<style scoped>\n",
       "    .dataframe tbody tr th:only-of-type {\n",
       "        vertical-align: middle;\n",
       "    }\n",
       "\n",
       "    .dataframe tbody tr th {\n",
       "        vertical-align: top;\n",
       "    }\n",
       "\n",
       "    .dataframe thead th {\n",
       "        text-align: right;\n",
       "    }\n",
       "</style>\n",
       "<table border=\"1\" class=\"dataframe\">\n",
       "  <thead>\n",
       "    <tr style=\"text-align: right;\">\n",
       "      <th></th>\n",
       "      <th>key</th>\n",
       "      <th>fare_amount</th>\n",
       "      <th>pickup_datetime</th>\n",
       "      <th>pickup_longitude</th>\n",
       "      <th>pickup_latitude</th>\n",
       "      <th>dropoff_longitude</th>\n",
       "      <th>dropoff_latitude</th>\n",
       "      <th>passenger_count</th>\n",
       "      <th>year</th>\n",
       "      <th>Month</th>\n",
       "      <th>Date</th>\n",
       "      <th>Day</th>\n",
       "      <th>Hour</th>\n",
       "      <th>Minute</th>\n",
       "    </tr>\n",
       "  </thead>\n",
       "  <tbody>\n",
       "    <tr>\n",
       "      <th>5687</th>\n",
       "      <td>2011-07-30 11:15:00.00000082</td>\n",
       "      <td>3.3</td>\n",
       "      <td>2011-07-30 11:15:00</td>\n",
       "      <td>-73.947235</td>\n",
       "      <td>401.083332</td>\n",
       "      <td>-73.951392</td>\n",
       "      <td>40.778927</td>\n",
       "      <td>1.0</td>\n",
       "      <td>2011.0</td>\n",
       "      <td>7.0</td>\n",
       "      <td>30.0</td>\n",
       "      <td>5.0</td>\n",
       "      <td>11.0</td>\n",
       "      <td>15.0</td>\n",
       "    </tr>\n",
       "    <tr>\n",
       "      <th>54918</th>\n",
       "      <td>2011-07-30 11:15:00.00000082</td>\n",
       "      <td>3.3</td>\n",
       "      <td>2011-07-30 11:15:00</td>\n",
       "      <td>-73.947235</td>\n",
       "      <td>401.083332</td>\n",
       "      <td>-73.951392</td>\n",
       "      <td>40.778927</td>\n",
       "      <td>1.0</td>\n",
       "      <td>2011.0</td>\n",
       "      <td>7.0</td>\n",
       "      <td>30.0</td>\n",
       "      <td>5.0</td>\n",
       "      <td>11.0</td>\n",
       "      <td>15.0</td>\n",
       "    </tr>\n",
       "  </tbody>\n",
       "</table>\n",
       "</div>"
      ],
      "text/plain": [
       "                                key  fare_amount     pickup_datetime  \\\n",
       "5687   2011-07-30 11:15:00.00000082          3.3 2011-07-30 11:15:00   \n",
       "54918  2011-07-30 11:15:00.00000082          3.3 2011-07-30 11:15:00   \n",
       "\n",
       "       pickup_longitude  pickup_latitude  dropoff_longitude  dropoff_latitude  \\\n",
       "5687         -73.947235       401.083332         -73.951392         40.778927   \n",
       "54918        -73.947235       401.083332         -73.951392         40.778927   \n",
       "\n",
       "       passenger_count    year  Month  Date  Day  Hour  Minute  \n",
       "5687               1.0  2011.0    7.0  30.0  5.0  11.0    15.0  \n",
       "54918              1.0  2011.0    7.0  30.0  5.0  11.0    15.0  "
      ]
     },
     "execution_count": 45,
     "metadata": {},
     "output_type": "execute_result"
    }
   ],
   "source": [
    "# check the latitude values greater than 90\n",
    "train[train[\"pickup_latitude\"]> 90]"
   ]
  },
  {
   "cell_type": "code",
   "execution_count": 46,
   "id": "df274af9",
   "metadata": {},
   "outputs": [],
   "source": [
    "# remove the out of range values for lattudes\n",
    "train = train.drop(train[train['pickup_latitude']< -90].index, axis = 0)\n",
    "train = train.drop(train[train['pickup_latitude']> 90].index, axis = 0)"
   ]
  },
  {
   "cell_type": "code",
   "execution_count": 47,
   "id": "13968efa",
   "metadata": {},
   "outputs": [
    {
     "name": "stdout",
     "output_type": "stream",
     "text": [
      "(102460, 14)\n"
     ]
    }
   ],
   "source": [
    "print(train.shape)"
   ]
  },
  {
   "cell_type": "code",
   "execution_count": 48,
   "id": "16d12793",
   "metadata": {},
   "outputs": [
    {
     "data": {
      "text/html": [
       "<div>\n",
       "<style scoped>\n",
       "    .dataframe tbody tr th:only-of-type {\n",
       "        vertical-align: middle;\n",
       "    }\n",
       "\n",
       "    .dataframe tbody tr th {\n",
       "        vertical-align: top;\n",
       "    }\n",
       "\n",
       "    .dataframe thead th {\n",
       "        text-align: right;\n",
       "    }\n",
       "</style>\n",
       "<table border=\"1\" class=\"dataframe\">\n",
       "  <thead>\n",
       "    <tr style=\"text-align: right;\">\n",
       "      <th></th>\n",
       "      <th>key</th>\n",
       "      <th>fare_amount</th>\n",
       "      <th>pickup_datetime</th>\n",
       "      <th>pickup_longitude</th>\n",
       "      <th>pickup_latitude</th>\n",
       "      <th>dropoff_longitude</th>\n",
       "      <th>dropoff_latitude</th>\n",
       "      <th>passenger_count</th>\n",
       "      <th>year</th>\n",
       "      <th>Month</th>\n",
       "      <th>Date</th>\n",
       "      <th>Day</th>\n",
       "      <th>Hour</th>\n",
       "      <th>Minute</th>\n",
       "    </tr>\n",
       "  </thead>\n",
       "  <tbody>\n",
       "  </tbody>\n",
       "</table>\n",
       "</div>"
      ],
      "text/plain": [
       "Empty DataFrame\n",
       "Columns: [key, fare_amount, pickup_datetime, pickup_longitude, pickup_latitude, dropoff_longitude, dropoff_latitude, passenger_count, year, Month, Date, Day, Hour, Minute]\n",
       "Index: []"
      ]
     },
     "execution_count": 48,
     "metadata": {},
     "output_type": "execute_result"
    }
   ],
   "source": [
    "#checking the pickup longitude range for less than -180\n",
    "train[train[\"pickup_longitude\"]< -180]"
   ]
  },
  {
   "cell_type": "code",
   "execution_count": 49,
   "id": "b09ac64c",
   "metadata": {},
   "outputs": [
    {
     "data": {
      "text/html": [
       "<div>\n",
       "<style scoped>\n",
       "    .dataframe tbody tr th:only-of-type {\n",
       "        vertical-align: middle;\n",
       "    }\n",
       "\n",
       "    .dataframe tbody tr th {\n",
       "        vertical-align: top;\n",
       "    }\n",
       "\n",
       "    .dataframe thead th {\n",
       "        text-align: right;\n",
       "    }\n",
       "</style>\n",
       "<table border=\"1\" class=\"dataframe\">\n",
       "  <thead>\n",
       "    <tr style=\"text-align: right;\">\n",
       "      <th></th>\n",
       "      <th>key</th>\n",
       "      <th>fare_amount</th>\n",
       "      <th>pickup_datetime</th>\n",
       "      <th>pickup_longitude</th>\n",
       "      <th>pickup_latitude</th>\n",
       "      <th>dropoff_longitude</th>\n",
       "      <th>dropoff_latitude</th>\n",
       "      <th>passenger_count</th>\n",
       "      <th>year</th>\n",
       "      <th>Month</th>\n",
       "      <th>Date</th>\n",
       "      <th>Day</th>\n",
       "      <th>Hour</th>\n",
       "      <th>Minute</th>\n",
       "    </tr>\n",
       "  </thead>\n",
       "  <tbody>\n",
       "  </tbody>\n",
       "</table>\n",
       "</div>"
      ],
      "text/plain": [
       "Empty DataFrame\n",
       "Columns: [key, fare_amount, pickup_datetime, pickup_longitude, pickup_latitude, dropoff_longitude, dropoff_latitude, passenger_count, year, Month, Date, Day, Hour, Minute]\n",
       "Index: []"
      ]
     },
     "execution_count": 49,
     "metadata": {},
     "output_type": "execute_result"
    }
   ],
   "source": [
    "#checking the pickup longitude range for greater than 180\n",
    "train[train[\"pickup_longitude\"]> 180]"
   ]
  },
  {
   "cell_type": "code",
   "execution_count": 50,
   "id": "300c8fa2",
   "metadata": {},
   "outputs": [
    {
     "data": {
      "text/html": [
       "<div>\n",
       "<style scoped>\n",
       "    .dataframe tbody tr th:only-of-type {\n",
       "        vertical-align: middle;\n",
       "    }\n",
       "\n",
       "    .dataframe tbody tr th {\n",
       "        vertical-align: top;\n",
       "    }\n",
       "\n",
       "    .dataframe thead th {\n",
       "        text-align: right;\n",
       "    }\n",
       "</style>\n",
       "<table border=\"1\" class=\"dataframe\">\n",
       "  <thead>\n",
       "    <tr style=\"text-align: right;\">\n",
       "      <th></th>\n",
       "      <th>key</th>\n",
       "      <th>fare_amount</th>\n",
       "      <th>pickup_datetime</th>\n",
       "      <th>pickup_longitude</th>\n",
       "      <th>pickup_latitude</th>\n",
       "      <th>dropoff_longitude</th>\n",
       "      <th>dropoff_latitude</th>\n",
       "      <th>passenger_count</th>\n",
       "      <th>year</th>\n",
       "      <th>Month</th>\n",
       "      <th>Date</th>\n",
       "      <th>Day</th>\n",
       "      <th>Hour</th>\n",
       "      <th>Minute</th>\n",
       "    </tr>\n",
       "  </thead>\n",
       "  <tbody>\n",
       "  </tbody>\n",
       "</table>\n",
       "</div>"
      ],
      "text/plain": [
       "Empty DataFrame\n",
       "Columns: [key, fare_amount, pickup_datetime, pickup_longitude, pickup_latitude, dropoff_longitude, dropoff_latitude, passenger_count, year, Month, Date, Day, Hour, Minute]\n",
       "Index: []"
      ]
     },
     "execution_count": 50,
     "metadata": {},
     "output_type": "execute_result"
    }
   ],
   "source": [
    "## checking now for dropoff latitude and longitude\n",
    "train[train[\"dropoff_latitude\"]< -90]"
   ]
  },
  {
   "cell_type": "code",
   "execution_count": 51,
   "id": "a6f41711",
   "metadata": {},
   "outputs": [
    {
     "data": {
      "text/html": [
       "<div>\n",
       "<style scoped>\n",
       "    .dataframe tbody tr th:only-of-type {\n",
       "        vertical-align: middle;\n",
       "    }\n",
       "\n",
       "    .dataframe tbody tr th {\n",
       "        vertical-align: top;\n",
       "    }\n",
       "\n",
       "    .dataframe thead th {\n",
       "        text-align: right;\n",
       "    }\n",
       "</style>\n",
       "<table border=\"1\" class=\"dataframe\">\n",
       "  <thead>\n",
       "    <tr style=\"text-align: right;\">\n",
       "      <th></th>\n",
       "      <th>key</th>\n",
       "      <th>fare_amount</th>\n",
       "      <th>pickup_datetime</th>\n",
       "      <th>pickup_longitude</th>\n",
       "      <th>pickup_latitude</th>\n",
       "      <th>dropoff_longitude</th>\n",
       "      <th>dropoff_latitude</th>\n",
       "      <th>passenger_count</th>\n",
       "      <th>year</th>\n",
       "      <th>Month</th>\n",
       "      <th>Date</th>\n",
       "      <th>Day</th>\n",
       "      <th>Hour</th>\n",
       "      <th>Minute</th>\n",
       "    </tr>\n",
       "  </thead>\n",
       "  <tbody>\n",
       "  </tbody>\n",
       "</table>\n",
       "</div>"
      ],
      "text/plain": [
       "Empty DataFrame\n",
       "Columns: [key, fare_amount, pickup_datetime, pickup_longitude, pickup_latitude, dropoff_longitude, dropoff_latitude, passenger_count, year, Month, Date, Day, Hour, Minute]\n",
       "Index: []"
      ]
     },
     "execution_count": 51,
     "metadata": {},
     "output_type": "execute_result"
    }
   ],
   "source": [
    "train[train[\"dropoff_latitude\"]> 90]"
   ]
  },
  {
   "cell_type": "code",
   "execution_count": 52,
   "id": "1f0bcdfc",
   "metadata": {},
   "outputs": [
    {
     "data": {
      "text/html": [
       "<div>\n",
       "<style scoped>\n",
       "    .dataframe tbody tr th:only-of-type {\n",
       "        vertical-align: middle;\n",
       "    }\n",
       "\n",
       "    .dataframe tbody tr th {\n",
       "        vertical-align: top;\n",
       "    }\n",
       "\n",
       "    .dataframe thead th {\n",
       "        text-align: right;\n",
       "    }\n",
       "</style>\n",
       "<table border=\"1\" class=\"dataframe\">\n",
       "  <thead>\n",
       "    <tr style=\"text-align: right;\">\n",
       "      <th></th>\n",
       "      <th>key</th>\n",
       "      <th>fare_amount</th>\n",
       "      <th>pickup_datetime</th>\n",
       "      <th>pickup_longitude</th>\n",
       "      <th>pickup_latitude</th>\n",
       "      <th>dropoff_longitude</th>\n",
       "      <th>dropoff_latitude</th>\n",
       "      <th>passenger_count</th>\n",
       "      <th>year</th>\n",
       "      <th>Month</th>\n",
       "      <th>Date</th>\n",
       "      <th>Day</th>\n",
       "      <th>Hour</th>\n",
       "      <th>Minute</th>\n",
       "    </tr>\n",
       "  </thead>\n",
       "  <tbody>\n",
       "  </tbody>\n",
       "</table>\n",
       "</div>"
      ],
      "text/plain": [
       "Empty DataFrame\n",
       "Columns: [key, fare_amount, pickup_datetime, pickup_longitude, pickup_latitude, dropoff_longitude, dropoff_latitude, passenger_count, year, Month, Date, Day, Hour, Minute]\n",
       "Index: []"
      ]
     },
     "execution_count": 52,
     "metadata": {},
     "output_type": "execute_result"
    }
   ],
   "source": [
    "## checking now for dropoff longitude\n",
    "train[train[\"dropoff_longitude\"]< -180]"
   ]
  },
  {
   "cell_type": "code",
   "execution_count": 53,
   "id": "1c8911c2",
   "metadata": {},
   "outputs": [
    {
     "data": {
      "text/html": [
       "<div>\n",
       "<style scoped>\n",
       "    .dataframe tbody tr th:only-of-type {\n",
       "        vertical-align: middle;\n",
       "    }\n",
       "\n",
       "    .dataframe tbody tr th {\n",
       "        vertical-align: top;\n",
       "    }\n",
       "\n",
       "    .dataframe thead th {\n",
       "        text-align: right;\n",
       "    }\n",
       "</style>\n",
       "<table border=\"1\" class=\"dataframe\">\n",
       "  <thead>\n",
       "    <tr style=\"text-align: right;\">\n",
       "      <th></th>\n",
       "      <th>key</th>\n",
       "      <th>fare_amount</th>\n",
       "      <th>pickup_datetime</th>\n",
       "      <th>pickup_longitude</th>\n",
       "      <th>pickup_latitude</th>\n",
       "      <th>dropoff_longitude</th>\n",
       "      <th>dropoff_latitude</th>\n",
       "      <th>passenger_count</th>\n",
       "      <th>year</th>\n",
       "      <th>Month</th>\n",
       "      <th>Date</th>\n",
       "      <th>Day</th>\n",
       "      <th>Hour</th>\n",
       "      <th>Minute</th>\n",
       "    </tr>\n",
       "  </thead>\n",
       "  <tbody>\n",
       "  </tbody>\n",
       "</table>\n",
       "</div>"
      ],
      "text/plain": [
       "Empty DataFrame\n",
       "Columns: [key, fare_amount, pickup_datetime, pickup_longitude, pickup_latitude, dropoff_longitude, dropoff_latitude, passenger_count, year, Month, Date, Day, Hour, Minute]\n",
       "Index: []"
      ]
     },
     "execution_count": 53,
     "metadata": {},
     "output_type": "execute_result"
    }
   ],
   "source": [
    "train[train[\"dropoff_longitude\"]> 180]"
   ]
  },
  {
   "cell_type": "code",
   "execution_count": 54,
   "id": "9327de93",
   "metadata": {},
   "outputs": [
    {
     "data": {
      "text/plain": [
       "(102460, 14)"
      ]
     },
     "execution_count": 54,
     "metadata": {},
     "output_type": "execute_result"
    }
   ],
   "source": [
    "train.shape"
   ]
  },
  {
   "cell_type": "code",
   "execution_count": 55,
   "id": "06b82483",
   "metadata": {},
   "outputs": [
    {
     "data": {
      "text/plain": [
       "key                  0\n",
       "fare_amount          0\n",
       "pickup_datetime      0\n",
       "pickup_longitude     0\n",
       "pickup_latitude      0\n",
       "dropoff_longitude    0\n",
       "dropoff_latitude     0\n",
       "passenger_count      0\n",
       "year                 0\n",
       "Month                0\n",
       "Date                 0\n",
       "Day                  0\n",
       "Hour                 0\n",
       "Minute               0\n",
       "dtype: int64"
      ]
     },
     "execution_count": 55,
     "metadata": {},
     "output_type": "execute_result"
    }
   ],
   "source": [
    "train.isnull().sum()"
   ]
  },
  {
   "cell_type": "code",
   "execution_count": 56,
   "id": "9688dbb8",
   "metadata": {},
   "outputs": [
    {
     "data": {
      "text/plain": [
       "key                  0\n",
       "pickup_datetime      0\n",
       "pickup_longitude     0\n",
       "pickup_latitude      0\n",
       "dropoff_longitude    0\n",
       "dropoff_latitude     0\n",
       "passenger_count      0\n",
       "year                 0\n",
       "Month                0\n",
       "Date                 0\n",
       "Day                  0\n",
       "Hour                 0\n",
       "Minute               0\n",
       "dtype: int64"
      ]
     },
     "execution_count": 56,
     "metadata": {},
     "output_type": "execute_result"
    }
   ],
   "source": [
    "test.isnull().sum()"
   ]
  },
  {
   "cell_type": "markdown",
   "id": "b60ba560",
   "metadata": {},
   "source": [
    "#  haversine distance"
   ]
  },
  {
   "cell_type": "markdown",
   "id": "7d2114f4",
   "metadata": {},
   "source": [
    "Data-preprocessing and cleaning done Calculating the haversine distance now"
   ]
  },
  {
   "cell_type": "code",
   "execution_count": 57,
   "id": "70817948",
   "metadata": {},
   "outputs": [],
   "source": [
    "# we have been given pickup latitude and longitudes and dropoff latitude and longitudes\n",
    "#so we need to calculate the distance using the haversine formula and we will create a new variable called distance \n",
    "from math import radians, cos, sin, asin, sqrt\n",
    "\n",
    "def haversine(a):\n",
    "    lon1 = a[0]\n",
    "    lat1 = a[1]\n",
    "    lon2 = a[2]\n",
    "    lat2 = a[3]\n",
    "    \n",
    "    \"Calculate the great circle distance two points on the earth (spcified in decimal degrees)\"\n",
    "    \n",
    "    #convert decimal degrees to radians\n",
    "    lon1, lat1, lon2, lat2 = map(radians, [lon1, lat1, lon2, lat2])\n",
    "    \n",
    "    #haversine formula\n",
    "    dlon = lon2 - lon1\n",
    "    dlat = lat2 - lat1\n",
    "    a = sin(dlat/2)**2 + cos(lat1) * cos(lat2) * sin(dlon/2)**2\n",
    "    c = 2 * asin(sqrt(a))\n",
    "    #Radius of earth in kilometers is 6371\n",
    "    km =  6371 *c\n",
    "    return km"
   ]
  },
  {
   "cell_type": "code",
   "execution_count": 58,
   "id": "7e1e5f24",
   "metadata": {},
   "outputs": [],
   "source": [
    "train[\"distance\"] = train[['pickup_longitude','pickup_latitude','dropoff_longitude','dropoff_latitude']].apply(haversine,axis = 1)"
   ]
  },
  {
   "cell_type": "code",
   "execution_count": 59,
   "id": "2a0f4649",
   "metadata": {},
   "outputs": [],
   "source": [
    "test[\"distance\"] = test[['pickup_longitude','pickup_latitude','dropoff_longitude','dropoff_latitude']].apply(haversine,axis = 1)"
   ]
  },
  {
   "cell_type": "code",
   "execution_count": 60,
   "id": "5af99467",
   "metadata": {},
   "outputs": [
    {
     "data": {
      "text/html": [
       "<div>\n",
       "<style scoped>\n",
       "    .dataframe tbody tr th:only-of-type {\n",
       "        vertical-align: middle;\n",
       "    }\n",
       "\n",
       "    .dataframe tbody tr th {\n",
       "        vertical-align: top;\n",
       "    }\n",
       "\n",
       "    .dataframe thead th {\n",
       "        text-align: right;\n",
       "    }\n",
       "</style>\n",
       "<table border=\"1\" class=\"dataframe\">\n",
       "  <thead>\n",
       "    <tr style=\"text-align: right;\">\n",
       "      <th></th>\n",
       "      <th>key</th>\n",
       "      <th>fare_amount</th>\n",
       "      <th>pickup_datetime</th>\n",
       "      <th>pickup_longitude</th>\n",
       "      <th>pickup_latitude</th>\n",
       "      <th>dropoff_longitude</th>\n",
       "      <th>dropoff_latitude</th>\n",
       "      <th>passenger_count</th>\n",
       "      <th>year</th>\n",
       "      <th>Month</th>\n",
       "      <th>Date</th>\n",
       "      <th>Day</th>\n",
       "      <th>Hour</th>\n",
       "      <th>Minute</th>\n",
       "      <th>distance</th>\n",
       "    </tr>\n",
       "  </thead>\n",
       "  <tbody>\n",
       "    <tr>\n",
       "      <th>0</th>\n",
       "      <td>2010-04-23 15:12:00.000000132</td>\n",
       "      <td>4.1</td>\n",
       "      <td>2010-04-23 15:12:00</td>\n",
       "      <td>-73.973925</td>\n",
       "      <td>40.748950</td>\n",
       "      <td>-73.966458</td>\n",
       "      <td>40.753695</td>\n",
       "      <td>1.0</td>\n",
       "      <td>2010.0</td>\n",
       "      <td>4.0</td>\n",
       "      <td>23.0</td>\n",
       "      <td>4.0</td>\n",
       "      <td>15.0</td>\n",
       "      <td>12.0</td>\n",
       "      <td>0.820980</td>\n",
       "    </tr>\n",
       "    <tr>\n",
       "      <th>1</th>\n",
       "      <td>2009-06-15 17:26:21.0000001</td>\n",
       "      <td>4.5</td>\n",
       "      <td>2009-06-15 17:26:21</td>\n",
       "      <td>-73.844311</td>\n",
       "      <td>40.721319</td>\n",
       "      <td>-73.841610</td>\n",
       "      <td>40.712278</td>\n",
       "      <td>1.0</td>\n",
       "      <td>2009.0</td>\n",
       "      <td>6.0</td>\n",
       "      <td>15.0</td>\n",
       "      <td>0.0</td>\n",
       "      <td>17.0</td>\n",
       "      <td>26.0</td>\n",
       "      <td>1.030764</td>\n",
       "    </tr>\n",
       "    <tr>\n",
       "      <th>2</th>\n",
       "      <td>2010-01-05 16:52:16.0000002</td>\n",
       "      <td>16.9</td>\n",
       "      <td>2010-01-05 16:52:16</td>\n",
       "      <td>-74.016048</td>\n",
       "      <td>40.711303</td>\n",
       "      <td>-73.979268</td>\n",
       "      <td>40.782004</td>\n",
       "      <td>1.0</td>\n",
       "      <td>2010.0</td>\n",
       "      <td>1.0</td>\n",
       "      <td>5.0</td>\n",
       "      <td>1.0</td>\n",
       "      <td>16.0</td>\n",
       "      <td>52.0</td>\n",
       "      <td>8.450134</td>\n",
       "    </tr>\n",
       "    <tr>\n",
       "      <th>3</th>\n",
       "      <td>2011-08-18 00:35:00.00000049</td>\n",
       "      <td>5.7</td>\n",
       "      <td>2011-08-18 00:35:00</td>\n",
       "      <td>-73.982738</td>\n",
       "      <td>40.761270</td>\n",
       "      <td>-73.991242</td>\n",
       "      <td>40.750562</td>\n",
       "      <td>2.0</td>\n",
       "      <td>2011.0</td>\n",
       "      <td>8.0</td>\n",
       "      <td>18.0</td>\n",
       "      <td>3.0</td>\n",
       "      <td>0.0</td>\n",
       "      <td>35.0</td>\n",
       "      <td>1.389525</td>\n",
       "    </tr>\n",
       "    <tr>\n",
       "      <th>4</th>\n",
       "      <td>2012-04-21 04:30:42.0000001</td>\n",
       "      <td>7.7</td>\n",
       "      <td>2012-04-21 04:30:42</td>\n",
       "      <td>-73.987130</td>\n",
       "      <td>40.733143</td>\n",
       "      <td>-73.991567</td>\n",
       "      <td>40.758092</td>\n",
       "      <td>1.0</td>\n",
       "      <td>2012.0</td>\n",
       "      <td>4.0</td>\n",
       "      <td>21.0</td>\n",
       "      <td>5.0</td>\n",
       "      <td>4.0</td>\n",
       "      <td>30.0</td>\n",
       "      <td>2.799270</td>\n",
       "    </tr>\n",
       "  </tbody>\n",
       "</table>\n",
       "</div>"
      ],
      "text/plain": [
       "                             key  fare_amount     pickup_datetime  \\\n",
       "0  2010-04-23 15:12:00.000000132          4.1 2010-04-23 15:12:00   \n",
       "1    2009-06-15 17:26:21.0000001          4.5 2009-06-15 17:26:21   \n",
       "2    2010-01-05 16:52:16.0000002         16.9 2010-01-05 16:52:16   \n",
       "3   2011-08-18 00:35:00.00000049          5.7 2011-08-18 00:35:00   \n",
       "4    2012-04-21 04:30:42.0000001          7.7 2012-04-21 04:30:42   \n",
       "\n",
       "   pickup_longitude  pickup_latitude  dropoff_longitude  dropoff_latitude  \\\n",
       "0        -73.973925        40.748950         -73.966458         40.753695   \n",
       "1        -73.844311        40.721319         -73.841610         40.712278   \n",
       "2        -74.016048        40.711303         -73.979268         40.782004   \n",
       "3        -73.982738        40.761270         -73.991242         40.750562   \n",
       "4        -73.987130        40.733143         -73.991567         40.758092   \n",
       "\n",
       "   passenger_count    year  Month  Date  Day  Hour  Minute  distance  \n",
       "0              1.0  2010.0    4.0  23.0  4.0  15.0    12.0  0.820980  \n",
       "1              1.0  2009.0    6.0  15.0  0.0  17.0    26.0  1.030764  \n",
       "2              1.0  2010.0    1.0   5.0  1.0  16.0    52.0  8.450134  \n",
       "3              2.0  2011.0    8.0  18.0  3.0   0.0    35.0  1.389525  \n",
       "4              1.0  2012.0    4.0  21.0  5.0   4.0    30.0  2.799270  "
      ]
     },
     "execution_count": 60,
     "metadata": {},
     "output_type": "execute_result"
    }
   ],
   "source": [
    "train.head()"
   ]
  },
  {
   "cell_type": "code",
   "execution_count": 61,
   "id": "2a2685f1",
   "metadata": {},
   "outputs": [
    {
     "data": {
      "text/html": [
       "<div>\n",
       "<style scoped>\n",
       "    .dataframe tbody tr th:only-of-type {\n",
       "        vertical-align: middle;\n",
       "    }\n",
       "\n",
       "    .dataframe tbody tr th {\n",
       "        vertical-align: top;\n",
       "    }\n",
       "\n",
       "    .dataframe thead th {\n",
       "        text-align: right;\n",
       "    }\n",
       "</style>\n",
       "<table border=\"1\" class=\"dataframe\">\n",
       "  <thead>\n",
       "    <tr style=\"text-align: right;\">\n",
       "      <th></th>\n",
       "      <th>key</th>\n",
       "      <th>pickup_datetime</th>\n",
       "      <th>pickup_longitude</th>\n",
       "      <th>pickup_latitude</th>\n",
       "      <th>dropoff_longitude</th>\n",
       "      <th>dropoff_latitude</th>\n",
       "      <th>passenger_count</th>\n",
       "      <th>year</th>\n",
       "      <th>Month</th>\n",
       "      <th>Date</th>\n",
       "      <th>Day</th>\n",
       "      <th>Hour</th>\n",
       "      <th>Minute</th>\n",
       "      <th>distance</th>\n",
       "    </tr>\n",
       "  </thead>\n",
       "  <tbody>\n",
       "    <tr>\n",
       "      <th>0</th>\n",
       "      <td>2015-01-27 13:08:24.0000002</td>\n",
       "      <td>2015-01-27 13:08:24</td>\n",
       "      <td>-73.973320</td>\n",
       "      <td>40.763805</td>\n",
       "      <td>-73.981430</td>\n",
       "      <td>40.743835</td>\n",
       "      <td>1</td>\n",
       "      <td>2015</td>\n",
       "      <td>1</td>\n",
       "      <td>27</td>\n",
       "      <td>1</td>\n",
       "      <td>13</td>\n",
       "      <td>8</td>\n",
       "      <td>2.323260</td>\n",
       "    </tr>\n",
       "    <tr>\n",
       "      <th>1</th>\n",
       "      <td>2015-01-27 13:08:24.0000003</td>\n",
       "      <td>2015-01-27 13:08:24</td>\n",
       "      <td>-73.986862</td>\n",
       "      <td>40.719383</td>\n",
       "      <td>-73.998886</td>\n",
       "      <td>40.739201</td>\n",
       "      <td>1</td>\n",
       "      <td>2015</td>\n",
       "      <td>1</td>\n",
       "      <td>27</td>\n",
       "      <td>1</td>\n",
       "      <td>13</td>\n",
       "      <td>8</td>\n",
       "      <td>2.425353</td>\n",
       "    </tr>\n",
       "    <tr>\n",
       "      <th>2</th>\n",
       "      <td>2011-10-08 11:53:44.0000002</td>\n",
       "      <td>2011-10-08 11:53:44</td>\n",
       "      <td>-73.982524</td>\n",
       "      <td>40.751260</td>\n",
       "      <td>-73.979654</td>\n",
       "      <td>40.746139</td>\n",
       "      <td>1</td>\n",
       "      <td>2011</td>\n",
       "      <td>10</td>\n",
       "      <td>8</td>\n",
       "      <td>5</td>\n",
       "      <td>11</td>\n",
       "      <td>53</td>\n",
       "      <td>0.618628</td>\n",
       "    </tr>\n",
       "    <tr>\n",
       "      <th>3</th>\n",
       "      <td>2012-12-01 21:12:12.0000002</td>\n",
       "      <td>2012-12-01 21:12:12</td>\n",
       "      <td>-73.981160</td>\n",
       "      <td>40.767807</td>\n",
       "      <td>-73.990448</td>\n",
       "      <td>40.751635</td>\n",
       "      <td>1</td>\n",
       "      <td>2012</td>\n",
       "      <td>12</td>\n",
       "      <td>1</td>\n",
       "      <td>5</td>\n",
       "      <td>21</td>\n",
       "      <td>12</td>\n",
       "      <td>1.961033</td>\n",
       "    </tr>\n",
       "    <tr>\n",
       "      <th>4</th>\n",
       "      <td>2012-12-01 21:12:12.0000003</td>\n",
       "      <td>2012-12-01 21:12:12</td>\n",
       "      <td>-73.966046</td>\n",
       "      <td>40.789775</td>\n",
       "      <td>-73.988565</td>\n",
       "      <td>40.744427</td>\n",
       "      <td>1</td>\n",
       "      <td>2012</td>\n",
       "      <td>12</td>\n",
       "      <td>1</td>\n",
       "      <td>5</td>\n",
       "      <td>21</td>\n",
       "      <td>12</td>\n",
       "      <td>5.387301</td>\n",
       "    </tr>\n",
       "  </tbody>\n",
       "</table>\n",
       "</div>"
      ],
      "text/plain": [
       "                           key     pickup_datetime  pickup_longitude  \\\n",
       "0  2015-01-27 13:08:24.0000002 2015-01-27 13:08:24        -73.973320   \n",
       "1  2015-01-27 13:08:24.0000003 2015-01-27 13:08:24        -73.986862   \n",
       "2  2011-10-08 11:53:44.0000002 2011-10-08 11:53:44        -73.982524   \n",
       "3  2012-12-01 21:12:12.0000002 2012-12-01 21:12:12        -73.981160   \n",
       "4  2012-12-01 21:12:12.0000003 2012-12-01 21:12:12        -73.966046   \n",
       "\n",
       "   pickup_latitude  dropoff_longitude  dropoff_latitude  passenger_count  \\\n",
       "0        40.763805         -73.981430         40.743835                1   \n",
       "1        40.719383         -73.998886         40.739201                1   \n",
       "2        40.751260         -73.979654         40.746139                1   \n",
       "3        40.767807         -73.990448         40.751635                1   \n",
       "4        40.789775         -73.988565         40.744427                1   \n",
       "\n",
       "   year  Month  Date  Day  Hour  Minute  distance  \n",
       "0  2015      1    27    1    13       8  2.323260  \n",
       "1  2015      1    27    1    13       8  2.425353  \n",
       "2  2011     10     8    5    11      53  0.618628  \n",
       "3  2012     12     1    5    21      12  1.961033  \n",
       "4  2012     12     1    5    21      12  5.387301  "
      ]
     },
     "execution_count": 61,
     "metadata": {},
     "output_type": "execute_result"
    }
   ],
   "source": [
    "test.head()"
   ]
  },
  {
   "cell_type": "code",
   "execution_count": 62,
   "id": "7afada99",
   "metadata": {},
   "outputs": [
    {
     "data": {
      "text/plain": [
       "key                  53404\n",
       "fare_amount            714\n",
       "pickup_datetime      52878\n",
       "pickup_longitude     35308\n",
       "pickup_latitude      38410\n",
       "dropoff_longitude    36600\n",
       "dropoff_latitude     39366\n",
       "passenger_count          6\n",
       "year                     7\n",
       "Month                   12\n",
       "Date                    31\n",
       "Day                      7\n",
       "Hour                    24\n",
       "Minute                  60\n",
       "distance             51844\n",
       "dtype: int64"
      ]
     },
     "execution_count": 62,
     "metadata": {},
     "output_type": "execute_result"
    }
   ],
   "source": [
    "train.nunique()"
   ]
  },
  {
   "cell_type": "code",
   "execution_count": 63,
   "id": "bb4747e9",
   "metadata": {},
   "outputs": [
    {
     "data": {
      "text/plain": [
       "key                  9914\n",
       "pickup_datetime      1753\n",
       "pickup_longitude     9125\n",
       "pickup_latitude      9247\n",
       "dropoff_longitude    9142\n",
       "dropoff_latitude     9360\n",
       "passenger_count         6\n",
       "year                    7\n",
       "Month                  12\n",
       "Date                   31\n",
       "Day                     7\n",
       "Hour                   24\n",
       "Minute                 60\n",
       "distance             9830\n",
       "dtype: int64"
      ]
     },
     "execution_count": 63,
     "metadata": {},
     "output_type": "execute_result"
    }
   ],
   "source": [
    "test.nunique()"
   ]
  },
  {
   "cell_type": "code",
   "execution_count": 64,
   "id": "450bea10",
   "metadata": {},
   "outputs": [
    {
     "data": {
      "text/plain": [
       "98228     8667.818812\n",
       "48997     8667.818812\n",
       "100975    8667.787593\n",
       "81055     8667.572331\n",
       "31824     8667.572331\n",
       "             ...     \n",
       "73249        0.000000\n",
       "42111        0.000000\n",
       "98752        0.000000\n",
       "73276        0.000000\n",
       "52593        0.000000\n",
       "Name: distance, Length: 102460, dtype: float64"
      ]
     },
     "execution_count": 64,
     "metadata": {},
     "output_type": "execute_result"
    }
   ],
   "source": [
    "#checking outliers in the distance column\n",
    "train['distance'].sort_values(ascending = False)"
   ]
  },
  {
   "cell_type": "code",
   "execution_count": 65,
   "id": "16b3019a",
   "metadata": {},
   "outputs": [
    {
     "data": {
      "text/html": [
       "<div>\n",
       "<style scoped>\n",
       "    .dataframe tbody tr th:only-of-type {\n",
       "        vertical-align: middle;\n",
       "    }\n",
       "\n",
       "    .dataframe tbody tr th {\n",
       "        vertical-align: top;\n",
       "    }\n",
       "\n",
       "    .dataframe thead th {\n",
       "        text-align: right;\n",
       "    }\n",
       "</style>\n",
       "<table border=\"1\" class=\"dataframe\">\n",
       "  <thead>\n",
       "    <tr style=\"text-align: right;\">\n",
       "      <th></th>\n",
       "      <th>key</th>\n",
       "      <th>fare_amount</th>\n",
       "      <th>pickup_datetime</th>\n",
       "      <th>pickup_longitude</th>\n",
       "      <th>pickup_latitude</th>\n",
       "      <th>dropoff_longitude</th>\n",
       "      <th>dropoff_latitude</th>\n",
       "      <th>passenger_count</th>\n",
       "      <th>year</th>\n",
       "      <th>Month</th>\n",
       "      <th>Date</th>\n",
       "      <th>Day</th>\n",
       "      <th>Hour</th>\n",
       "      <th>Minute</th>\n",
       "      <th>distance</th>\n",
       "    </tr>\n",
       "  </thead>\n",
       "  <tbody>\n",
       "    <tr>\n",
       "      <th>473</th>\n",
       "      <td>2009-02-22 22:48:00.000000130</td>\n",
       "      <td>2.5</td>\n",
       "      <td>2009-02-22 22:48:00</td>\n",
       "      <td>0.000000</td>\n",
       "      <td>0.000000</td>\n",
       "      <td>-74.005433</td>\n",
       "      <td>40.726685</td>\n",
       "      <td>2.0</td>\n",
       "      <td>2009.0</td>\n",
       "      <td>2.0</td>\n",
       "      <td>22.0</td>\n",
       "      <td>6.0</td>\n",
       "      <td>22.0</td>\n",
       "      <td>48.0</td>\n",
       "      <td>8667.304968</td>\n",
       "    </tr>\n",
       "    <tr>\n",
       "      <th>1261</th>\n",
       "      <td>2011-03-10 20:25:00.00000049</td>\n",
       "      <td>5.7</td>\n",
       "      <td>2011-03-10 20:25:00</td>\n",
       "      <td>-73.973907</td>\n",
       "      <td>40.754743</td>\n",
       "      <td>0.000000</td>\n",
       "      <td>0.000000</td>\n",
       "      <td>2.0</td>\n",
       "      <td>2011.0</td>\n",
       "      <td>3.0</td>\n",
       "      <td>10.0</td>\n",
       "      <td>3.0</td>\n",
       "      <td>20.0</td>\n",
       "      <td>25.0</td>\n",
       "      <td>8665.268588</td>\n",
       "    </tr>\n",
       "    <tr>\n",
       "      <th>2398</th>\n",
       "      <td>2012-06-24 17:11:10.0000001</td>\n",
       "      <td>45.0</td>\n",
       "      <td>2012-06-24 17:11:10</td>\n",
       "      <td>0.000000</td>\n",
       "      <td>0.000000</td>\n",
       "      <td>-74.010230</td>\n",
       "      <td>40.714553</td>\n",
       "      <td>2.0</td>\n",
       "      <td>2012.0</td>\n",
       "      <td>6.0</td>\n",
       "      <td>24.0</td>\n",
       "      <td>6.0</td>\n",
       "      <td>17.0</td>\n",
       "      <td>11.0</td>\n",
       "      <td>8667.454421</td>\n",
       "    </tr>\n",
       "    <tr>\n",
       "      <th>4279</th>\n",
       "      <td>2015-04-07 23:33:02.0000005</td>\n",
       "      <td>7.0</td>\n",
       "      <td>2015-04-07 23:33:02</td>\n",
       "      <td>-73.972702</td>\n",
       "      <td>40.757423</td>\n",
       "      <td>0.000000</td>\n",
       "      <td>0.000000</td>\n",
       "      <td>1.0</td>\n",
       "      <td>2015.0</td>\n",
       "      <td>4.0</td>\n",
       "      <td>7.0</td>\n",
       "      <td>1.0</td>\n",
       "      <td>23.0</td>\n",
       "      <td>33.0</td>\n",
       "      <td>8665.223767</td>\n",
       "    </tr>\n",
       "    <tr>\n",
       "      <th>4598</th>\n",
       "      <td>2010-03-30 07:12:00.000000158</td>\n",
       "      <td>6.9</td>\n",
       "      <td>2010-03-30 07:12:00</td>\n",
       "      <td>0.000000</td>\n",
       "      <td>0.000000</td>\n",
       "      <td>-73.989693</td>\n",
       "      <td>40.754280</td>\n",
       "      <td>1.0</td>\n",
       "      <td>2010.0</td>\n",
       "      <td>3.0</td>\n",
       "      <td>30.0</td>\n",
       "      <td>1.0</td>\n",
       "      <td>7.0</td>\n",
       "      <td>12.0</td>\n",
       "      <td>8666.566030</td>\n",
       "    </tr>\n",
       "    <tr>\n",
       "      <th>...</th>\n",
       "      <td>...</td>\n",
       "      <td>...</td>\n",
       "      <td>...</td>\n",
       "      <td>...</td>\n",
       "      <td>...</td>\n",
       "      <td>...</td>\n",
       "      <td>...</td>\n",
       "      <td>...</td>\n",
       "      <td>...</td>\n",
       "      <td>...</td>\n",
       "      <td>...</td>\n",
       "      <td>...</td>\n",
       "      <td>...</td>\n",
       "      <td>...</td>\n",
       "      <td>...</td>\n",
       "    </tr>\n",
       "    <tr>\n",
       "      <th>98228</th>\n",
       "      <td>2012-05-12 10:48:00.00000020</td>\n",
       "      <td>49.8</td>\n",
       "      <td>2012-05-12 10:48:00</td>\n",
       "      <td>-74.014917</td>\n",
       "      <td>40.713382</td>\n",
       "      <td>0.000000</td>\n",
       "      <td>0.000000</td>\n",
       "      <td>1.0</td>\n",
       "      <td>2012.0</td>\n",
       "      <td>5.0</td>\n",
       "      <td>12.0</td>\n",
       "      <td>5.0</td>\n",
       "      <td>10.0</td>\n",
       "      <td>48.0</td>\n",
       "      <td>8667.818812</td>\n",
       "    </tr>\n",
       "    <tr>\n",
       "      <th>98447</th>\n",
       "      <td>2009-10-28 08:29:31.0000007</td>\n",
       "      <td>11.7</td>\n",
       "      <td>2009-10-28 08:29:31</td>\n",
       "      <td>0.000000</td>\n",
       "      <td>0.000000</td>\n",
       "      <td>-73.961266</td>\n",
       "      <td>40.760952</td>\n",
       "      <td>1.0</td>\n",
       "      <td>2009.0</td>\n",
       "      <td>10.0</td>\n",
       "      <td>28.0</td>\n",
       "      <td>2.0</td>\n",
       "      <td>8.0</td>\n",
       "      <td>29.0</td>\n",
       "      <td>8664.349429</td>\n",
       "    </tr>\n",
       "    <tr>\n",
       "      <th>99612</th>\n",
       "      <td>2014-04-05 11:36:27.0000001</td>\n",
       "      <td>5.5</td>\n",
       "      <td>2014-04-05 11:36:27</td>\n",
       "      <td>0.000000</td>\n",
       "      <td>0.000000</td>\n",
       "      <td>-73.962511</td>\n",
       "      <td>40.766603</td>\n",
       "      <td>1.0</td>\n",
       "      <td>2014.0</td>\n",
       "      <td>4.0</td>\n",
       "      <td>5.0</td>\n",
       "      <td>5.0</td>\n",
       "      <td>11.0</td>\n",
       "      <td>36.0</td>\n",
       "      <td>8664.568401</td>\n",
       "    </tr>\n",
       "    <tr>\n",
       "      <th>99910</th>\n",
       "      <td>2014-06-22 22:22:03.0000005</td>\n",
       "      <td>6.0</td>\n",
       "      <td>2014-06-22 22:22:03</td>\n",
       "      <td>0.000000</td>\n",
       "      <td>0.000000</td>\n",
       "      <td>-74.002537</td>\n",
       "      <td>40.750143</td>\n",
       "      <td>2.0</td>\n",
       "      <td>2014.0</td>\n",
       "      <td>6.0</td>\n",
       "      <td>22.0</td>\n",
       "      <td>6.0</td>\n",
       "      <td>22.0</td>\n",
       "      <td>22.0</td>\n",
       "      <td>8667.544802</td>\n",
       "    </tr>\n",
       "    <tr>\n",
       "      <th>100975</th>\n",
       "      <td>2015-01-10 18:41:30.0000001</td>\n",
       "      <td>7.5</td>\n",
       "      <td>2015-01-10 18:41:30</td>\n",
       "      <td>0.000000</td>\n",
       "      <td>0.000000</td>\n",
       "      <td>-74.008026</td>\n",
       "      <td>40.739788</td>\n",
       "      <td>1.0</td>\n",
       "      <td>2015.0</td>\n",
       "      <td>1.0</td>\n",
       "      <td>10.0</td>\n",
       "      <td>5.0</td>\n",
       "      <td>18.0</td>\n",
       "      <td>41.0</td>\n",
       "      <td>8667.787593</td>\n",
       "    </tr>\n",
       "  </tbody>\n",
       "</table>\n",
       "<p>151 rows × 15 columns</p>\n",
       "</div>"
      ],
      "text/plain": [
       "                                  key  fare_amount     pickup_datetime  \\\n",
       "473     2009-02-22 22:48:00.000000130          2.5 2009-02-22 22:48:00   \n",
       "1261     2011-03-10 20:25:00.00000049          5.7 2011-03-10 20:25:00   \n",
       "2398      2012-06-24 17:11:10.0000001         45.0 2012-06-24 17:11:10   \n",
       "4279      2015-04-07 23:33:02.0000005          7.0 2015-04-07 23:33:02   \n",
       "4598    2010-03-30 07:12:00.000000158          6.9 2010-03-30 07:12:00   \n",
       "...                               ...          ...                 ...   \n",
       "98228    2012-05-12 10:48:00.00000020         49.8 2012-05-12 10:48:00   \n",
       "98447     2009-10-28 08:29:31.0000007         11.7 2009-10-28 08:29:31   \n",
       "99612     2014-04-05 11:36:27.0000001          5.5 2014-04-05 11:36:27   \n",
       "99910     2014-06-22 22:22:03.0000005          6.0 2014-06-22 22:22:03   \n",
       "100975    2015-01-10 18:41:30.0000001          7.5 2015-01-10 18:41:30   \n",
       "\n",
       "        pickup_longitude  pickup_latitude  dropoff_longitude  \\\n",
       "473             0.000000         0.000000         -74.005433   \n",
       "1261          -73.973907        40.754743           0.000000   \n",
       "2398            0.000000         0.000000         -74.010230   \n",
       "4279          -73.972702        40.757423           0.000000   \n",
       "4598            0.000000         0.000000         -73.989693   \n",
       "...                  ...              ...                ...   \n",
       "98228         -74.014917        40.713382           0.000000   \n",
       "98447           0.000000         0.000000         -73.961266   \n",
       "99612           0.000000         0.000000         -73.962511   \n",
       "99910           0.000000         0.000000         -74.002537   \n",
       "100975          0.000000         0.000000         -74.008026   \n",
       "\n",
       "        dropoff_latitude  passenger_count    year  Month  Date  Day  Hour  \\\n",
       "473            40.726685              2.0  2009.0    2.0  22.0  6.0  22.0   \n",
       "1261            0.000000              2.0  2011.0    3.0  10.0  3.0  20.0   \n",
       "2398           40.714553              2.0  2012.0    6.0  24.0  6.0  17.0   \n",
       "4279            0.000000              1.0  2015.0    4.0   7.0  1.0  23.0   \n",
       "4598           40.754280              1.0  2010.0    3.0  30.0  1.0   7.0   \n",
       "...                  ...              ...     ...    ...   ...  ...   ...   \n",
       "98228           0.000000              1.0  2012.0    5.0  12.0  5.0  10.0   \n",
       "98447          40.760952              1.0  2009.0   10.0  28.0  2.0   8.0   \n",
       "99612          40.766603              1.0  2014.0    4.0   5.0  5.0  11.0   \n",
       "99910          40.750143              2.0  2014.0    6.0  22.0  6.0  22.0   \n",
       "100975         40.739788              1.0  2015.0    1.0  10.0  5.0  18.0   \n",
       "\n",
       "        Minute     distance  \n",
       "473       48.0  8667.304968  \n",
       "1261      25.0  8665.268588  \n",
       "2398      11.0  8667.454421  \n",
       "4279      33.0  8665.223767  \n",
       "4598      12.0  8666.566030  \n",
       "...        ...          ...  \n",
       "98228     48.0  8667.818812  \n",
       "98447     29.0  8664.349429  \n",
       "99612     36.0  8664.568401  \n",
       "99910     22.0  8667.544802  \n",
       "100975    41.0  8667.787593  \n",
       "\n",
       "[151 rows x 15 columns]"
      ]
     },
     "execution_count": 65,
     "metadata": {},
     "output_type": "execute_result"
    }
   ],
   "source": [
    "train[train[\"distance\"]> 8000]"
   ]
  },
  {
   "cell_type": "markdown",
   "id": "58c5cbb8",
   "metadata": {},
   "source": [
    "the top 23 values in distance column is very high . it can't be greater than 8000 because its maximum distance of earth . if we remove this top 23 values the top distance goes down to 127 "
   ]
  },
  {
   "cell_type": "code",
   "execution_count": 66,
   "id": "39ea0b38",
   "metadata": {},
   "outputs": [
    {
     "data": {
      "text/plain": [
       "(102276, 15)"
      ]
     },
     "execution_count": 66,
     "metadata": {},
     "output_type": "execute_result"
    }
   ],
   "source": [
    "#we will remove the rows whose distance is very high which is more than 129kms\n",
    "train = train.drop(train[train['distance']> 130].index, axis=0)\n",
    "train.shape"
   ]
  },
  {
   "cell_type": "code",
   "execution_count": 67,
   "id": "8890756f",
   "metadata": {},
   "outputs": [
    {
     "data": {
      "text/plain": [
       "Counter({False: 99289, True: 2987})"
      ]
     },
     "execution_count": 67,
     "metadata": {},
     "output_type": "execute_result"
    }
   ],
   "source": [
    "Counter(train['distance'] == 0)"
   ]
  },
  {
   "cell_type": "code",
   "execution_count": 68,
   "id": "c909cf00",
   "metadata": {},
   "outputs": [
    {
     "data": {
      "text/plain": [
       "Counter({False: 9829, True: 85})"
      ]
     },
     "execution_count": 68,
     "metadata": {},
     "output_type": "execute_result"
    }
   ],
   "source": [
    "Counter(test['distance'] == 0)"
   ]
  },
  {
   "cell_type": "code",
   "execution_count": 69,
   "id": "283ece13",
   "metadata": {},
   "outputs": [
    {
     "data": {
      "text/plain": [
       "(99289, 15)"
      ]
     },
     "execution_count": 69,
     "metadata": {},
     "output_type": "execute_result"
    }
   ],
   "source": [
    "# we need to drop all the distance value which are equal to 0\n",
    "train = train.drop(train[train['distance']==0].index, axis=0)\n",
    "train.shape"
   ]
  },
  {
   "cell_type": "code",
   "execution_count": 70,
   "id": "9c644264",
   "metadata": {},
   "outputs": [
    {
     "data": {
      "text/plain": [
       "(9829, 14)"
      ]
     },
     "execution_count": 70,
     "metadata": {},
     "output_type": "execute_result"
    }
   ],
   "source": [
    "test = test.drop(test[test['distance']==0].index, axis=0)\n",
    "test.shape"
   ]
  },
  {
   "cell_type": "markdown",
   "id": "a4c58240",
   "metadata": {},
   "source": [
    "We have the pickup_date time intp year, month, day, hour and  minute so pickup_date time would be irrelevant so we will be dropping it. we have already calculated distance using the pickup and dropoff latitude and longitude so we will be dropping all those variables."
   ]
  },
  {
   "cell_type": "code",
   "execution_count": 71,
   "id": "fe732d76",
   "metadata": {},
   "outputs": [
    {
     "data": {
      "text/html": [
       "<div>\n",
       "<style scoped>\n",
       "    .dataframe tbody tr th:only-of-type {\n",
       "        vertical-align: middle;\n",
       "    }\n",
       "\n",
       "    .dataframe tbody tr th {\n",
       "        vertical-align: top;\n",
       "    }\n",
       "\n",
       "    .dataframe thead th {\n",
       "        text-align: right;\n",
       "    }\n",
       "</style>\n",
       "<table border=\"1\" class=\"dataframe\">\n",
       "  <thead>\n",
       "    <tr style=\"text-align: right;\">\n",
       "      <th></th>\n",
       "      <th>key</th>\n",
       "      <th>fare_amount</th>\n",
       "      <th>pickup_datetime</th>\n",
       "      <th>pickup_longitude</th>\n",
       "      <th>pickup_latitude</th>\n",
       "      <th>dropoff_longitude</th>\n",
       "      <th>dropoff_latitude</th>\n",
       "      <th>passenger_count</th>\n",
       "      <th>year</th>\n",
       "      <th>Month</th>\n",
       "      <th>Date</th>\n",
       "      <th>Day</th>\n",
       "      <th>Hour</th>\n",
       "      <th>Minute</th>\n",
       "      <th>distance</th>\n",
       "    </tr>\n",
       "  </thead>\n",
       "  <tbody>\n",
       "    <tr>\n",
       "      <th>0</th>\n",
       "      <td>2010-04-23 15:12:00.000000132</td>\n",
       "      <td>4.10</td>\n",
       "      <td>2010-04-23 15:12:00</td>\n",
       "      <td>-73.973925</td>\n",
       "      <td>40.748950</td>\n",
       "      <td>-73.966458</td>\n",
       "      <td>40.753695</td>\n",
       "      <td>1.0</td>\n",
       "      <td>2010.0</td>\n",
       "      <td>4.0</td>\n",
       "      <td>23.0</td>\n",
       "      <td>4.0</td>\n",
       "      <td>15.0</td>\n",
       "      <td>12.0</td>\n",
       "      <td>0.820980</td>\n",
       "    </tr>\n",
       "    <tr>\n",
       "      <th>1</th>\n",
       "      <td>2009-06-15 17:26:21.0000001</td>\n",
       "      <td>4.50</td>\n",
       "      <td>2009-06-15 17:26:21</td>\n",
       "      <td>-73.844311</td>\n",
       "      <td>40.721319</td>\n",
       "      <td>-73.841610</td>\n",
       "      <td>40.712278</td>\n",
       "      <td>1.0</td>\n",
       "      <td>2009.0</td>\n",
       "      <td>6.0</td>\n",
       "      <td>15.0</td>\n",
       "      <td>0.0</td>\n",
       "      <td>17.0</td>\n",
       "      <td>26.0</td>\n",
       "      <td>1.030764</td>\n",
       "    </tr>\n",
       "    <tr>\n",
       "      <th>2</th>\n",
       "      <td>2010-01-05 16:52:16.0000002</td>\n",
       "      <td>16.90</td>\n",
       "      <td>2010-01-05 16:52:16</td>\n",
       "      <td>-74.016048</td>\n",
       "      <td>40.711303</td>\n",
       "      <td>-73.979268</td>\n",
       "      <td>40.782004</td>\n",
       "      <td>1.0</td>\n",
       "      <td>2010.0</td>\n",
       "      <td>1.0</td>\n",
       "      <td>5.0</td>\n",
       "      <td>1.0</td>\n",
       "      <td>16.0</td>\n",
       "      <td>52.0</td>\n",
       "      <td>8.450134</td>\n",
       "    </tr>\n",
       "    <tr>\n",
       "      <th>3</th>\n",
       "      <td>2011-08-18 00:35:00.00000049</td>\n",
       "      <td>5.70</td>\n",
       "      <td>2011-08-18 00:35:00</td>\n",
       "      <td>-73.982738</td>\n",
       "      <td>40.761270</td>\n",
       "      <td>-73.991242</td>\n",
       "      <td>40.750562</td>\n",
       "      <td>2.0</td>\n",
       "      <td>2011.0</td>\n",
       "      <td>8.0</td>\n",
       "      <td>18.0</td>\n",
       "      <td>3.0</td>\n",
       "      <td>0.0</td>\n",
       "      <td>35.0</td>\n",
       "      <td>1.389525</td>\n",
       "    </tr>\n",
       "    <tr>\n",
       "      <th>4</th>\n",
       "      <td>2012-04-21 04:30:42.0000001</td>\n",
       "      <td>7.70</td>\n",
       "      <td>2012-04-21 04:30:42</td>\n",
       "      <td>-73.987130</td>\n",
       "      <td>40.733143</td>\n",
       "      <td>-73.991567</td>\n",
       "      <td>40.758092</td>\n",
       "      <td>1.0</td>\n",
       "      <td>2012.0</td>\n",
       "      <td>4.0</td>\n",
       "      <td>21.0</td>\n",
       "      <td>5.0</td>\n",
       "      <td>4.0</td>\n",
       "      <td>30.0</td>\n",
       "      <td>2.799270</td>\n",
       "    </tr>\n",
       "    <tr>\n",
       "      <th>...</th>\n",
       "      <td>...</td>\n",
       "      <td>...</td>\n",
       "      <td>...</td>\n",
       "      <td>...</td>\n",
       "      <td>...</td>\n",
       "      <td>...</td>\n",
       "      <td>...</td>\n",
       "      <td>...</td>\n",
       "      <td>...</td>\n",
       "      <td>...</td>\n",
       "      <td>...</td>\n",
       "      <td>...</td>\n",
       "      <td>...</td>\n",
       "      <td>...</td>\n",
       "      <td>...</td>\n",
       "    </tr>\n",
       "    <tr>\n",
       "      <th>102822</th>\n",
       "      <td>2015-03-22 06:38:44.0000001</td>\n",
       "      <td>6.00</td>\n",
       "      <td>2015-03-22 06:38:44</td>\n",
       "      <td>-73.952019</td>\n",
       "      <td>40.824009</td>\n",
       "      <td>-73.940926</td>\n",
       "      <td>40.839195</td>\n",
       "      <td>1.0</td>\n",
       "      <td>2015.0</td>\n",
       "      <td>3.0</td>\n",
       "      <td>22.0</td>\n",
       "      <td>6.0</td>\n",
       "      <td>6.0</td>\n",
       "      <td>38.0</td>\n",
       "      <td>1.929397</td>\n",
       "    </tr>\n",
       "    <tr>\n",
       "      <th>102823</th>\n",
       "      <td>2014-07-30 18:12:21.0000007</td>\n",
       "      <td>5.50</td>\n",
       "      <td>2014-07-30 18:12:21</td>\n",
       "      <td>-73.953338</td>\n",
       "      <td>40.767686</td>\n",
       "      <td>-73.963136</td>\n",
       "      <td>40.775248</td>\n",
       "      <td>1.0</td>\n",
       "      <td>2014.0</td>\n",
       "      <td>7.0</td>\n",
       "      <td>30.0</td>\n",
       "      <td>2.0</td>\n",
       "      <td>18.0</td>\n",
       "      <td>12.0</td>\n",
       "      <td>1.178055</td>\n",
       "    </tr>\n",
       "    <tr>\n",
       "      <th>102824</th>\n",
       "      <td>2011-09-23 04:20:00.00000027</td>\n",
       "      <td>7.30</td>\n",
       "      <td>2011-09-23 04:20:00</td>\n",
       "      <td>-73.953740</td>\n",
       "      <td>40.779777</td>\n",
       "      <td>-73.940107</td>\n",
       "      <td>40.806462</td>\n",
       "      <td>1.0</td>\n",
       "      <td>2011.0</td>\n",
       "      <td>9.0</td>\n",
       "      <td>23.0</td>\n",
       "      <td>4.0</td>\n",
       "      <td>4.0</td>\n",
       "      <td>20.0</td>\n",
       "      <td>3.181450</td>\n",
       "    </tr>\n",
       "    <tr>\n",
       "      <th>102825</th>\n",
       "      <td>2013-12-03 21:35:05.0000003</td>\n",
       "      <td>5.00</td>\n",
       "      <td>2013-12-03 21:35:05</td>\n",
       "      <td>-73.986612</td>\n",
       "      <td>40.719474</td>\n",
       "      <td>-73.984908</td>\n",
       "      <td>40.728074</td>\n",
       "      <td>1.0</td>\n",
       "      <td>2013.0</td>\n",
       "      <td>12.0</td>\n",
       "      <td>3.0</td>\n",
       "      <td>1.0</td>\n",
       "      <td>21.0</td>\n",
       "      <td>35.0</td>\n",
       "      <td>0.966998</td>\n",
       "    </tr>\n",
       "    <tr>\n",
       "      <th>102826</th>\n",
       "      <td>2010-09-08 16:19:05.0000002</td>\n",
       "      <td>49.57</td>\n",
       "      <td>2010-09-08 16:19:05</td>\n",
       "      <td>-73.973255</td>\n",
       "      <td>40.763775</td>\n",
       "      <td>-73.956262</td>\n",
       "      <td>40.776293</td>\n",
       "      <td>1.0</td>\n",
       "      <td>2010.0</td>\n",
       "      <td>9.0</td>\n",
       "      <td>8.0</td>\n",
       "      <td>2.0</td>\n",
       "      <td>16.0</td>\n",
       "      <td>19.0</td>\n",
       "      <td>1.996320</td>\n",
       "    </tr>\n",
       "  </tbody>\n",
       "</table>\n",
       "<p>99289 rows × 15 columns</p>\n",
       "</div>"
      ],
      "text/plain": [
       "                                  key  fare_amount     pickup_datetime  \\\n",
       "0       2010-04-23 15:12:00.000000132         4.10 2010-04-23 15:12:00   \n",
       "1         2009-06-15 17:26:21.0000001         4.50 2009-06-15 17:26:21   \n",
       "2         2010-01-05 16:52:16.0000002        16.90 2010-01-05 16:52:16   \n",
       "3        2011-08-18 00:35:00.00000049         5.70 2011-08-18 00:35:00   \n",
       "4         2012-04-21 04:30:42.0000001         7.70 2012-04-21 04:30:42   \n",
       "...                               ...          ...                 ...   \n",
       "102822    2015-03-22 06:38:44.0000001         6.00 2015-03-22 06:38:44   \n",
       "102823    2014-07-30 18:12:21.0000007         5.50 2014-07-30 18:12:21   \n",
       "102824   2011-09-23 04:20:00.00000027         7.30 2011-09-23 04:20:00   \n",
       "102825    2013-12-03 21:35:05.0000003         5.00 2013-12-03 21:35:05   \n",
       "102826    2010-09-08 16:19:05.0000002        49.57 2010-09-08 16:19:05   \n",
       "\n",
       "        pickup_longitude  pickup_latitude  dropoff_longitude  \\\n",
       "0             -73.973925        40.748950         -73.966458   \n",
       "1             -73.844311        40.721319         -73.841610   \n",
       "2             -74.016048        40.711303         -73.979268   \n",
       "3             -73.982738        40.761270         -73.991242   \n",
       "4             -73.987130        40.733143         -73.991567   \n",
       "...                  ...              ...                ...   \n",
       "102822        -73.952019        40.824009         -73.940926   \n",
       "102823        -73.953338        40.767686         -73.963136   \n",
       "102824        -73.953740        40.779777         -73.940107   \n",
       "102825        -73.986612        40.719474         -73.984908   \n",
       "102826        -73.973255        40.763775         -73.956262   \n",
       "\n",
       "        dropoff_latitude  passenger_count    year  Month  Date  Day  Hour  \\\n",
       "0              40.753695              1.0  2010.0    4.0  23.0  4.0  15.0   \n",
       "1              40.712278              1.0  2009.0    6.0  15.0  0.0  17.0   \n",
       "2              40.782004              1.0  2010.0    1.0   5.0  1.0  16.0   \n",
       "3              40.750562              2.0  2011.0    8.0  18.0  3.0   0.0   \n",
       "4              40.758092              1.0  2012.0    4.0  21.0  5.0   4.0   \n",
       "...                  ...              ...     ...    ...   ...  ...   ...   \n",
       "102822         40.839195              1.0  2015.0    3.0  22.0  6.0   6.0   \n",
       "102823         40.775248              1.0  2014.0    7.0  30.0  2.0  18.0   \n",
       "102824         40.806462              1.0  2011.0    9.0  23.0  4.0   4.0   \n",
       "102825         40.728074              1.0  2013.0   12.0   3.0  1.0  21.0   \n",
       "102826         40.776293              1.0  2010.0    9.0   8.0  2.0  16.0   \n",
       "\n",
       "        Minute  distance  \n",
       "0         12.0  0.820980  \n",
       "1         26.0  1.030764  \n",
       "2         52.0  8.450134  \n",
       "3         35.0  1.389525  \n",
       "4         30.0  2.799270  \n",
       "...        ...       ...  \n",
       "102822    38.0  1.929397  \n",
       "102823    12.0  1.178055  \n",
       "102824    20.0  3.181450  \n",
       "102825    35.0  0.966998  \n",
       "102826    19.0  1.996320  \n",
       "\n",
       "[99289 rows x 15 columns]"
      ]
     },
     "execution_count": 71,
     "metadata": {},
     "output_type": "execute_result"
    }
   ],
   "source": [
    "train"
   ]
  },
  {
   "cell_type": "code",
   "execution_count": 72,
   "id": "74a5b111",
   "metadata": {},
   "outputs": [],
   "source": [
    "drop_columns = ['key','pickup_datetime','pickup_longitude','pickup_latitude','dropoff_longitude','dropoff_latitude','Minute']\n",
    "train = train.drop(drop_columns, axis = 1)"
   ]
  },
  {
   "cell_type": "code",
   "execution_count": 73,
   "id": "2a16590f",
   "metadata": {},
   "outputs": [
    {
     "data": {
      "text/html": [
       "<div>\n",
       "<style scoped>\n",
       "    .dataframe tbody tr th:only-of-type {\n",
       "        vertical-align: middle;\n",
       "    }\n",
       "\n",
       "    .dataframe tbody tr th {\n",
       "        vertical-align: top;\n",
       "    }\n",
       "\n",
       "    .dataframe thead th {\n",
       "        text-align: right;\n",
       "    }\n",
       "</style>\n",
       "<table border=\"1\" class=\"dataframe\">\n",
       "  <thead>\n",
       "    <tr style=\"text-align: right;\">\n",
       "      <th></th>\n",
       "      <th>fare_amount</th>\n",
       "      <th>passenger_count</th>\n",
       "      <th>year</th>\n",
       "      <th>Month</th>\n",
       "      <th>Date</th>\n",
       "      <th>Day</th>\n",
       "      <th>Hour</th>\n",
       "      <th>distance</th>\n",
       "    </tr>\n",
       "  </thead>\n",
       "  <tbody>\n",
       "    <tr>\n",
       "      <th>0</th>\n",
       "      <td>4.1</td>\n",
       "      <td>1.0</td>\n",
       "      <td>2010.0</td>\n",
       "      <td>4.0</td>\n",
       "      <td>23.0</td>\n",
       "      <td>4.0</td>\n",
       "      <td>15.0</td>\n",
       "      <td>0.820980</td>\n",
       "    </tr>\n",
       "    <tr>\n",
       "      <th>1</th>\n",
       "      <td>4.5</td>\n",
       "      <td>1.0</td>\n",
       "      <td>2009.0</td>\n",
       "      <td>6.0</td>\n",
       "      <td>15.0</td>\n",
       "      <td>0.0</td>\n",
       "      <td>17.0</td>\n",
       "      <td>1.030764</td>\n",
       "    </tr>\n",
       "    <tr>\n",
       "      <th>2</th>\n",
       "      <td>16.9</td>\n",
       "      <td>1.0</td>\n",
       "      <td>2010.0</td>\n",
       "      <td>1.0</td>\n",
       "      <td>5.0</td>\n",
       "      <td>1.0</td>\n",
       "      <td>16.0</td>\n",
       "      <td>8.450134</td>\n",
       "    </tr>\n",
       "    <tr>\n",
       "      <th>3</th>\n",
       "      <td>5.7</td>\n",
       "      <td>2.0</td>\n",
       "      <td>2011.0</td>\n",
       "      <td>8.0</td>\n",
       "      <td>18.0</td>\n",
       "      <td>3.0</td>\n",
       "      <td>0.0</td>\n",
       "      <td>1.389525</td>\n",
       "    </tr>\n",
       "    <tr>\n",
       "      <th>4</th>\n",
       "      <td>7.7</td>\n",
       "      <td>1.0</td>\n",
       "      <td>2012.0</td>\n",
       "      <td>4.0</td>\n",
       "      <td>21.0</td>\n",
       "      <td>5.0</td>\n",
       "      <td>4.0</td>\n",
       "      <td>2.799270</td>\n",
       "    </tr>\n",
       "  </tbody>\n",
       "</table>\n",
       "</div>"
      ],
      "text/plain": [
       "   fare_amount  passenger_count    year  Month  Date  Day  Hour  distance\n",
       "0          4.1              1.0  2010.0    4.0  23.0  4.0  15.0  0.820980\n",
       "1          4.5              1.0  2009.0    6.0  15.0  0.0  17.0  1.030764\n",
       "2         16.9              1.0  2010.0    1.0   5.0  1.0  16.0  8.450134\n",
       "3          5.7              2.0  2011.0    8.0  18.0  3.0   0.0  1.389525\n",
       "4          7.7              1.0  2012.0    4.0  21.0  5.0   4.0  2.799270"
      ]
     },
     "execution_count": 73,
     "metadata": {},
     "output_type": "execute_result"
    }
   ],
   "source": [
    "train.head()"
   ]
  },
  {
   "cell_type": "code",
   "execution_count": 74,
   "id": "650625e0",
   "metadata": {},
   "outputs": [
    {
     "data": {
      "text/plain": [
       "fare_amount        float64\n",
       "passenger_count    float64\n",
       "year               float64\n",
       "Month              float64\n",
       "Date               float64\n",
       "Day                float64\n",
       "Hour               float64\n",
       "distance           float64\n",
       "dtype: object"
      ]
     },
     "execution_count": 74,
     "metadata": {},
     "output_type": "execute_result"
    }
   ],
   "source": [
    "train.dtypes"
   ]
  },
  {
   "cell_type": "code",
   "execution_count": 75,
   "id": "37806429",
   "metadata": {},
   "outputs": [
    {
     "data": {
      "text/plain": [
       "key                          object\n",
       "pickup_datetime      datetime64[ns]\n",
       "pickup_longitude            float64\n",
       "pickup_latitude             float64\n",
       "dropoff_longitude           float64\n",
       "dropoff_latitude            float64\n",
       "passenger_count               int64\n",
       "year                          int64\n",
       "Month                         int64\n",
       "Date                          int64\n",
       "Day                           int64\n",
       "Hour                          int64\n",
       "Minute                        int64\n",
       "distance                    float64\n",
       "dtype: object"
      ]
     },
     "execution_count": 75,
     "metadata": {},
     "output_type": "execute_result"
    }
   ],
   "source": [
    "test.dtypes"
   ]
  },
  {
   "cell_type": "code",
   "execution_count": 76,
   "id": "c99b086c",
   "metadata": {},
   "outputs": [],
   "source": [
    "drop_columns = ['key','pickup_datetime','pickup_longitude','pickup_latitude','dropoff_longitude','dropoff_latitude','Minute']\n",
    "test = test.drop(drop_columns, axis = 1)"
   ]
  },
  {
   "cell_type": "code",
   "execution_count": 77,
   "id": "cc136010",
   "metadata": {},
   "outputs": [
    {
     "data": {
      "text/plain": [
       "passenger_count      int64\n",
       "year                 int64\n",
       "Month                int64\n",
       "Date                 int64\n",
       "Day                  int64\n",
       "Hour                 int64\n",
       "distance           float64\n",
       "dtype: object"
      ]
     },
     "execution_count": 77,
     "metadata": {},
     "output_type": "execute_result"
    }
   ],
   "source": [
    "test.dtypes"
   ]
  },
  {
   "cell_type": "code",
   "execution_count": 78,
   "id": "ca758540",
   "metadata": {},
   "outputs": [],
   "source": [
    "#converting variables of float datatype to int datatype\n",
    "train['passenger_count'] = train['passenger_count'].astype('int64')\n",
    "train['year'] = train['year'].astype('int64')\n",
    "train['Month'] = train['Month'].astype('int64')\n",
    "train['Date'] = train['Date'].astype('int64')\n",
    "train['Day'] = train['Day'].astype('int64')\n",
    "train['Hour'] = train['Hour'].astype('int64')"
   ]
  },
  {
   "cell_type": "code",
   "execution_count": 79,
   "id": "221800dd",
   "metadata": {},
   "outputs": [
    {
     "data": {
      "text/plain": [
       "fare_amount        float64\n",
       "passenger_count      int64\n",
       "year                 int64\n",
       "Month                int64\n",
       "Date                 int64\n",
       "Day                  int64\n",
       "Hour                 int64\n",
       "distance           float64\n",
       "dtype: object"
      ]
     },
     "execution_count": 79,
     "metadata": {},
     "output_type": "execute_result"
    }
   ],
   "source": [
    "train.dtypes"
   ]
  },
  {
   "cell_type": "code",
   "execution_count": 80,
   "id": "cb819383",
   "metadata": {},
   "outputs": [
    {
     "data": {
      "text/html": [
       "<div>\n",
       "<style scoped>\n",
       "    .dataframe tbody tr th:only-of-type {\n",
       "        vertical-align: middle;\n",
       "    }\n",
       "\n",
       "    .dataframe tbody tr th {\n",
       "        vertical-align: top;\n",
       "    }\n",
       "\n",
       "    .dataframe thead th {\n",
       "        text-align: right;\n",
       "    }\n",
       "</style>\n",
       "<table border=\"1\" class=\"dataframe\">\n",
       "  <thead>\n",
       "    <tr style=\"text-align: right;\">\n",
       "      <th></th>\n",
       "      <th>fare_amount</th>\n",
       "      <th>passenger_count</th>\n",
       "      <th>year</th>\n",
       "      <th>Month</th>\n",
       "      <th>Date</th>\n",
       "      <th>Day</th>\n",
       "      <th>Hour</th>\n",
       "      <th>distance</th>\n",
       "    </tr>\n",
       "  </thead>\n",
       "  <tbody>\n",
       "    <tr>\n",
       "      <th>0</th>\n",
       "      <td>4.1</td>\n",
       "      <td>1</td>\n",
       "      <td>2010</td>\n",
       "      <td>4</td>\n",
       "      <td>23</td>\n",
       "      <td>4</td>\n",
       "      <td>15</td>\n",
       "      <td>0.820980</td>\n",
       "    </tr>\n",
       "    <tr>\n",
       "      <th>1</th>\n",
       "      <td>4.5</td>\n",
       "      <td>1</td>\n",
       "      <td>2009</td>\n",
       "      <td>6</td>\n",
       "      <td>15</td>\n",
       "      <td>0</td>\n",
       "      <td>17</td>\n",
       "      <td>1.030764</td>\n",
       "    </tr>\n",
       "    <tr>\n",
       "      <th>2</th>\n",
       "      <td>16.9</td>\n",
       "      <td>1</td>\n",
       "      <td>2010</td>\n",
       "      <td>1</td>\n",
       "      <td>5</td>\n",
       "      <td>1</td>\n",
       "      <td>16</td>\n",
       "      <td>8.450134</td>\n",
       "    </tr>\n",
       "    <tr>\n",
       "      <th>3</th>\n",
       "      <td>5.7</td>\n",
       "      <td>2</td>\n",
       "      <td>2011</td>\n",
       "      <td>8</td>\n",
       "      <td>18</td>\n",
       "      <td>3</td>\n",
       "      <td>0</td>\n",
       "      <td>1.389525</td>\n",
       "    </tr>\n",
       "    <tr>\n",
       "      <th>4</th>\n",
       "      <td>7.7</td>\n",
       "      <td>1</td>\n",
       "      <td>2012</td>\n",
       "      <td>4</td>\n",
       "      <td>21</td>\n",
       "      <td>5</td>\n",
       "      <td>4</td>\n",
       "      <td>2.799270</td>\n",
       "    </tr>\n",
       "  </tbody>\n",
       "</table>\n",
       "</div>"
      ],
      "text/plain": [
       "   fare_amount  passenger_count  year  Month  Date  Day  Hour  distance\n",
       "0          4.1                1  2010      4    23    4    15  0.820980\n",
       "1          4.5                1  2009      6    15    0    17  1.030764\n",
       "2         16.9                1  2010      1     5    1    16  8.450134\n",
       "3          5.7                2  2011      8    18    3     0  1.389525\n",
       "4          7.7                1  2012      4    21    5     4  2.799270"
      ]
     },
     "execution_count": 80,
     "metadata": {},
     "output_type": "execute_result"
    }
   ],
   "source": [
    "train.head()"
   ]
  },
  {
   "cell_type": "code",
   "execution_count": 81,
   "id": "9fdcf3ee",
   "metadata": {},
   "outputs": [],
   "source": [
    "train = train.drop(0)"
   ]
  },
  {
   "cell_type": "code",
   "execution_count": 82,
   "id": "9a554c6e",
   "metadata": {},
   "outputs": [
    {
     "data": {
      "text/html": [
       "<div>\n",
       "<style scoped>\n",
       "    .dataframe tbody tr th:only-of-type {\n",
       "        vertical-align: middle;\n",
       "    }\n",
       "\n",
       "    .dataframe tbody tr th {\n",
       "        vertical-align: top;\n",
       "    }\n",
       "\n",
       "    .dataframe thead th {\n",
       "        text-align: right;\n",
       "    }\n",
       "</style>\n",
       "<table border=\"1\" class=\"dataframe\">\n",
       "  <thead>\n",
       "    <tr style=\"text-align: right;\">\n",
       "      <th></th>\n",
       "      <th>fare_amount</th>\n",
       "      <th>passenger_count</th>\n",
       "      <th>year</th>\n",
       "      <th>Month</th>\n",
       "      <th>Date</th>\n",
       "      <th>Day</th>\n",
       "      <th>Hour</th>\n",
       "      <th>distance</th>\n",
       "    </tr>\n",
       "  </thead>\n",
       "  <tbody>\n",
       "    <tr>\n",
       "      <th>1</th>\n",
       "      <td>4.5</td>\n",
       "      <td>1</td>\n",
       "      <td>2009</td>\n",
       "      <td>6</td>\n",
       "      <td>15</td>\n",
       "      <td>0</td>\n",
       "      <td>17</td>\n",
       "      <td>1.030764</td>\n",
       "    </tr>\n",
       "    <tr>\n",
       "      <th>2</th>\n",
       "      <td>16.9</td>\n",
       "      <td>1</td>\n",
       "      <td>2010</td>\n",
       "      <td>1</td>\n",
       "      <td>5</td>\n",
       "      <td>1</td>\n",
       "      <td>16</td>\n",
       "      <td>8.450134</td>\n",
       "    </tr>\n",
       "    <tr>\n",
       "      <th>3</th>\n",
       "      <td>5.7</td>\n",
       "      <td>2</td>\n",
       "      <td>2011</td>\n",
       "      <td>8</td>\n",
       "      <td>18</td>\n",
       "      <td>3</td>\n",
       "      <td>0</td>\n",
       "      <td>1.389525</td>\n",
       "    </tr>\n",
       "    <tr>\n",
       "      <th>4</th>\n",
       "      <td>7.7</td>\n",
       "      <td>1</td>\n",
       "      <td>2012</td>\n",
       "      <td>4</td>\n",
       "      <td>21</td>\n",
       "      <td>5</td>\n",
       "      <td>4</td>\n",
       "      <td>2.799270</td>\n",
       "    </tr>\n",
       "    <tr>\n",
       "      <th>5</th>\n",
       "      <td>5.3</td>\n",
       "      <td>1</td>\n",
       "      <td>2010</td>\n",
       "      <td>3</td>\n",
       "      <td>9</td>\n",
       "      <td>1</td>\n",
       "      <td>7</td>\n",
       "      <td>1.999157</td>\n",
       "    </tr>\n",
       "  </tbody>\n",
       "</table>\n",
       "</div>"
      ],
      "text/plain": [
       "   fare_amount  passenger_count  year  Month  Date  Day  Hour  distance\n",
       "1          4.5                1  2009      6    15    0    17  1.030764\n",
       "2         16.9                1  2010      1     5    1    16  8.450134\n",
       "3          5.7                2  2011      8    18    3     0  1.389525\n",
       "4          7.7                1  2012      4    21    5     4  2.799270\n",
       "5          5.3                1  2010      3     9    1     7  1.999157"
      ]
     },
     "execution_count": 82,
     "metadata": {},
     "output_type": "execute_result"
    }
   ],
   "source": [
    "train.head()"
   ]
  },
  {
   "cell_type": "markdown",
   "id": "dac99b2e",
   "metadata": {},
   "source": [
    "# Data Visualization"
   ]
  },
  {
   "cell_type": "markdown",
   "id": "9705a3c3",
   "metadata": {},
   "source": [
    "Visualization of following"
   ]
  },
  {
   "cell_type": "markdown",
   "id": "13429a2f",
   "metadata": {},
   "source": [
    "1. Number of Passsengers affecting the fare\n",
    "2. Pickup date and time affecting fare\n",
    "3. Day of the week affecting the fare\n",
    "4. Distance affecting the fare"
   ]
  },
  {
   "cell_type": "code",
   "execution_count": 83,
   "id": "de814318",
   "metadata": {
    "scrolled": true
   },
   "outputs": [
    {
     "data": {
      "text/plain": [
       "<AxesSubplot:xlabel='passenger_count', ylabel='count'>"
      ]
     },
     "execution_count": 83,
     "metadata": {},
     "output_type": "execute_result"
    },
    {
     "data": {
      "image/png": "[encoded data removed]",
      "text/plain": [
       "<Figure size 1500x1700 with 1 Axes>"
      ]
     },
     "metadata": {},
     "output_type": "display_data"
    }
   ],
   "source": [
    "# Counting the number of passengers vs the number of rides\n",
    "plt.figure(figsize = (15,17))\n",
    "sns.countplot(x = \"passenger_count\", data = train)"
   ]
  },
  {
   "cell_type": "markdown",
   "id": "45aa6429",
   "metadata": {},
   "source": [
    "Single and double travelling passengers are the most frequent rides taken"
   ]
  },
  {
   "cell_type": "code",
   "execution_count": 84,
   "id": "1f73d7d6",
   "metadata": {},
   "outputs": [
    {
     "data": {
      "image/png": "[encoded data removed]",
      "text/plain": [
       "<Figure size 1500x1700 with 1 Axes>"
      ]
     },
     "metadata": {},
     "output_type": "display_data"
    }
   ],
   "source": [
    "#Relationship between number of passengers and fare\n",
    "\n",
    "plt.figure(figsize = (15,17))\n",
    "plt.scatter(x=train['passenger_count'], y=train['fare_amount'], s=10)\n",
    "plt.xlabel('No.of Passengers')\n",
    "plt.ylabel('Fare')\n",
    "plt.show()"
   ]
  },
  {
   "cell_type": "markdown",
   "id": "12820b9e",
   "metadata": {},
   "source": [
    "Single and four passengers rides had the maximum fare"
   ]
  },
  {
   "cell_type": "code",
   "execution_count": 85,
   "id": "883670ef",
   "metadata": {},
   "outputs": [
    {
     "data": {
      "image/png": "[encoded data removed]",
      "text/plain": [
       "<Figure size 1500x1700 with 1 Axes>"
      ]
     },
     "metadata": {},
     "output_type": "display_data"
    }
   ],
   "source": [
    "#Relationship between date and fare\n",
    "\n",
    "plt.figure(figsize = (15,17))\n",
    "plt.scatter(x=train['Date'], y=train['fare_amount'], s=10)\n",
    "plt.xlabel('Date')\n",
    "plt.ylabel('Fare')\n",
    "plt.show()"
   ]
  },
  {
   "cell_type": "markdown",
   "id": "2b0ffb0e",
   "metadata": {},
   "source": [
    "fare taken simillary on every day"
   ]
  },
  {
   "cell_type": "code",
   "execution_count": 86,
   "id": "00bca854",
   "metadata": {},
   "outputs": [
    {
     "data": {
      "image/png": "[encoded data removed]",
      "text/plain": [
       "<Figure size 1500x1700 with 1 Axes>"
      ]
     },
     "metadata": {},
     "output_type": "display_data"
    }
   ],
   "source": [
    "#relationship between the hour of the day and fare\n",
    "plt.figure(figsize = (15,17))\n",
    "train.groupby(train[\"Hour\"])[\"Hour\"].count().plot(kind = \"bar\")\n",
    "plt.show()"
   ]
  },
  {
   "cell_type": "markdown",
   "id": "eeaa3a04",
   "metadata": {},
   "source": [
    "Lowest number of cabs were at around 5AM and highest number of cabs were between 6PM to &7PM."
   ]
  },
  {
   "cell_type": "code",
   "execution_count": 87,
   "id": "4c03ec3e",
   "metadata": {},
   "outputs": [
    {
     "data": {
      "image/png": "[encoded data removed]",
      "text/plain": [
       "<Figure size 1500x1700 with 1 Axes>"
      ]
     },
     "metadata": {},
     "output_type": "display_data"
    }
   ],
   "source": [
    "#Relationship between day and fare\n",
    "\n",
    "plt.figure(figsize = (15,17))\n",
    "plt.scatter(x=train['Hour'], y=train['fare_amount'], s=10)\n",
    "plt.xlabel('Hour')\n",
    "plt.ylabel('Fare')\n",
    "plt.show()"
   ]
  },
  {
   "cell_type": "markdown",
   "id": "7655351b",
   "metadata": {},
   "source": [
    "Fare is highest at 3Am and around 9Pm which tells the fare is highest in early morning and in the late night"
   ]
  },
  {
   "cell_type": "code",
   "execution_count": 88,
   "id": "b250d4c7",
   "metadata": {},
   "outputs": [
    {
     "data": {
      "text/plain": [
       "<AxesSubplot:xlabel='Day', ylabel='count'>"
      ]
     },
     "execution_count": 88,
     "metadata": {},
     "output_type": "execute_result"
    },
    {
     "data": {
      "image/png": "[encoded data removed]",
      "text/plain": [
       "<Figure size 1500x1700 with 1 Axes>"
      ]
     },
     "metadata": {},
     "output_type": "display_data"
    }
   ],
   "source": [
    "#relationship between the Day of the week and number of cab rides\n",
    "plt.figure(figsize = (15,17))\n",
    "sns.countplot(x = \"Day\", data = train)"
   ]
  },
  {
   "cell_type": "code",
   "execution_count": 89,
   "id": "d843c164",
   "metadata": {},
   "outputs": [
    {
     "data": {
      "image/png": "[encoded data removed]",
      "text/plain": [
       "<Figure size 1500x1700 with 1 Axes>"
      ]
     },
     "metadata": {},
     "output_type": "display_data"
    }
   ],
   "source": [
    "#Relationship between day of the week and fare\n",
    "\n",
    "plt.figure(figsize = (15,17))\n",
    "plt.scatter(x=train['Day'], y=train['fare_amount'], s=10)\n",
    "plt.xlabel('Day')\n",
    "plt.ylabel('Fare')\n",
    "plt.show()"
   ]
  },
  {
   "cell_type": "markdown",
   "id": "bb8e74a3",
   "metadata": {},
   "source": [
    "The cab fare was highest on Thursday, Friday, Saturday. While lowest on others days."
   ]
  },
  {
   "cell_type": "code",
   "execution_count": 90,
   "id": "3bad4185",
   "metadata": {},
   "outputs": [
    {
     "data": {
      "image/png": "[encoded data removed]",
      "text/plain": [
       "<Figure size 1500x1700 with 1 Axes>"
      ]
     },
     "metadata": {},
     "output_type": "display_data"
    }
   ],
   "source": [
    "# relationship between Distance and fare\n",
    "\n",
    "plt.figure(figsize = (15,17))\n",
    "plt.scatter(x=train['distance'], y=train['fare_amount'], c =\"r\")\n",
    "plt.xlabel('distance')\n",
    "plt.ylabel('Fare')\n",
    "plt.show()"
   ]
  },
  {
   "cell_type": "markdown",
   "id": "fee87a89",
   "metadata": {},
   "source": [
    "Distance is showing directly proportional to fare charge as the distance is increasing the fare charge is also increasing "
   ]
  },
  {
   "cell_type": "markdown",
   "id": "db1c6d0e",
   "metadata": {},
   "source": []
  },
  {
   "cell_type": "markdown",
   "id": "347cc6ff",
   "metadata": {},
   "source": [
    "# Featuring scaling"
   ]
  },
  {
   "cell_type": "code",
   "execution_count": 91,
   "id": "d1b3ff7d",
   "metadata": {},
   "outputs": [
    {
     "name": "stdout",
     "output_type": "stream",
     "text": [
      "fare_amount\n"
     ]
    },
    {
     "name": "stderr",
     "output_type": "stream",
     "text": [
      "C:\\Users\\ASHUTOSH\\anaconda3\\lib\\site-packages\\seaborn\\distributions.py:2619: FutureWarning: `distplot` is a deprecated function and will be removed in a future version. Please adapt your code to use either `displot` (a figure-level function with similar flexibility) or `histplot` (an axes-level function for histograms).\n",
      "  warnings.warn(msg, FutureWarning)\n"
     ]
    },
    {
     "data": {
      "image/png": "[encoded data removed]",
      "text/plain": [
       "<Figure size 640x480 with 1 Axes>"
      ]
     },
     "metadata": {},
     "output_type": "display_data"
    },
    {
     "name": "stdout",
     "output_type": "stream",
     "text": [
      "distance\n"
     ]
    },
    {
     "name": "stderr",
     "output_type": "stream",
     "text": [
      "C:\\Users\\ASHUTOSH\\anaconda3\\lib\\site-packages\\seaborn\\distributions.py:2619: FutureWarning: `distplot` is a deprecated function and will be removed in a future version. Please adapt your code to use either `displot` (a figure-level function with similar flexibility) or `histplot` (an axes-level function for histograms).\n",
      "  warnings.warn(msg, FutureWarning)\n"
     ]
    },
    {
     "data": {
      "image/png": "[encoded data removed]",
      "text/plain": [
       "<Figure size 640x480 with 1 Axes>"
      ]
     },
     "metadata": {},
     "output_type": "display_data"
    }
   ],
   "source": [
    "# Normality check for the training data for cab fare and dostance \n",
    "\n",
    "for i in ['fare_amount', 'distance']:\n",
    "    print(i)\n",
    "    sns.distplot(train[i],bins = 'auto', color = 'green')\n",
    "    plt.title(\"Distribution for variable:\"+i)\n",
    "    plt.ylabel(\"Density\")\n",
    "    plt.show()"
   ]
  },
  {
   "cell_type": "code",
   "execution_count": 92,
   "id": "1bb7945f",
   "metadata": {},
   "outputs": [],
   "source": [
    "#since the fareamount is highly skewed applying log transformation\n",
    "train['fare_amount']= np.log1p(train['fare_amount'])\n",
    "\n",
    "#since the variable distance is highly skewed applying log transformation\n",
    "train['distance']= np.log1p(train['distance'])"
   ]
  },
  {
   "cell_type": "code",
   "execution_count": 93,
   "id": "90e85ff6",
   "metadata": {},
   "outputs": [
    {
     "name": "stdout",
     "output_type": "stream",
     "text": [
      "fare_amount\n"
     ]
    },
    {
     "name": "stderr",
     "output_type": "stream",
     "text": [
      "C:\\Users\\ASHUTOSH\\anaconda3\\lib\\site-packages\\seaborn\\distributions.py:2619: FutureWarning: `distplot` is a deprecated function and will be removed in a future version. Please adapt your code to use either `displot` (a figure-level function with similar flexibility) or `histplot` (an axes-level function for histograms).\n",
      "  warnings.warn(msg, FutureWarning)\n"
     ]
    },
    {
     "data": {
      "image/png": "[encoded data removed]",
      "text/plain": [
       "<Figure size 640x480 with 1 Axes>"
      ]
     },
     "metadata": {},
     "output_type": "display_data"
    },
    {
     "name": "stdout",
     "output_type": "stream",
     "text": [
      "distance\n"
     ]
    },
    {
     "name": "stderr",
     "output_type": "stream",
     "text": [
      "C:\\Users\\ASHUTOSH\\anaconda3\\lib\\site-packages\\seaborn\\distributions.py:2619: FutureWarning: `distplot` is a deprecated function and will be removed in a future version. Please adapt your code to use either `displot` (a figure-level function with similar flexibility) or `histplot` (an axes-level function for histograms).\n",
      "  warnings.warn(msg, FutureWarning)\n"
     ]
    },
    {
     "data": {
      "image/png": "[encoded data removed]",
      "text/plain": [
       "<Figure size 640x480 with 1 Axes>"
      ]
     },
     "metadata": {},
     "output_type": "display_data"
    }
   ],
   "source": [
    "# Normality check for the training data for cab fare and dostance \n",
    "\n",
    "for i in ['fare_amount', 'distance']:\n",
    "    print(i)\n",
    "    sns.distplot(train[i],bins = 'auto', color = 'green')\n",
    "    plt.title(\"Distribution for variable:\"+i)\n",
    "    plt.ylabel(\"Density\")\n",
    "    plt.show()"
   ]
  },
  {
   "cell_type": "code",
   "execution_count": 95,
   "id": "a6762f77",
   "metadata": {},
   "outputs": [
    {
     "name": "stdout",
     "output_type": "stream",
     "text": [
      "distance\n"
     ]
    },
    {
     "name": "stderr",
     "output_type": "stream",
     "text": [
      "C:\\Users\\ASHUTOSH\\anaconda3\\lib\\site-packages\\seaborn\\distributions.py:2619: FutureWarning: `distplot` is a deprecated function and will be removed in a future version. Please adapt your code to use either `displot` (a figure-level function with similar flexibility) or `histplot` (an axes-level function for histograms).\n",
      "  warnings.warn(msg, FutureWarning)\n"
     ]
    },
    {
     "data": {
      "image/png": "[encoded data removed]",
      "text/plain": [
       "<Figure size 640x480 with 1 Axes>"
      ]
     },
     "metadata": {},
     "output_type": "display_data"
    }
   ],
   "source": [
    "# Normality check for the test data for cab fare and dostance \n",
    "\n",
    "for i in ['distance']:\n",
    "    print(i)\n",
    "    sns.distplot(test[i],bins = 'auto', color = 'green')\n",
    "    plt.title(\"Distribution for variable:\"+i)\n",
    "    plt.ylabel(\"Density\")\n",
    "    plt.show()"
   ]
  },
  {
   "cell_type": "code",
   "execution_count": 96,
   "id": "2307c609",
   "metadata": {},
   "outputs": [],
   "source": [
    "#since the variable distance is highly skewed applying log transformation\n",
    "test['distance']= np.log1p(test['distance'])"
   ]
  },
  {
   "cell_type": "code",
   "execution_count": 97,
   "id": "63ad9821",
   "metadata": {},
   "outputs": [
    {
     "name": "stdout",
     "output_type": "stream",
     "text": [
      "distance\n"
     ]
    },
    {
     "name": "stderr",
     "output_type": "stream",
     "text": [
      "C:\\Users\\ASHUTOSH\\anaconda3\\lib\\site-packages\\seaborn\\distributions.py:2619: FutureWarning: `distplot` is a deprecated function and will be removed in a future version. Please adapt your code to use either `displot` (a figure-level function with similar flexibility) or `histplot` (an axes-level function for histograms).\n",
      "  warnings.warn(msg, FutureWarning)\n"
     ]
    },
    {
     "data": {
      "image/png": "[encoded data removed]",
      "text/plain": [
       "<Figure size 640x480 with 1 Axes>"
      ]
     },
     "metadata": {},
     "output_type": "display_data"
    }
   ],
   "source": [
    "# Normality check for the test data for cab fare and dostance \n",
    "\n",
    "for i in ['distance']:\n",
    "    print(i)\n",
    "    sns.distplot(test[i],bins = 'auto', color = 'green')\n",
    "    plt.title(\"Distribution for variable:\"+i)\n",
    "    plt.ylabel(\"Density\")\n",
    "    plt.show()"
   ]
  },
  {
   "cell_type": "markdown",
   "id": "2d1c19cf",
   "metadata": {},
   "source": [
    "After applying log transformation the skewed data already converted into normal distribution so there is no need for standerdization and normalization. We have already got the bell curve."
   ]
  },
  {
   "cell_type": "markdown",
   "id": "f2c7a2b6",
   "metadata": {},
   "source": [
    "# Data Modelling- Applying ML Algorithms"
   ]
  },
  {
   "cell_type": "code",
   "execution_count": 99,
   "id": "1cca95fe",
   "metadata": {},
   "outputs": [],
   "source": [
    "#applying train test splot on the dataset\n",
    "X_train, X_test, y_train, y_test = train_test_split(train.iloc[:,train.columns!= 'fare_amount'], train.iloc[:,0], test_size=0.20, random_state=1)"
   ]
  },
  {
   "cell_type": "code",
   "execution_count": 100,
   "id": "ccbe804f",
   "metadata": {},
   "outputs": [
    {
     "data": {
      "text/html": [
       "<div>\n",
       "<style scoped>\n",
       "    .dataframe tbody tr th:only-of-type {\n",
       "        vertical-align: middle;\n",
       "    }\n",
       "\n",
       "    .dataframe tbody tr th {\n",
       "        vertical-align: top;\n",
       "    }\n",
       "\n",
       "    .dataframe thead th {\n",
       "        text-align: right;\n",
       "    }\n",
       "</style>\n",
       "<table border=\"1\" class=\"dataframe\">\n",
       "  <thead>\n",
       "    <tr style=\"text-align: right;\">\n",
       "      <th></th>\n",
       "      <th>passenger_count</th>\n",
       "      <th>year</th>\n",
       "      <th>Month</th>\n",
       "      <th>Date</th>\n",
       "      <th>Day</th>\n",
       "      <th>Hour</th>\n",
       "      <th>distance</th>\n",
       "    </tr>\n",
       "  </thead>\n",
       "  <tbody>\n",
       "    <tr>\n",
       "      <th>56314</th>\n",
       "      <td>1</td>\n",
       "      <td>2014</td>\n",
       "      <td>3</td>\n",
       "      <td>11</td>\n",
       "      <td>1</td>\n",
       "      <td>23</td>\n",
       "      <td>1.268103</td>\n",
       "    </tr>\n",
       "    <tr>\n",
       "      <th>66420</th>\n",
       "      <td>1</td>\n",
       "      <td>2011</td>\n",
       "      <td>6</td>\n",
       "      <td>21</td>\n",
       "      <td>1</td>\n",
       "      <td>18</td>\n",
       "      <td>0.839461</td>\n",
       "    </tr>\n",
       "    <tr>\n",
       "      <th>38975</th>\n",
       "      <td>2</td>\n",
       "      <td>2015</td>\n",
       "      <td>2</td>\n",
       "      <td>1</td>\n",
       "      <td>6</td>\n",
       "      <td>16</td>\n",
       "      <td>1.268838</td>\n",
       "    </tr>\n",
       "    <tr>\n",
       "      <th>62702</th>\n",
       "      <td>1</td>\n",
       "      <td>2010</td>\n",
       "      <td>6</td>\n",
       "      <td>24</td>\n",
       "      <td>3</td>\n",
       "      <td>12</td>\n",
       "      <td>1.034258</td>\n",
       "    </tr>\n",
       "    <tr>\n",
       "      <th>55326</th>\n",
       "      <td>6</td>\n",
       "      <td>2013</td>\n",
       "      <td>4</td>\n",
       "      <td>16</td>\n",
       "      <td>1</td>\n",
       "      <td>10</td>\n",
       "      <td>1.379723</td>\n",
       "    </tr>\n",
       "    <tr>\n",
       "      <th>...</th>\n",
       "      <td>...</td>\n",
       "      <td>...</td>\n",
       "      <td>...</td>\n",
       "      <td>...</td>\n",
       "      <td>...</td>\n",
       "      <td>...</td>\n",
       "      <td>...</td>\n",
       "    </tr>\n",
       "    <tr>\n",
       "      <th>51836</th>\n",
       "      <td>5</td>\n",
       "      <td>2009</td>\n",
       "      <td>4</td>\n",
       "      <td>16</td>\n",
       "      <td>3</td>\n",
       "      <td>11</td>\n",
       "      <td>0.656208</td>\n",
       "    </tr>\n",
       "    <tr>\n",
       "      <th>101551</th>\n",
       "      <td>1</td>\n",
       "      <td>2012</td>\n",
       "      <td>1</td>\n",
       "      <td>29</td>\n",
       "      <td>6</td>\n",
       "      <td>21</td>\n",
       "      <td>0.520883</td>\n",
       "    </tr>\n",
       "    <tr>\n",
       "      <th>5374</th>\n",
       "      <td>1</td>\n",
       "      <td>2010</td>\n",
       "      <td>4</td>\n",
       "      <td>13</td>\n",
       "      <td>1</td>\n",
       "      <td>21</td>\n",
       "      <td>1.561396</td>\n",
       "    </tr>\n",
       "    <tr>\n",
       "      <th>80445</th>\n",
       "      <td>1</td>\n",
       "      <td>2014</td>\n",
       "      <td>1</td>\n",
       "      <td>2</td>\n",
       "      <td>3</td>\n",
       "      <td>16</td>\n",
       "      <td>1.525261</td>\n",
       "    </tr>\n",
       "    <tr>\n",
       "      <th>102060</th>\n",
       "      <td>1</td>\n",
       "      <td>2015</td>\n",
       "      <td>3</td>\n",
       "      <td>1</td>\n",
       "      <td>6</td>\n",
       "      <td>20</td>\n",
       "      <td>2.008677</td>\n",
       "    </tr>\n",
       "  </tbody>\n",
       "</table>\n",
       "<p>79430 rows × 7 columns</p>\n",
       "</div>"
      ],
      "text/plain": [
       "        passenger_count  year  Month  Date  Day  Hour  distance\n",
       "56314                 1  2014      3    11    1    23  1.268103\n",
       "66420                 1  2011      6    21    1    18  0.839461\n",
       "38975                 2  2015      2     1    6    16  1.268838\n",
       "62702                 1  2010      6    24    3    12  1.034258\n",
       "55326                 6  2013      4    16    1    10  1.379723\n",
       "...                 ...   ...    ...   ...  ...   ...       ...\n",
       "51836                 5  2009      4    16    3    11  0.656208\n",
       "101551                1  2012      1    29    6    21  0.520883\n",
       "5374                  1  2010      4    13    1    21  1.561396\n",
       "80445                 1  2014      1     2    3    16  1.525261\n",
       "102060                1  2015      3     1    6    20  2.008677\n",
       "\n",
       "[79430 rows x 7 columns]"
      ]
     },
     "execution_count": 100,
     "metadata": {},
     "output_type": "execute_result"
    }
   ],
   "source": [
    "X_train"
   ]
  },
  {
   "cell_type": "code",
   "execution_count": 101,
   "id": "bdb35790",
   "metadata": {},
   "outputs": [
    {
     "data": {
      "text/plain": [
       "56314     2.140066\n",
       "66420     1.960095\n",
       "38975     2.397895\n",
       "62702     1.774952\n",
       "55326     2.803360\n",
       "            ...   \n",
       "51836     1.960095\n",
       "101551    1.547563\n",
       "5374      2.332144\n",
       "80445     2.674149\n",
       "102060    3.378611\n",
       "Name: fare_amount, Length: 79430, dtype: float64"
      ]
     },
     "execution_count": 101,
     "metadata": {},
     "output_type": "execute_result"
    }
   ],
   "source": [
    "y_train"
   ]
  },
  {
   "cell_type": "code",
   "execution_count": 102,
   "id": "f70dda52",
   "metadata": {},
   "outputs": [
    {
     "name": "stdout",
     "output_type": "stream",
     "text": [
      "(79430, 7)\n",
      "(19858, 7)\n"
     ]
    }
   ],
   "source": [
    "print(X_train.shape)\n",
    "print(X_test.shape)"
   ]
  },
  {
   "cell_type": "code",
   "execution_count": 104,
   "id": "22d3b920",
   "metadata": {},
   "outputs": [
    {
     "name": "stdout",
     "output_type": "stream",
     "text": [
      "(79430,)\n",
      "(19858,)\n"
     ]
    }
   ],
   "source": [
    "print(y_train.shape)\n",
    "print(y_test.shape)"
   ]
  },
  {
   "cell_type": "markdown",
   "id": "291e9321",
   "metadata": {},
   "source": [
    "## Linear Regresssion"
   ]
  },
  {
   "cell_type": "code",
   "execution_count": 105,
   "id": "c19c3eae",
   "metadata": {},
   "outputs": [],
   "source": [
    "#building model on the train dataset\n",
    "fit_LR = LinearRegression().fit(X_train,y_train)"
   ]
  },
  {
   "cell_type": "code",
   "execution_count": 106,
   "id": "81eb51dd",
   "metadata": {},
   "outputs": [],
   "source": [
    "#prediction on train data\n",
    "pred_train_LR = fit_LR.predict(X_train)"
   ]
  },
  {
   "cell_type": "code",
   "execution_count": 107,
   "id": "f4b38f01",
   "metadata": {},
   "outputs": [],
   "source": [
    "#prediction on test data\n",
    "pred_test_LR = fit_LR.predict(X_test)"
   ]
  },
  {
   "cell_type": "code",
   "execution_count": 112,
   "id": "f6d16377",
   "metadata": {},
   "outputs": [],
   "source": [
    "#Calculate RMSE for test data\n",
    "RMSE_test_LR = np.sqrt(mean_squared_error(y_test,pred_test_LR))\n",
    "\n",
    "#Calculate RMSE for train data\n",
    "RMSE_train_LR = np.sqrt(mean_squared_error(y_train,pred_train_LR))"
   ]
  },
  {
   "cell_type": "code",
   "execution_count": 113,
   "id": "eb92a9c6",
   "metadata": {},
   "outputs": [
    {
     "name": "stdout",
     "output_type": "stream",
     "text": [
      "The Root Mean Squared Error for Train data = 0.26515670538978814\n",
      "The Root Mean Squared Error For Test data = 0.26650732741809996\n"
     ]
    }
   ],
   "source": [
    "print(\"The Root Mean Squared Error for Train data = \"+str(RMSE_train_LR))\n",
    "print(\"The Root Mean Squared Error For Test data = \"+str(RMSE_test_LR))"
   ]
  },
  {
   "cell_type": "code",
   "execution_count": 114,
   "id": "33dd468f",
   "metadata": {},
   "outputs": [
    {
     "data": {
      "text/plain": [
       "0.7631223655586671"
      ]
     },
     "execution_count": 114,
     "metadata": {},
     "output_type": "execute_result"
    }
   ],
   "source": [
    "#Calculate R^2 for train data\n",
    "from sklearn.metrics import r2_score\n",
    "r2_score(y_train,pred_train_LR)"
   ]
  },
  {
   "cell_type": "code",
   "execution_count": 116,
   "id": "a9b74439",
   "metadata": {},
   "outputs": [
    {
     "data": {
      "text/plain": [
       "0.7582014623086017"
      ]
     },
     "execution_count": 116,
     "metadata": {},
     "output_type": "execute_result"
    }
   ],
   "source": [
    "r2_score(y_test,pred_test_LR)"
   ]
  },
  {
   "cell_type": "markdown",
   "id": "9f1cf223",
   "metadata": {},
   "source": [
    "## Decison The Model"
   ]
  },
  {
   "cell_type": "code",
   "execution_count": 117,
   "id": "5ecc4e9a",
   "metadata": {},
   "outputs": [],
   "source": [
    "fit_DT = DecisionTreeRegressor(max_depth = 2).fit(X_train,y_train)"
   ]
  },
  {
   "cell_type": "code",
   "execution_count": 118,
   "id": "a8a173c3",
   "metadata": {},
   "outputs": [],
   "source": [
    "#prediction on train data\n",
    "pred_train_DT = fit_DT.predict(X_train)\n",
    "\n",
    "#prediction on test data\n",
    "pred_test_DT = fit_DT.predict(X_test)"
   ]
  },
  {
   "cell_type": "code",
   "execution_count": 123,
   "id": "7eb146c1",
   "metadata": {},
   "outputs": [],
   "source": [
    "#Calculate RMSE for test data\n",
    "RMSE_test_DT = np.sqrt(mean_squared_error(y_test,pred_test_DT))\n",
    "\n",
    "#Calculate RMSE for train data\n",
    "RMSE_train_DT = np.sqrt(mean_squared_error(y_test,pred_test_DT))"
   ]
  },
  {
   "cell_type": "code",
   "execution_count": 124,
   "id": "098d004c",
   "metadata": {},
   "outputs": [
    {
     "name": "stdout",
     "output_type": "stream",
     "text": [
      "The Root Mean Squared Error for Train data = 0.29529462783317356\n",
      "The Root Mean Squared Error For Test data = 0.29529462783317356\n"
     ]
    }
   ],
   "source": [
    "print(\"The Root Mean Squared Error for Train data = \"+str(RMSE_train_DT))\n",
    "print(\"The Root Mean Squared Error For Test data = \"+str(RMSE_test_DT))"
   ]
  },
  {
   "cell_type": "code",
   "execution_count": 126,
   "id": "74412380",
   "metadata": {},
   "outputs": [
    {
     "data": {
      "text/plain": [
       "0.7072113113351701"
      ]
     },
     "execution_count": 126,
     "metadata": {},
     "output_type": "execute_result"
    }
   ],
   "source": [
    "#Calculate R^2 for train data\n",
    "from sklearn.metrics import r2_score\n",
    "r2_score(y_train,pred_train_DT)"
   ]
  },
  {
   "cell_type": "code",
   "execution_count": 127,
   "id": "641f9eba",
   "metadata": {},
   "outputs": [
    {
     "data": {
      "text/plain": [
       "0.7031435742887038"
      ]
     },
     "execution_count": 127,
     "metadata": {},
     "output_type": "execute_result"
    }
   ],
   "source": [
    "r2_score(y_test,pred_test_DT)"
   ]
  },
  {
   "cell_type": "markdown",
   "id": "19606f82",
   "metadata": {},
   "source": [
    "## Random Forest Model"
   ]
  },
  {
   "cell_type": "code",
   "execution_count": 132,
   "id": "06367a9b",
   "metadata": {},
   "outputs": [],
   "source": [
    "fit_RF = RandomForestRegressor(n_estimators=200).fit(X_train,y_train)"
   ]
  },
  {
   "cell_type": "code",
   "execution_count": 133,
   "id": "25707214",
   "metadata": {},
   "outputs": [],
   "source": [
    "#prediction on train data\n",
    "pred_train_RF = fit_RF.predict(X_train)\n",
    "\n",
    "#prediction on test data\n",
    "pred_test_RF = fit_RF.predict(X_test)\n"
   ]
  },
  {
   "cell_type": "code",
   "execution_count": 134,
   "id": "4191c628",
   "metadata": {},
   "outputs": [],
   "source": [
    "#Calculate RMSE for test data \n",
    "RMSE_test_RF = np.sqrt(mean_squared_error(y_test,pred_test_RF))\n",
    "\n",
    "#calculate RMSE for train data \n",
    "RMSE_train_RF = np.sqrt(mean_squared_error(y_train,pred_train_RF))"
   ]
  },
  {
   "cell_type": "code",
   "execution_count": 135,
   "id": "9df041e1",
   "metadata": {},
   "outputs": [
    {
     "name": "stdout",
     "output_type": "stream",
     "text": [
      "The Root Mean Squared Error for Train data = 0.29529462783317356\n",
      "The Root Mean Squared Error for Test data = 0.29529462783317356\n"
     ]
    }
   ],
   "source": [
    "print(\"The Root Mean Squared Error for Train data = \"+str(RMSE_train_DT))\n",
    "print(\"The Root Mean Squared Error for Test data = \"+str(RMSE_test_DT))"
   ]
  },
  {
   "cell_type": "code",
   "execution_count": 136,
   "id": "f955afca",
   "metadata": {},
   "outputs": [
    {
     "data": {
      "text/plain": [
       "0.9903157563413987"
      ]
     },
     "execution_count": 136,
     "metadata": {},
     "output_type": "execute_result"
    }
   ],
   "source": [
    "#Calculate R^2 for train data\n",
    "from sklearn.metrics import r2_score\n",
    "r2_score(y_train,pred_train_RF)"
   ]
  },
  {
   "cell_type": "code",
   "execution_count": 137,
   "id": "4ff036ec",
   "metadata": {},
   "outputs": [
    {
     "data": {
      "text/plain": [
       "0.9279200270597552"
      ]
     },
     "execution_count": 137,
     "metadata": {},
     "output_type": "execute_result"
    }
   ],
   "source": [
    "r2_score(y_test,pred_test_RF)"
   ]
  },
  {
   "cell_type": "markdown",
   "id": "2cbaecc8",
   "metadata": {},
   "source": [
    "## Gradient Boosting"
   ]
  },
  {
   "cell_type": "code",
   "execution_count": 141,
   "id": "f34cd364",
   "metadata": {},
   "outputs": [],
   "source": [
    "#fitting the model on the train data\n",
    "fit_GB = GradientBoostingRegressor().fit(X_train,y_train)"
   ]
  },
  {
   "cell_type": "code",
   "execution_count": 145,
   "id": "0d4d838f",
   "metadata": {},
   "outputs": [],
   "source": [
    "#prediction on train data\n",
    "pred_train_GB = fit_GB.predict(X_train)\n",
    "\n",
    "#prediction on test data\n",
    "pred_test_GB = fit_GB.predict(X_test)"
   ]
  },
  {
   "cell_type": "code",
   "execution_count": 146,
   "id": "37500359",
   "metadata": {},
   "outputs": [],
   "source": [
    "#Calculate REMS for the test data\n",
    "RMSE_test_GB = np.sqrt(mean_squared_error(y_test,pred_test_GB))\n",
    "\n",
    "#calculate RMSE for train data \n",
    "RMSE_train_GB = np.sqrt(mean_squared_error(y_train,pred_train_GB))"
   ]
  },
  {
   "cell_type": "code",
   "execution_count": 147,
   "id": "5441bc84",
   "metadata": {},
   "outputs": [
    {
     "name": "stdout",
     "output_type": "stream",
     "text": [
      "The Root Mean Squared Error for Train data = 0.22607303210681154\n",
      "The Root Mean Squared Error for Test data = 0.2339852808872061\n"
     ]
    }
   ],
   "source": [
    "print(\"The Root Mean Squared Error for Train data = \"+str(RMSE_train_GB))\n",
    "print(\"The Root Mean Squared Error for Test data = \"+str(RMSE_test_GB))"
   ]
  },
  {
   "cell_type": "code",
   "execution_count": 148,
   "id": "f52cc209",
   "metadata": {},
   "outputs": [
    {
     "data": {
      "text/plain": [
       "0.8278066611197539"
      ]
     },
     "execution_count": 148,
     "metadata": {},
     "output_type": "execute_result"
    }
   ],
   "source": [
    "#calculate R^2 for ttrain data\n",
    "from sklearn.metrics import r2_score\n",
    "r2_score(y_train,pred_train_GB)"
   ]
  },
  {
   "cell_type": "code",
   "execution_count": 149,
   "id": "33e3c146",
   "metadata": {},
   "outputs": [
    {
     "data": {
      "text/plain": [
       "0.8136143645058787"
      ]
     },
     "execution_count": 149,
     "metadata": {},
     "output_type": "execute_result"
    }
   ],
   "source": [
    "r2_score(y_test,pred_test_GB)"
   ]
  },
  {
   "cell_type": "markdown",
   "id": "81ffdb26",
   "metadata": {},
   "source": [
    "## Parameter Tuning"
   ]
  },
  {
   "cell_type": "code",
   "execution_count": 150,
   "id": "c029011c",
   "metadata": {},
   "outputs": [
    {
     "name": "stdout",
     "output_type": "stream",
     "text": [
      "Parameters currently in use:\n",
      "\n",
      "{'bootstrap': True,\n",
      " 'ccp_alpha': 0.0,\n",
      " 'criterion': 'squared_error',\n",
      " 'max_depth': None,\n",
      " 'max_features': 'auto',\n",
      " 'max_leaf_nodes': None,\n",
      " 'max_samples': None,\n",
      " 'min_impurity_decrease': 0.0,\n",
      " 'min_samples_leaf': 1,\n",
      " 'min_samples_split': 2,\n",
      " 'min_weight_fraction_leaf': 0.0,\n",
      " 'n_estimators': 100,\n",
      " 'n_jobs': None,\n",
      " 'oob_score': False,\n",
      " 'random_state': 42,\n",
      " 'verbose': 0,\n",
      " 'warm_start': False}\n"
     ]
    }
   ],
   "source": [
    "from sklearn.ensemble import RandomForestRegressor\n",
    "rf = RandomForestRegressor(random_state=42)\n",
    "from pprint import pprint\n",
    "#looking aT THE PARAMETERS BEING USED CURRENTLY\n",
    "print(\"Parameters currently in use:\\n\")\n",
    "pprint(rf.get_params())"
   ]
  },
  {
   "cell_type": "code",
   "execution_count": 159,
   "id": "58229814",
   "metadata": {},
   "outputs": [
    {
     "name": "stdout",
     "output_type": "stream",
     "text": [
      "Random Search CV Random Forest Regressor Model Performance\n",
      "Beat Parameters= {'n_estimators': 15, 'max_depth': 23}\n",
      "R-squared =0.92.\n",
      "RMSE =  0.1543047484445915\n"
     ]
    }
   ],
   "source": [
    "## Random search Cv on Random Forest\n",
    "\n",
    "RRF = RandomForestRegressor(random_state=0)\n",
    "n_estimator = list(range(1,20,2))\n",
    "depth = list(range(1,100,2))\n",
    "\n",
    "#Create the random grid\n",
    "rand_grid = {'n_estimators':n_estimator,\n",
    "            'max_depth':depth}\n",
    "\n",
    "randomcv_rf = RandomizedSearchCV(RRF,param_distributions = rand_grid,n_iter =5,cv =5,random_state=0)\n",
    "randomcv_RF = randomcv_rf.fit(X_train,y_train)\n",
    "prediction_RRF = randomcv_RF.predict(X_test)\n",
    "\n",
    "view_best_params_RRF =randomcv_RF.best_params_\n",
    "\n",
    "best_model = randomcv_RF.best_estimator_\n",
    "\n",
    "predictions_RRF = best_model.predict(X_test)\n",
    "\n",
    "#R^2\n",
    "RRF_r2 = r2_score(y_test,prediction_RRF)\n",
    "#Calculation RMSE\n",
    "RRF_rmse = np.sqrt(mean_squared_error(y_test,predictions_RRF))\n",
    "\n",
    "print(\"Random Search CV Random Forest Regressor Model Performance\")\n",
    "print(\"Beat Parameters=\",view_best_params_RRF)\n",
    "print('R-squared ={:0.2}.'.format(RRF_r2))\n",
    "print('RMSE = ',RRF_rmse)"
   ]
  },
  {
   "cell_type": "code",
   "execution_count": 160,
   "id": "6a3d71e0",
   "metadata": {
    "scrolled": true
   },
   "outputs": [
    {
     "name": "stdout",
     "output_type": "stream",
     "text": [
      "Parameters currently in use:\n",
      "\n",
      "{'alpha': 0.9,\n",
      " 'ccp_alpha': 0.0,\n",
      " 'criterion': 'friedman_mse',\n",
      " 'init': None,\n",
      " 'learning_rate': 0.1,\n",
      " 'loss': 'squared_error',\n",
      " 'max_depth': 3,\n",
      " 'max_features': None,\n",
      " 'max_leaf_nodes': None,\n",
      " 'min_impurity_decrease': 0.0,\n",
      " 'min_samples_leaf': 1,\n",
      " 'min_samples_split': 2,\n",
      " 'min_weight_fraction_leaf': 0.0,\n",
      " 'n_estimators': 100,\n",
      " 'n_iter_no_change': None,\n",
      " 'random_state': 42,\n",
      " 'subsample': 1.0,\n",
      " 'tol': 0.0001,\n",
      " 'validation_fraction': 0.1,\n",
      " 'verbose': 0,\n",
      " 'warm_start': False}\n"
     ]
    }
   ],
   "source": [
    "#applying Random Search CV on Gradient boosting Regressor\n",
    "gb = GradientBoostingRegressor(random_state=42)\n",
    "from pprint import pprint\n",
    "#looking aT THE PARAMETERS BEING USED CURRENTLY\n",
    "print(\"Parameters currently in use:\\n\")\n",
    "pprint(gb.get_params())"
   ]
  },
  {
   "cell_type": "code",
   "execution_count": 161,
   "id": "797c56ae",
   "metadata": {},
   "outputs": [
    {
     "name": "stdout",
     "output_type": "stream",
     "text": [
      "Random Search CV Random Forest Regressor Model Performance\n",
      "Beat Parameters= {'n_estimators': 15, 'max_depth': 23}\n",
      "R-squared =0.89.\n",
      "RMSE =  0.18198222579526144\n"
     ]
    }
   ],
   "source": [
    "##random Search CV on Gradient Boosting\n",
    "\n",
    "gb = GradientBoostingRegressor(random_state=0)\n",
    "n_estimator = list(range(1,20,2))\n",
    "depth = list(range(1,100,2))\n",
    "\n",
    "#Create the random grid\n",
    "rand_grid = {'n_estimators':n_estimator,\n",
    "            'max_depth':depth}\n",
    "\n",
    "randomcv_gb = RandomizedSearchCV(gb,param_distributions = rand_grid,n_iter =5,cv =5,random_state=0)\n",
    "randomcv_GB = randomcv_gb.fit(X_train,y_train)\n",
    "prediction_GB = randomcv_GB.predict(X_test)\n",
    "\n",
    "view_best_params_GB =randomcv_GB.best_params_\n",
    "\n",
    "best_model = randomcv_GB.best_estimator_\n",
    "\n",
    "predictions_GB = best_model.predict(X_test)\n",
    "\n",
    "#R^2\n",
    "GB_r2 = r2_score(y_test,prediction_GB)\n",
    "#Calculation RMSE\n",
    "GB_rmse = np.sqrt(mean_squared_error(y_test,predictions_GB))\n",
    "\n",
    "print(\"Random Search CV Random Forest Regressor Model Performance\")\n",
    "print(\"Beat Parameters=\",view_best_params_GB)\n",
    "print('R-squared ={:0.2}.'.format(GB_r2))\n",
    "print('RMSE = ',GB_rmse)"
   ]
  },
  {
   "cell_type": "code",
   "execution_count": 166,
   "id": "41cac978",
   "metadata": {},
   "outputs": [
    {
     "name": "stdout",
     "output_type": "stream",
     "text": [
      "Grid Search CV Random Forest Regressor Model Performance\n",
      "Beat Parameters= {'max_depth': 13, 'n_estimators': 19}\n",
      "R-squared =0.86.\n",
      "RMSE =  0.20148572831250408\n"
     ]
    }
   ],
   "source": [
    "#Grid Search Cv on Random Forest\n",
    "\n",
    "GRF = RandomForestRegressor(random_state=0)\n",
    "n_estimator = list(range(11,20,1))\n",
    "depth = list(range(5,15,2))\n",
    "\n",
    "#Create the grid_search\n",
    "grid_search = {'n_estimators':n_estimator,\n",
    "            'max_depth':depth}\n",
    "\n",
    "gridcv_rf = GridSearchCV(GRF,param_grid = grid_search,cv =5)\n",
    "gridcv_RF = gridcv_rf.fit(X_train,y_train)\n",
    "prediction_GRF = gridcv_RF.predict(X_test)\n",
    "\n",
    "view_best_params_GRF =gridcv_RF.best_params_\n",
    "\n",
    "best_model = gridcv_RF.best_estimator_\n",
    "\n",
    "predictions_GRF = best_model.predict(X_test)\n",
    "\n",
    "#R^2\n",
    "GRF_r2 = r2_score(y_test,prediction_GRF)\n",
    "#Calculation RMSE\n",
    "GRF_rmse = np.sqrt(mean_squared_error(y_test,predictions_GRF))\n",
    "\n",
    "print(\"Grid Search CV Random Forest Regressor Model Performance\")\n",
    "print(\"Beat Parameters=\",view_best_params_GRF)\n",
    "print('R-squared ={:0.2}.'.format(GRF_r2))\n",
    "print('RMSE = ',GRF_rmse)"
   ]
  },
  {
   "cell_type": "code",
   "execution_count": 167,
   "id": "c699c9cd",
   "metadata": {},
   "outputs": [
    {
     "name": "stdout",
     "output_type": "stream",
     "text": [
      "Grid Search CV Gradient Boosting Regressor Model Performance\n",
      "Beat Parameters= {'max_depth': 13, 'n_estimators': 19}\n",
      "R-squared =0.87.\n",
      "RMSE =  0.19584397802573814\n"
     ]
    }
   ],
   "source": [
    "#Grid Search Cv on Gradient Boosting\n",
    "\n",
    "GGB = GradientBoostingRegressor(random_state=0)\n",
    "n_estimator = list(range(11,20,1))\n",
    "depth = list(range(5,15,2))\n",
    "\n",
    "#Create the grid_search\n",
    "grid_search = {'n_estimators':n_estimator,\n",
    "            'max_depth':depth}\n",
    "\n",
    "gridcv_gb = GridSearchCV(GGB,param_grid = grid_search,cv =5)\n",
    "gridcv_GB = gridcv_gb.fit(X_train,y_train)\n",
    "prediction_GGB = gridcv_GB.predict(X_test)\n",
    "\n",
    "view_best_params_GGB =gridcv_GB.best_params_\n",
    "\n",
    "best_model = gridcv_GB.best_estimator_\n",
    "\n",
    "predictions_GGB = best_model.predict(X_test)\n",
    "\n",
    "#R^2\n",
    "GGB_r2 = r2_score(y_test,prediction_GGB)\n",
    "#Calculation RMSE\n",
    "GGB_rmse = np.sqrt(mean_squared_error(y_test,predictions_GGB))\n",
    "\n",
    "print(\"Grid Search CV Gradient Boosting Regressor Model Performance\")\n",
    "print(\"Beat Parameters=\",view_best_params_GGB)\n",
    "print('R-squared ={:0.2}.'.format(GGB_r2))\n",
    "print('RMSE = ',GGB_rmse)"
   ]
  },
  {
   "cell_type": "markdown",
   "id": "0a52ad45",
   "metadata": {},
   "source": [
    "## Prediction for the test dataset"
   ]
  },
  {
   "cell_type": "code",
   "execution_count": 171,
   "id": "74c0c3a9",
   "metadata": {},
   "outputs": [],
   "source": [
    "## Grid Search Cross Validation for Random Forest\n",
    "regr = RandomForestRegressor(random_state=0)\n",
    "n_estimator = list(range(11,20,1))\n",
    "depth = list(range(5,15,2))\n",
    "\n",
    "\n",
    "#Creating the grid\n",
    "grid_search = {'n_estimagtors':n_estimator,\n",
    "              'max_depth':depth}\n",
    "\n",
    "#Grid-Search Cross Validation For 5 fold CV\n",
    "Gridcv_rf = GridSearchCV(regr,param_grid = grid_search, cv=5)\n",
    "gridcv_RF = gridcv_rf.fit(X_train,y_train)\n",
    "view_best_params_GRF = gridcv_RF.best_params_\n",
    "\n",
    "#Applying model on thest data\n",
    "prediction_GRF_test = gridcv_RF.predict(test)"
   ]
  },
  {
   "cell_type": "code",
   "execution_count": 172,
   "id": "1ac6275d",
   "metadata": {},
   "outputs": [
    {
     "data": {
      "text/plain": [
       "array([2.46620845, 2.4867804 , 1.7197039 , ..., 4.00682831, 3.17913798,\n",
       "       1.92075828])"
      ]
     },
     "execution_count": 172,
     "metadata": {},
     "output_type": "execute_result"
    }
   ],
   "source": [
    "prediction_GRF_test"
   ]
  },
  {
   "cell_type": "code",
   "execution_count": 173,
   "id": "0d5a1b10",
   "metadata": {},
   "outputs": [],
   "source": [
    "test['Predicted_Fare'] = prediction_GRF_test"
   ]
  },
  {
   "cell_type": "code",
   "execution_count": 174,
   "id": "d16fdfd6",
   "metadata": {},
   "outputs": [
    {
     "data": {
      "text/html": [
       "<div>\n",
       "<style scoped>\n",
       "    .dataframe tbody tr th:only-of-type {\n",
       "        vertical-align: middle;\n",
       "    }\n",
       "\n",
       "    .dataframe tbody tr th {\n",
       "        vertical-align: top;\n",
       "    }\n",
       "\n",
       "    .dataframe thead th {\n",
       "        text-align: right;\n",
       "    }\n",
       "</style>\n",
       "<table border=\"1\" class=\"dataframe\">\n",
       "  <thead>\n",
       "    <tr style=\"text-align: right;\">\n",
       "      <th></th>\n",
       "      <th>passenger_count</th>\n",
       "      <th>year</th>\n",
       "      <th>Month</th>\n",
       "      <th>Date</th>\n",
       "      <th>Day</th>\n",
       "      <th>Hour</th>\n",
       "      <th>distance</th>\n",
       "      <th>Predicted_Fare</th>\n",
       "    </tr>\n",
       "  </thead>\n",
       "  <tbody>\n",
       "    <tr>\n",
       "      <th>0</th>\n",
       "      <td>1</td>\n",
       "      <td>2015</td>\n",
       "      <td>1</td>\n",
       "      <td>27</td>\n",
       "      <td>1</td>\n",
       "      <td>13</td>\n",
       "      <td>1.200946</td>\n",
       "      <td>2.466208</td>\n",
       "    </tr>\n",
       "    <tr>\n",
       "      <th>1</th>\n",
       "      <td>1</td>\n",
       "      <td>2015</td>\n",
       "      <td>1</td>\n",
       "      <td>27</td>\n",
       "      <td>1</td>\n",
       "      <td>13</td>\n",
       "      <td>1.231205</td>\n",
       "      <td>2.486780</td>\n",
       "    </tr>\n",
       "    <tr>\n",
       "      <th>2</th>\n",
       "      <td>1</td>\n",
       "      <td>2011</td>\n",
       "      <td>10</td>\n",
       "      <td>8</td>\n",
       "      <td>5</td>\n",
       "      <td>11</td>\n",
       "      <td>0.481579</td>\n",
       "      <td>1.719704</td>\n",
       "    </tr>\n",
       "    <tr>\n",
       "      <th>3</th>\n",
       "      <td>1</td>\n",
       "      <td>2012</td>\n",
       "      <td>12</td>\n",
       "      <td>1</td>\n",
       "      <td>5</td>\n",
       "      <td>21</td>\n",
       "      <td>1.085538</td>\n",
       "      <td>2.230946</td>\n",
       "    </tr>\n",
       "    <tr>\n",
       "      <th>4</th>\n",
       "      <td>1</td>\n",
       "      <td>2012</td>\n",
       "      <td>12</td>\n",
       "      <td>1</td>\n",
       "      <td>5</td>\n",
       "      <td>21</td>\n",
       "      <td>1.854312</td>\n",
       "      <td>2.949115</td>\n",
       "    </tr>\n",
       "  </tbody>\n",
       "</table>\n",
       "</div>"
      ],
      "text/plain": [
       "   passenger_count  year  Month  Date  Day  Hour  distance  Predicted_Fare\n",
       "0                1  2015      1    27    1    13  1.200946        2.466208\n",
       "1                1  2015      1    27    1    13  1.231205        2.486780\n",
       "2                1  2011     10     8    5    11  0.481579        1.719704\n",
       "3                1  2012     12     1    5    21  1.085538        2.230946\n",
       "4                1  2012     12     1    5    21  1.854312        2.949115"
      ]
     },
     "execution_count": 174,
     "metadata": {},
     "output_type": "execute_result"
    }
   ],
   "source": [
    "test.head()"
   ]
  },
  {
   "cell_type": "code",
   "execution_count": 175,
   "id": "397c7d27",
   "metadata": {},
   "outputs": [],
   "source": [
    "test.to_csv('test_cf.csv')"
   ]
  },
  {
   "cell_type": "code",
   "execution_count": null,
   "id": "bee49daf",
   "metadata": {},
   "outputs": [],
   "source": []
  }
 ],
 "metadata": {
  "kernelspec": {
   "display_name": "Python 3 (ipykernel)",
   "language": "python",
   "name": "python3"
  },
  "language_info": {
   "codemirror_mode": {
    "name": "ipython",
    "version": 3
   },
   "file_extension": ".py",
   "mimetype": "text/x-python",
   "name": "python",
   "nbconvert_exporter": "python",
   "pygments_lexer": "ipython3",
   "version": "3.9.19"
  }
 },
 "nbformat": 4,
 "nbformat_minor": 5
}
